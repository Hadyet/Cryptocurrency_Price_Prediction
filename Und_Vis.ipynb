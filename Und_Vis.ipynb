{
 "cells": [
  {
   "cell_type": "code",
   "execution_count": 230,
   "metadata": {
    "collapsed": true
   },
   "outputs": [],
   "source": [
    "import pandas as pd\n",
    "import numpy as np\n",
    "from sklearn.model_selection import train_test_split"
   ]
  },
  {
   "cell_type": "code",
   "execution_count": 231,
   "outputs": [
    {
     "name": "stdout",
     "output_type": "stream",
     "text": [
      "         Date         Open         High          Low        Close  \\\n",
      "0  2020-03-15  5201.066895  5836.645020  5169.283203  5392.314941   \n",
      "1  2020-03-16  5385.229492  5385.229492  4575.357910  5014.479980   \n",
      "2  2020-03-17  5002.578125  5371.348633  4981.909180  5225.629395   \n",
      "3  2020-03-18  5227.113770  5331.833984  5069.335938  5238.438477   \n",
      "4  2020-03-19  5245.416504  6329.735840  5236.968750  6191.192871   \n",
      "\n",
      "        Volume  Dividends  Stock Splits    names Symbol  \n",
      "0  33997889639          0             0  Bitcoin    BTC  \n",
      "1  45368026430          0             0  Bitcoin    BTC  \n",
      "2  38622642935          0             0  Bitcoin    BTC  \n",
      "3  37878801016          0             0  Bitcoin    BTC  \n",
      "4  51000731797          0             0  Bitcoin    BTC  \n"
     ]
    }
   ],
   "source": [
    "df = pd.read_csv('data_crypto.csv')#index_col='Date')\n",
    "# df = df.set_index('Date')\n",
    "print(df.head(5))"
   ],
   "metadata": {
    "collapsed": false,
    "pycharm": {
     "name": "#%%\n"
    }
   }
  },
  {
   "cell_type": "code",
   "execution_count": 232,
   "outputs": [
    {
     "name": "stdout",
     "output_type": "stream",
     "text": [
      "(14422, 10)\n"
     ]
    }
   ],
   "source": [
    "print(df.shape)"
   ],
   "metadata": {
    "collapsed": false,
    "pycharm": {
     "name": "#%%\n"
    }
   }
  },
  {
   "cell_type": "code",
   "execution_count": 233,
   "outputs": [
    {
     "data": {
      "text/plain": "         Date         Open         High          Low        Close  \\\n0  2020-03-15  5201.066895  5836.645020  5169.283203  5392.314941   \n1  2020-03-16  5385.229492  5385.229492  4575.357910  5014.479980   \n2  2020-03-17  5002.578125  5371.348633  4981.909180  5225.629395   \n3  2020-03-18  5227.113770  5331.833984  5069.335938  5238.438477   \n4  2020-03-19  5245.416504  6329.735840  5236.968750  6191.192871   \n5  2020-03-20  6191.653809  6844.261719  5865.781738  6198.778320   \n6  2020-03-21  6206.521484  6378.135254  5932.823242  6185.066406   \n7  2020-03-22  6185.558105  6359.697266  5823.713867  5830.254883   \n8  2020-03-23  5831.374512  6443.934570  5785.004395  6416.314941   \n9  2020-03-24  6436.642578  6789.022949  6411.066406  6734.803711   \n\n        Volume  Dividends  Stock Splits    names Symbol  \n0  33997889639          0             0  Bitcoin    BTC  \n1  45368026430          0             0  Bitcoin    BTC  \n2  38622642935          0             0  Bitcoin    BTC  \n3  37878801016          0             0  Bitcoin    BTC  \n4  51000731797          0             0  Bitcoin    BTC  \n5  54442976103          0             0  Bitcoin    BTC  \n6  42494390880          0             0  Bitcoin    BTC  \n7  40099664740          0             0  Bitcoin    BTC  \n8  46491916000          0             0  Bitcoin    BTC  \n9  48221910672          0             0  Bitcoin    BTC  ",
      "text/html": "<div>\n<style scoped>\n    .dataframe tbody tr th:only-of-type {\n        vertical-align: middle;\n    }\n\n    .dataframe tbody tr th {\n        vertical-align: top;\n    }\n\n    .dataframe thead th {\n        text-align: right;\n    }\n</style>\n<table border=\"1\" class=\"dataframe\">\n  <thead>\n    <tr style=\"text-align: right;\">\n      <th></th>\n      <th>Date</th>\n      <th>Open</th>\n      <th>High</th>\n      <th>Low</th>\n      <th>Close</th>\n      <th>Volume</th>\n      <th>Dividends</th>\n      <th>Stock Splits</th>\n      <th>names</th>\n      <th>Symbol</th>\n    </tr>\n  </thead>\n  <tbody>\n    <tr>\n      <th>0</th>\n      <td>2020-03-15</td>\n      <td>5201.066895</td>\n      <td>5836.645020</td>\n      <td>5169.283203</td>\n      <td>5392.314941</td>\n      <td>33997889639</td>\n      <td>0</td>\n      <td>0</td>\n      <td>Bitcoin</td>\n      <td>BTC</td>\n    </tr>\n    <tr>\n      <th>1</th>\n      <td>2020-03-16</td>\n      <td>5385.229492</td>\n      <td>5385.229492</td>\n      <td>4575.357910</td>\n      <td>5014.479980</td>\n      <td>45368026430</td>\n      <td>0</td>\n      <td>0</td>\n      <td>Bitcoin</td>\n      <td>BTC</td>\n    </tr>\n    <tr>\n      <th>2</th>\n      <td>2020-03-17</td>\n      <td>5002.578125</td>\n      <td>5371.348633</td>\n      <td>4981.909180</td>\n      <td>5225.629395</td>\n      <td>38622642935</td>\n      <td>0</td>\n      <td>0</td>\n      <td>Bitcoin</td>\n      <td>BTC</td>\n    </tr>\n    <tr>\n      <th>3</th>\n      <td>2020-03-18</td>\n      <td>5227.113770</td>\n      <td>5331.833984</td>\n      <td>5069.335938</td>\n      <td>5238.438477</td>\n      <td>37878801016</td>\n      <td>0</td>\n      <td>0</td>\n      <td>Bitcoin</td>\n      <td>BTC</td>\n    </tr>\n    <tr>\n      <th>4</th>\n      <td>2020-03-19</td>\n      <td>5245.416504</td>\n      <td>6329.735840</td>\n      <td>5236.968750</td>\n      <td>6191.192871</td>\n      <td>51000731797</td>\n      <td>0</td>\n      <td>0</td>\n      <td>Bitcoin</td>\n      <td>BTC</td>\n    </tr>\n    <tr>\n      <th>5</th>\n      <td>2020-03-20</td>\n      <td>6191.653809</td>\n      <td>6844.261719</td>\n      <td>5865.781738</td>\n      <td>6198.778320</td>\n      <td>54442976103</td>\n      <td>0</td>\n      <td>0</td>\n      <td>Bitcoin</td>\n      <td>BTC</td>\n    </tr>\n    <tr>\n      <th>6</th>\n      <td>2020-03-21</td>\n      <td>6206.521484</td>\n      <td>6378.135254</td>\n      <td>5932.823242</td>\n      <td>6185.066406</td>\n      <td>42494390880</td>\n      <td>0</td>\n      <td>0</td>\n      <td>Bitcoin</td>\n      <td>BTC</td>\n    </tr>\n    <tr>\n      <th>7</th>\n      <td>2020-03-22</td>\n      <td>6185.558105</td>\n      <td>6359.697266</td>\n      <td>5823.713867</td>\n      <td>5830.254883</td>\n      <td>40099664740</td>\n      <td>0</td>\n      <td>0</td>\n      <td>Bitcoin</td>\n      <td>BTC</td>\n    </tr>\n    <tr>\n      <th>8</th>\n      <td>2020-03-23</td>\n      <td>5831.374512</td>\n      <td>6443.934570</td>\n      <td>5785.004395</td>\n      <td>6416.314941</td>\n      <td>46491916000</td>\n      <td>0</td>\n      <td>0</td>\n      <td>Bitcoin</td>\n      <td>BTC</td>\n    </tr>\n    <tr>\n      <th>9</th>\n      <td>2020-03-24</td>\n      <td>6436.642578</td>\n      <td>6789.022949</td>\n      <td>6411.066406</td>\n      <td>6734.803711</td>\n      <td>48221910672</td>\n      <td>0</td>\n      <td>0</td>\n      <td>Bitcoin</td>\n      <td>BTC</td>\n    </tr>\n  </tbody>\n</table>\n</div>"
     },
     "execution_count": 233,
     "metadata": {},
     "output_type": "execute_result"
    }
   ],
   "source": [
    "new_data =df #.drop(['Dividends','Stock Splits'], axis=1)\n",
    "new_data.head(10)"
   ],
   "metadata": {
    "collapsed": false,
    "pycharm": {
     "name": "#%%\n"
    }
   }
  },
  {
   "cell_type": "code",
   "execution_count": 234,
   "outputs": [
    {
     "name": "stdout",
     "output_type": "stream",
     "text": [
      "\n",
      "Total number of empty rows \n",
      ": 0\n"
     ]
    }
   ],
   "source": [
    "df.isna()\n",
    "nun = df[df.isna().any(axis=1)]\n",
    "# print(nun)\n",
    "print('\\nTotal number of empty rows \\n:', len(nun))"
   ],
   "metadata": {
    "collapsed": false,
    "pycharm": {
     "name": "#%%\n"
    }
   }
  },
  {
   "cell_type": "markdown",
   "source": [
    "\n",
    "CLOSE PRICE VISUALIZATION ON ALL 20 COINS"
   ],
   "metadata": {
    "collapsed": false
   }
  },
  {
   "cell_type": "markdown",
   "source": [],
   "metadata": {
    "collapsed": false
   }
  },
  {
   "cell_type": "code",
   "execution_count": 235,
   "outputs": [
    {
     "name": "stderr",
     "output_type": "stream",
     "text": [
      "/var/folders/__/q4wgyz5d73s4mcfkj80mdcv00000gn/T/ipykernel_1853/2480920527.py:17: MatplotlibDeprecationWarning:\n",
      "\n",
      "Support for passing numbers through unit converters is deprecated since 3.5 and support will be removed two minor releases later; use Axis.convert_units instead.\n",
      "\n",
      "/var/folders/__/q4wgyz5d73s4mcfkj80mdcv00000gn/T/ipykernel_1853/2480920527.py:17: MatplotlibDeprecationWarning:\n",
      "\n",
      "Support for passing numbers through unit converters is deprecated since 3.5 and support will be removed two minor releases later; use Axis.convert_units instead.\n",
      "\n",
      "/var/folders/__/q4wgyz5d73s4mcfkj80mdcv00000gn/T/ipykernel_1853/2480920527.py:17: MatplotlibDeprecationWarning:\n",
      "\n",
      "Support for passing numbers through unit converters is deprecated since 3.5 and support will be removed two minor releases later; use Axis.convert_units instead.\n",
      "\n",
      "/var/folders/__/q4wgyz5d73s4mcfkj80mdcv00000gn/T/ipykernel_1853/2480920527.py:17: MatplotlibDeprecationWarning:\n",
      "\n",
      "Support for passing numbers through unit converters is deprecated since 3.5 and support will be removed two minor releases later; use Axis.convert_units instead.\n",
      "\n",
      "/var/folders/__/q4wgyz5d73s4mcfkj80mdcv00000gn/T/ipykernel_1853/2480920527.py:17: MatplotlibDeprecationWarning:\n",
      "\n",
      "Support for passing numbers through unit converters is deprecated since 3.5 and support will be removed two minor releases later; use Axis.convert_units instead.\n",
      "\n",
      "/var/folders/__/q4wgyz5d73s4mcfkj80mdcv00000gn/T/ipykernel_1853/2480920527.py:17: MatplotlibDeprecationWarning:\n",
      "\n",
      "Support for passing numbers through unit converters is deprecated since 3.5 and support will be removed two minor releases later; use Axis.convert_units instead.\n",
      "\n",
      "/var/folders/__/q4wgyz5d73s4mcfkj80mdcv00000gn/T/ipykernel_1853/2480920527.py:17: MatplotlibDeprecationWarning:\n",
      "\n",
      "Support for passing numbers through unit converters is deprecated since 3.5 and support will be removed two minor releases later; use Axis.convert_units instead.\n",
      "\n",
      "/var/folders/__/q4wgyz5d73s4mcfkj80mdcv00000gn/T/ipykernel_1853/2480920527.py:17: MatplotlibDeprecationWarning:\n",
      "\n",
      "Support for passing numbers through unit converters is deprecated since 3.5 and support will be removed two minor releases later; use Axis.convert_units instead.\n",
      "\n",
      "/var/folders/__/q4wgyz5d73s4mcfkj80mdcv00000gn/T/ipykernel_1853/2480920527.py:17: MatplotlibDeprecationWarning:\n",
      "\n",
      "Support for passing numbers through unit converters is deprecated since 3.5 and support will be removed two minor releases later; use Axis.convert_units instead.\n",
      "\n",
      "/var/folders/__/q4wgyz5d73s4mcfkj80mdcv00000gn/T/ipykernel_1853/2480920527.py:17: MatplotlibDeprecationWarning:\n",
      "\n",
      "Support for passing numbers through unit converters is deprecated since 3.5 and support will be removed two minor releases later; use Axis.convert_units instead.\n",
      "\n",
      "/var/folders/__/q4wgyz5d73s4mcfkj80mdcv00000gn/T/ipykernel_1853/2480920527.py:17: MatplotlibDeprecationWarning:\n",
      "\n",
      "Support for passing numbers through unit converters is deprecated since 3.5 and support will be removed two minor releases later; use Axis.convert_units instead.\n",
      "\n",
      "/var/folders/__/q4wgyz5d73s4mcfkj80mdcv00000gn/T/ipykernel_1853/2480920527.py:17: MatplotlibDeprecationWarning:\n",
      "\n",
      "Support for passing numbers through unit converters is deprecated since 3.5 and support will be removed two minor releases later; use Axis.convert_units instead.\n",
      "\n",
      "/var/folders/__/q4wgyz5d73s4mcfkj80mdcv00000gn/T/ipykernel_1853/2480920527.py:17: MatplotlibDeprecationWarning:\n",
      "\n",
      "Support for passing numbers through unit converters is deprecated since 3.5 and support will be removed two minor releases later; use Axis.convert_units instead.\n",
      "\n",
      "/var/folders/__/q4wgyz5d73s4mcfkj80mdcv00000gn/T/ipykernel_1853/2480920527.py:17: MatplotlibDeprecationWarning:\n",
      "\n",
      "Support for passing numbers through unit converters is deprecated since 3.5 and support will be removed two minor releases later; use Axis.convert_units instead.\n",
      "\n",
      "/var/folders/__/q4wgyz5d73s4mcfkj80mdcv00000gn/T/ipykernel_1853/2480920527.py:17: MatplotlibDeprecationWarning:\n",
      "\n",
      "Support for passing numbers through unit converters is deprecated since 3.5 and support will be removed two minor releases later; use Axis.convert_units instead.\n",
      "\n",
      "/var/folders/__/q4wgyz5d73s4mcfkj80mdcv00000gn/T/ipykernel_1853/2480920527.py:17: MatplotlibDeprecationWarning:\n",
      "\n",
      "Support for passing numbers through unit converters is deprecated since 3.5 and support will be removed two minor releases later; use Axis.convert_units instead.\n",
      "\n",
      "/var/folders/__/q4wgyz5d73s4mcfkj80mdcv00000gn/T/ipykernel_1853/2480920527.py:17: MatplotlibDeprecationWarning:\n",
      "\n",
      "Support for passing numbers through unit converters is deprecated since 3.5 and support will be removed two minor releases later; use Axis.convert_units instead.\n",
      "\n",
      "/var/folders/__/q4wgyz5d73s4mcfkj80mdcv00000gn/T/ipykernel_1853/2480920527.py:17: MatplotlibDeprecationWarning:\n",
      "\n",
      "Support for passing numbers through unit converters is deprecated since 3.5 and support will be removed two minor releases later; use Axis.convert_units instead.\n",
      "\n",
      "/var/folders/__/q4wgyz5d73s4mcfkj80mdcv00000gn/T/ipykernel_1853/2480920527.py:17: MatplotlibDeprecationWarning:\n",
      "\n",
      "Support for passing numbers through unit converters is deprecated since 3.5 and support will be removed two minor releases later; use Axis.convert_units instead.\n",
      "\n"
     ]
    },
    {
     "data": {
      "text/plain": "<Figure size 1296x1152 with 19 Axes>",
      "image/png": "[encoded data removed]"
     },
     "metadata": {
      "needs_background": "light"
     },
     "output_type": "display_data"
    }
   ],
   "source": [
    "import matplotlib.pyplot as plt\n",
    "columns=['Date',\"Close\",'names', ]\n",
    "new_data= pd.DataFrame(new_data, columns=columns)\n",
    "# new_data\n",
    "res = new_data.pivot(index='Date', columns=['names'], values='Close')  #index='Date',\n",
    "# res\n",
    "cryptocurrency_raw_df = res.copy()\n",
    "coin_list = list(res.columns)[1:]\n",
    "coin = coin_list[0]\n",
    "fig = plt.figure(figsize=(18,16))\n",
    "fig.suptitle('Close price  of 20 coins (Original)', fontsize=16, y = 0.92)\n",
    "for i in range(len(coin_list)):\n",
    "    coin = coin_list[i]\n",
    "    plt.subplot(4, 5, i+1)\n",
    "    plt.plot(res[coin], color = 'C1')\n",
    "    plt.title(coin)\n",
    "    plt.xticks([])\n",
    "plt.show()"
   ],
   "metadata": {
    "collapsed": false,
    "pycharm": {
     "name": "#%%\n"
    }
   }
  },
  {
   "cell_type": "markdown",
   "source": [
    "DROPPING COLUMNS WITH 0 VALUES AND IRRELEVANCES"
   ],
   "metadata": {
    "collapsed": false
   }
  },
  {
   "cell_type": "code",
   "execution_count": 236,
   "outputs": [],
   "source": [
    "df = df.drop(['Stock Splits', 'Dividends', 'names', ], axis=1)"
   ],
   "metadata": {
    "collapsed": false,
    "pycharm": {
     "name": "#%%\n"
    }
   }
  },
  {
   "cell_type": "code",
   "execution_count": 237,
   "outputs": [
    {
     "name": "stdout",
     "output_type": "stream",
     "text": [
      "(14422, 7)\n"
     ]
    }
   ],
   "source": [
    "print(df.shape)"
   ],
   "metadata": {
    "collapsed": false,
    "pycharm": {
     "name": "#%%\n"
    }
   }
  },
  {
   "cell_type": "code",
   "execution_count": 238,
   "outputs": [
    {
     "name": "stdout",
     "output_type": "stream",
     "text": [
      "Date       object\n",
      "Open      float64\n",
      "High      float64\n",
      "Low       float64\n",
      "Close     float64\n",
      "Volume      int64\n",
      "Symbol     object\n",
      "dtype: object\n"
     ]
    }
   ],
   "source": [
    "print(df.dtypes)"
   ],
   "metadata": {
    "collapsed": false,
    "pycharm": {
     "name": "#%%\n"
    }
   }
  },
  {
   "cell_type": "code",
   "execution_count": 239,
   "outputs": [
    {
     "data": {
      "text/plain": "               Open          High           Low         Close        Volume\ncount  14422.000000  14422.000000  14422.000000  14422.000000  1.442200e+04\nmean    1782.688152   1832.110727   1727.972252   1784.919828  1.910740e+10\nstd     8257.248110   8477.273564   8007.130784   8261.187093  9.497176e+11\nmin        0.000074      0.000077      0.000069      0.000074  0.000000e+00\n25%        0.224502      0.235127      0.215534      0.225106  2.220536e+08\n50%        2.649075      2.774588      2.555822      2.657964  1.029424e+09\n75%       42.733231     44.295573     41.279262     42.777441  3.610410e+09\nmax    67549.734375  68789.625000  66382.062500  67566.828125  8.325207e+13",
      "text/html": "<div>\n<style scoped>\n    .dataframe tbody tr th:only-of-type {\n        vertical-align: middle;\n    }\n\n    .dataframe tbody tr th {\n        vertical-align: top;\n    }\n\n    .dataframe thead th {\n        text-align: right;\n    }\n</style>\n<table border=\"1\" class=\"dataframe\">\n  <thead>\n    <tr style=\"text-align: right;\">\n      <th></th>\n      <th>Open</th>\n      <th>High</th>\n      <th>Low</th>\n      <th>Close</th>\n      <th>Volume</th>\n    </tr>\n  </thead>\n  <tbody>\n    <tr>\n      <th>count</th>\n      <td>14422.000000</td>\n      <td>14422.000000</td>\n      <td>14422.000000</td>\n      <td>14422.000000</td>\n      <td>1.442200e+04</td>\n    </tr>\n    <tr>\n      <th>mean</th>\n      <td>1782.688152</td>\n      <td>1832.110727</td>\n      <td>1727.972252</td>\n      <td>1784.919828</td>\n      <td>1.910740e+10</td>\n    </tr>\n    <tr>\n      <th>std</th>\n      <td>8257.248110</td>\n      <td>8477.273564</td>\n      <td>8007.130784</td>\n      <td>8261.187093</td>\n      <td>9.497176e+11</td>\n    </tr>\n    <tr>\n      <th>min</th>\n      <td>0.000074</td>\n      <td>0.000077</td>\n      <td>0.000069</td>\n      <td>0.000074</td>\n      <td>0.000000e+00</td>\n    </tr>\n    <tr>\n      <th>25%</th>\n      <td>0.224502</td>\n      <td>0.235127</td>\n      <td>0.215534</td>\n      <td>0.225106</td>\n      <td>2.220536e+08</td>\n    </tr>\n    <tr>\n      <th>50%</th>\n      <td>2.649075</td>\n      <td>2.774588</td>\n      <td>2.555822</td>\n      <td>2.657964</td>\n      <td>1.029424e+09</td>\n    </tr>\n    <tr>\n      <th>75%</th>\n      <td>42.733231</td>\n      <td>44.295573</td>\n      <td>41.279262</td>\n      <td>42.777441</td>\n      <td>3.610410e+09</td>\n    </tr>\n    <tr>\n      <th>max</th>\n      <td>67549.734375</td>\n      <td>68789.625000</td>\n      <td>66382.062500</td>\n      <td>67566.828125</td>\n      <td>8.325207e+13</td>\n    </tr>\n  </tbody>\n</table>\n</div>"
     },
     "execution_count": 239,
     "metadata": {},
     "output_type": "execute_result"
    }
   ],
   "source": [
    "df.describe()"
   ],
   "metadata": {
    "collapsed": false,
    "pycharm": {
     "name": "#%%\n"
    }
   }
  },
  {
   "cell_type": "markdown",
   "source": [
    "UNIVARIATE ANALYSIS"
   ],
   "metadata": {
    "collapsed": false,
    "pycharm": {
     "name": "#%% md\n"
    }
   }
  },
  {
   "cell_type": "code",
   "execution_count": 240,
   "outputs": [
    {
     "data": {
      "text/plain": "<Figure size 792x792 with 6 Axes>",
      "image/png": "[encoded data removed]"
     },
     "metadata": {
      "needs_background": "light"
     },
     "output_type": "display_data"
    }
   ],
   "source": [
    "df.hist(figsize=(11,11))\n",
    "plt.show()"
   ],
   "metadata": {
    "collapsed": false,
    "pycharm": {
     "name": "#%%\n"
    }
   }
  },
  {
   "cell_type": "code",
   "execution_count": 241,
   "outputs": [
    {
     "name": "stderr",
     "output_type": "stream",
     "text": [
      "/var/folders/__/q4wgyz5d73s4mcfkj80mdcv00000gn/T/ipykernel_1853/547062910.py:1: FutureWarning:\n",
      "\n",
      "Dropping of nuisance columns in DataFrame reductions (with 'numeric_only=None') is deprecated; in a future version this will raise TypeError.  Select only valid columns before calling the reduction.\n",
      "\n"
     ]
    },
    {
     "data": {
      "text/plain": "Open       5.466771\nHigh       5.454034\nLow        5.476315\nClose      5.460316\nVolume    84.990475\ndtype: float64"
     },
     "execution_count": 241,
     "metadata": {},
     "output_type": "execute_result"
    }
   ],
   "source": [
    "df.skew()"
   ],
   "metadata": {
    "collapsed": false,
    "pycharm": {
     "name": "#%%\n"
    }
   }
  },
  {
   "cell_type": "code",
   "execution_count": 242,
   "outputs": [
    {
     "data": {
      "text/plain": "<AxesSubplot:>"
     },
     "execution_count": 242,
     "metadata": {},
     "output_type": "execute_result"
    },
    {
     "data": {
      "text/plain": "<Figure size 432x288 with 1 Axes>",
      "image/png": "[encoded data removed]"
     },
     "metadata": {
      "needs_background": "light"
     },
     "output_type": "display_data"
    }
   ],
   "source": [
    "df.boxplot(column='Open')"
   ],
   "metadata": {
    "collapsed": false,
    "pycharm": {
     "name": "#%%\n"
    }
   }
  },
  {
   "cell_type": "code",
   "execution_count": 243,
   "outputs": [
    {
     "data": {
      "text/plain": "<AxesSubplot:>"
     },
     "execution_count": 243,
     "metadata": {},
     "output_type": "execute_result"
    },
    {
     "data": {
      "text/plain": "<Figure size 432x288 with 1 Axes>",
      "image/png": "[encoded data removed]"
     },
     "metadata": {
      "needs_background": "light"
     },
     "output_type": "display_data"
    }
   ],
   "source": [
    "df.boxplot(column='Low')"
   ],
   "metadata": {
    "collapsed": false,
    "pycharm": {
     "name": "#%%\n"
    }
   }
  },
  {
   "cell_type": "code",
   "execution_count": 244,
   "outputs": [
    {
     "data": {
      "text/plain": "<AxesSubplot:>"
     },
     "execution_count": 244,
     "metadata": {},
     "output_type": "execute_result"
    },
    {
     "data": {
      "text/plain": "<Figure size 432x288 with 1 Axes>",
      "image/png": "[encoded data removed]"
     },
     "metadata": {
      "needs_background": "light"
     },
     "output_type": "display_data"
    }
   ],
   "source": [
    "df.boxplot('High')"
   ],
   "metadata": {
    "collapsed": false,
    "pycharm": {
     "name": "#%%\n"
    }
   }
  },
  {
   "cell_type": "code",
   "execution_count": 245,
   "outputs": [
    {
     "data": {
      "text/plain": "<AxesSubplot:>"
     },
     "execution_count": 245,
     "metadata": {},
     "output_type": "execute_result"
    },
    {
     "data": {
      "text/plain": "<Figure size 432x288 with 1 Axes>",
      "image/png": "[encoded data removed]"
     },
     "metadata": {
      "needs_background": "light"
     },
     "output_type": "display_data"
    }
   ],
   "source": [
    "df.boxplot('Volume')"
   ],
   "metadata": {
    "collapsed": false,
    "pycharm": {
     "name": "#%%\n"
    }
   }
  },
  {
   "cell_type": "code",
   "execution_count": 246,
   "outputs": [
    {
     "data": {
      "text/plain": "<AxesSubplot:>"
     },
     "execution_count": 246,
     "metadata": {},
     "output_type": "execute_result"
    },
    {
     "data": {
      "text/plain": "<Figure size 432x288 with 1 Axes>",
      "image/png": "[encoded data removed]"
     },
     "metadata": {
      "needs_background": "light"
     },
     "output_type": "display_data"
    }
   ],
   "source": [
    "df.boxplot('Close')"
   ],
   "metadata": {
    "collapsed": false,
    "pycharm": {
     "name": "#%%\n"
    }
   }
  },
  {
   "cell_type": "markdown",
   "source": [
    "MULTIVARIATE ANALYSIS"
   ],
   "metadata": {
    "collapsed": false,
    "pycharm": {
     "name": "#%% md\n"
    }
   }
  },
  {
   "cell_type": "code",
   "execution_count": 247,
   "outputs": [
    {
     "data": {
      "text/plain": "<Figure size 432x288 with 2 Axes>",
      "image/png": "[encoded data removed]"
     },
     "metadata": {
      "needs_background": "light"
     },
     "output_type": "display_data"
    }
   ],
   "source": [
    "import seaborn as sns\n",
    "corrMatrix = df.corr()\n",
    "sns.heatmap(corrMatrix,center=0, vmin=-1, vmax=1,cmap='magma', annot=True)\n",
    "plt.show()"
   ],
   "metadata": {
    "collapsed": false,
    "pycharm": {
     "name": "#%%\n"
    }
   }
  },
  {
   "cell_type": "code",
   "execution_count": 248,
   "outputs": [
    {
     "name": "stdout",
     "output_type": "stream",
     "text": [
      "            Open      High       Low     Close    Volume\n",
      "Open    1.000000  0.999684  0.999407  0.999207  0.004898\n",
      "High    0.999684  1.000000  0.999376  0.999659  0.004926\n",
      "Low     0.999407  0.999376  1.000000  0.999589  0.004836\n",
      "Close   0.999207  0.999659  0.999589  1.000000  0.004889\n",
      "Volume  0.004898  0.004926  0.004836  0.004889  1.000000\n"
     ]
    }
   ],
   "source": [
    "#Pinting attributes correlation values\n",
    "print(df.corr())"
   ],
   "metadata": {
    "collapsed": false,
    "pycharm": {
     "name": "#%%\n"
    }
   }
  },
  {
   "cell_type": "markdown",
   "source": [],
   "metadata": {
    "collapsed": false
   }
  },
  {
   "cell_type": "markdown",
   "source": [
    "## ordinal encoding-----mapping desired order with a dictionary\n"
   ],
   "metadata": {
    "collapsed": false
   }
  },
  {
   "cell_type": "code",
   "execution_count": 249,
   "outputs": [
    {
     "data": {
      "text/plain": "             Date         Open         High          Low        Close  \\\n0      2020-03-15  5201.066895  5836.645020  5169.283203  5392.314941   \n1      2020-03-16  5385.229492  5385.229492  4575.357910  5014.479980   \n2      2020-03-17  5002.578125  5371.348633  4981.909180  5225.629395   \n3      2020-03-18  5227.113770  5331.833984  5069.335938  5238.438477   \n4      2020-03-19  5245.416504  6329.735840  5236.968750  6191.192871   \n...           ...          ...          ...          ...          ...   \n14417  2022-03-11    28.047722    28.389145    27.091694    27.528900   \n14418  2022-03-12    27.527025    28.227278    27.215895    27.219019   \n14419  2022-03-13    27.215071    27.495592    26.077883    26.297186   \n14420  2022-03-14    26.296465    27.120045    25.862419    26.839888   \n14421  2022-03-15    26.837160    27.666176    26.222807    26.909143   \n\n            Volume  Symbol  \n0      33997889639       1  \n1      45368026430       1  \n2      38622642935       1  \n3      37878801016       1  \n4      51000731797       1  \n...            ...     ...  \n14417    726368611      20  \n14418    364317099      20  \n14419    454952669      20  \n14420    605644543      20  \n14421    762055544      20  \n\n[14422 rows x 7 columns]",
      "text/html": "<div>\n<style scoped>\n    .dataframe tbody tr th:only-of-type {\n        vertical-align: middle;\n    }\n\n    .dataframe tbody tr th {\n        vertical-align: top;\n    }\n\n    .dataframe thead th {\n        text-align: right;\n    }\n</style>\n<table border=\"1\" class=\"dataframe\">\n  <thead>\n    <tr style=\"text-align: right;\">\n      <th></th>\n      <th>Date</th>\n      <th>Open</th>\n      <th>High</th>\n      <th>Low</th>\n      <th>Close</th>\n      <th>Volume</th>\n      <th>Symbol</th>\n    </tr>\n  </thead>\n  <tbody>\n    <tr>\n      <th>0</th>\n      <td>2020-03-15</td>\n      <td>5201.066895</td>\n      <td>5836.645020</td>\n      <td>5169.283203</td>\n      <td>5392.314941</td>\n      <td>33997889639</td>\n      <td>1</td>\n    </tr>\n    <tr>\n      <th>1</th>\n      <td>2020-03-16</td>\n      <td>5385.229492</td>\n      <td>5385.229492</td>\n      <td>4575.357910</td>\n      <td>5014.479980</td>\n      <td>45368026430</td>\n      <td>1</td>\n    </tr>\n    <tr>\n      <th>2</th>\n      <td>2020-03-17</td>\n      <td>5002.578125</td>\n      <td>5371.348633</td>\n      <td>4981.909180</td>\n      <td>5225.629395</td>\n      <td>38622642935</td>\n      <td>1</td>\n    </tr>\n    <tr>\n      <th>3</th>\n      <td>2020-03-18</td>\n      <td>5227.113770</td>\n      <td>5331.833984</td>\n      <td>5069.335938</td>\n      <td>5238.438477</td>\n      <td>37878801016</td>\n      <td>1</td>\n    </tr>\n    <tr>\n      <th>4</th>\n      <td>2020-03-19</td>\n      <td>5245.416504</td>\n      <td>6329.735840</td>\n      <td>5236.968750</td>\n      <td>6191.192871</td>\n      <td>51000731797</td>\n      <td>1</td>\n    </tr>\n    <tr>\n      <th>...</th>\n      <td>...</td>\n      <td>...</td>\n      <td>...</td>\n      <td>...</td>\n      <td>...</td>\n      <td>...</td>\n      <td>...</td>\n    </tr>\n    <tr>\n      <th>14417</th>\n      <td>2022-03-11</td>\n      <td>28.047722</td>\n      <td>28.389145</td>\n      <td>27.091694</td>\n      <td>27.528900</td>\n      <td>726368611</td>\n      <td>20</td>\n    </tr>\n    <tr>\n      <th>14418</th>\n      <td>2022-03-12</td>\n      <td>27.527025</td>\n      <td>28.227278</td>\n      <td>27.215895</td>\n      <td>27.219019</td>\n      <td>364317099</td>\n      <td>20</td>\n    </tr>\n    <tr>\n      <th>14419</th>\n      <td>2022-03-13</td>\n      <td>27.215071</td>\n      <td>27.495592</td>\n      <td>26.077883</td>\n      <td>26.297186</td>\n      <td>454952669</td>\n      <td>20</td>\n    </tr>\n    <tr>\n      <th>14420</th>\n      <td>2022-03-14</td>\n      <td>26.296465</td>\n      <td>27.120045</td>\n      <td>25.862419</td>\n      <td>26.839888</td>\n      <td>605644543</td>\n      <td>20</td>\n    </tr>\n    <tr>\n      <th>14421</th>\n      <td>2022-03-15</td>\n      <td>26.837160</td>\n      <td>27.666176</td>\n      <td>26.222807</td>\n      <td>26.909143</td>\n      <td>762055544</td>\n      <td>20</td>\n    </tr>\n  </tbody>\n</table>\n<p>14422 rows × 7 columns</p>\n</div>"
     },
     "execution_count": 249,
     "metadata": {},
     "output_type": "execute_result"
    }
   ],
   "source": [
    "coins_dict= {'BTC':1,'ETH':2,'ADA':3, 'BNB':4,'USDT':5,'DOT':6,'XRP':7,'UNI':8,'LTC':9, 'LINK':10,\n",
    "           'BCH':11,'USDC':12,'XLM':13,'THETA':14,'XTZ':15,'DOGE':16,'LUNA':17, 'FIL':18,'VET':19,'ATOM':20}\n",
    "\n",
    "\n",
    "\n",
    "# assigning the values\n",
    "df['Symbol'] = df.Symbol.map(coins_dict)\n",
    "df"
   ],
   "metadata": {
    "collapsed": false,
    "pycharm": {
     "name": "#%%\n"
    }
   }
  },
  {
   "cell_type": "code",
   "source": [
    "#Splitting into dependent and independent data\n",
    "X = df.drop(['Date','Close','Symbol'], axis=1)\n",
    "y = df['Close']"
   ],
   "metadata": {
    "collapsed": false,
    "pycharm": {
     "name": "#%%\n"
    }
   },
   "execution_count": 250,
   "outputs": []
  },
  {
   "cell_type": "code",
   "execution_count": 251,
   "outputs": [
    {
     "data": {
      "text/plain": "<Figure size 432x288 with 1 Axes>",
      "image/png": "[encoded data removed]"
     },
     "metadata": {
      "needs_background": "light"
     },
     "output_type": "display_data"
    }
   ],
   "source": [
    "#FEATURE IMPORTANCE\n",
    "from sklearn.ensemble import RandomForestRegressor\n",
    "\n",
    "model = RandomForestRegressor(random_state=1, max_depth=4) # declaring random forest model\n",
    "model.fit(X, y)\n",
    "train_features = X.columns\n",
    "importance = model.feature_importances_\n",
    "imp = np.argsort(importance)[-11:] #Top 10 features\n",
    "plt.title('Feature Importances')\n",
    "plt.barh(range(len(imp)), importance[imp],color='b', align='center')\n",
    "plt.yticks(range(len(imp)), [train_features[i] for i in imp])\n",
    "plt.xlabel('Relative Importance')\n",
    "plt.show()"
   ],
   "metadata": {
    "collapsed": false,
    "pycharm": {
     "name": "#%%\n"
    }
   }
  },
  {
   "cell_type": "code",
   "execution_count": 252,
   "outputs": [
    {
     "name": "stdout",
     "output_type": "stream",
     "text": [
      "['Open', 'High', 'Low']\n"
     ]
    }
   ],
   "source": [
    "# FORWARD FEATURE ELIMINATION.... We start training with one features and subsequently increase the no. of features\n",
    "from sklearn.feature_selection import f_regression\n",
    "\n",
    "\n",
    "#declare d model\n",
    "ffe = f_regression(X, y)  # Using target as dependent variable\n",
    "vari = []\n",
    "for i in range(0, len(X.columns) - 1):\n",
    "    if ffe[0][i] > 10:  # Checking variable importance over 10 percent\n",
    "        vari.append(X.columns[i])\n",
    "print(vari)"
   ],
   "metadata": {
    "collapsed": false,
    "pycharm": {
     "name": "#%%\n"
    }
   }
  },
  {
   "cell_type": "code",
   "execution_count": 253,
   "outputs": [],
   "source": [
    "# Dropping volume from independent  data\n",
    "X_new =X.drop(['Volume'], axis=1)"
   ],
   "metadata": {
    "collapsed": false,
    "pycharm": {
     "name": "#%%\n"
    }
   }
  },
  {
   "cell_type": "code",
   "execution_count": 254,
   "outputs": [
    {
     "name": "stdout",
     "output_type": "stream",
     "text": [
      "(11537, 3)\n",
      "(2885, 3)\n",
      "(11537,)\n",
      "(2885,)\n"
     ]
    }
   ],
   "source": [
    "X_train, X_test, y_train, y_test = train_test_split(X_new, y, test_size=0.2, random_state=1)\n",
    "print(X_train.shape)\n",
    "print(X_test.shape)\n",
    "print(y_train.shape)\n",
    "print(y_test.shape)"
   ],
   "metadata": {
    "collapsed": false,
    "pycharm": {
     "name": "#%%\n"
    }
   }
  },
  {
   "cell_type": "code",
   "execution_count": 255,
   "outputs": [
    {
     "name": "stdout",
     "output_type": "stream",
     "text": [
      "12731       51.307907\n",
      "14390       27.043846\n",
      "8754         0.083808\n",
      "12315       13.718911\n",
      "2611       624.563293\n",
      "             ...     \n",
      "7957         1.000145\n",
      "10141        2.372494\n",
      "240      15290.902344\n",
      "197      10709.652344\n",
      "2452        30.117603\n",
      "Name: Close, Length: 2885, dtype: float64\n"
     ]
    }
   ],
   "source": [
    "print(y_test)"
   ],
   "metadata": {
    "collapsed": false,
    "pycharm": {
     "name": "#%%\n"
    }
   }
  },
  {
   "cell_type": "markdown",
   "source": [
    "ANALYSIS FOR A SINGLE COIN"
   ],
   "metadata": {
    "collapsed": false
   }
  },
  {
   "cell_type": "code",
   "execution_count": 261,
   "outputs": [
    {
     "name": "stdout",
     "output_type": "stream",
     "text": [
      "                   Open         High          Low        Close       Volume  \\\n",
      "Date                                                                          \n",
      "2020-03-15  5201.066895  5836.645020  5169.283203  5392.314941  33997889639   \n",
      "2020-03-16  5385.229492  5385.229492  4575.357910  5014.479980  45368026430   \n",
      "2020-03-17  5002.578125  5371.348633  4981.909180  5225.629395  38622642935   \n",
      "2020-03-18  5227.113770  5331.833984  5069.335938  5238.438477  37878801016   \n",
      "2020-03-19  5245.416504  6329.735840  5236.968750  6191.192871  51000731797   \n",
      "\n",
      "            Dividends  Stock Splits    names Symbol  \n",
      "Date                                                 \n",
      "2020-03-15          0             0  Bitcoin    BTC  \n",
      "2020-03-16          0             0  Bitcoin    BTC  \n",
      "2020-03-17          0             0  Bitcoin    BTC  \n",
      "2020-03-18          0             0  Bitcoin    BTC  \n",
      "2020-03-19          0             0  Bitcoin    BTC  \n"
     ]
    }
   ],
   "source": [
    "df2 = pd.read_csv('data_crypto.csv')#index_col='Date')\n",
    "df2 = df2.set_index('Date')\n",
    "\n",
    "\n",
    "\n",
    "print(df2.head(5))"
   ],
   "metadata": {
    "collapsed": false,
    "pycharm": {
     "name": "#%%\n"
    }
   }
  },
  {
   "cell_type": "code",
   "source": [
    "# statistical analysis for a single coin, BTC\n",
    "\n",
    "btc_price = df2[df2['Symbol']=='BTC']\n",
    "btc_price.describe()"
   ],
   "metadata": {
    "collapsed": false,
    "pycharm": {
     "name": "#%%\n"
    }
   },
   "execution_count": 263,
   "outputs": [
    {
     "data": {
      "text/plain": "               Open          High           Low         Close        Volume  \\\ncount    731.000000    731.000000    731.000000    731.000000  7.310000e+02   \nmean   32449.781817  33325.310401  31481.033562  32490.326962  3.919198e+10   \nstd    18697.919402  19178.785332  18108.034658  18665.825238  2.095962e+10   \nmin     5002.578125   5331.833984   4575.357910   5014.479980  1.225260e+10   \n25%    11340.639160  11535.015137  11192.779785  11362.118164  2.617690e+10   \n50%    36275.734375  37537.371094  34659.589844  36457.316406  3.473036e+10   \n75%    47790.845703  49175.048828  46685.369141  47747.423828  4.712308e+10   \nmax    67549.734375  68789.625000  66382.062500  67566.828125  3.509679e+11   \n\n       Dividends  Stock Splits  \ncount      731.0         731.0  \nmean         0.0           0.0  \nstd          0.0           0.0  \nmin          0.0           0.0  \n25%          0.0           0.0  \n50%          0.0           0.0  \n75%          0.0           0.0  \nmax          0.0           0.0  ",
      "text/html": "<div>\n<style scoped>\n    .dataframe tbody tr th:only-of-type {\n        vertical-align: middle;\n    }\n\n    .dataframe tbody tr th {\n        vertical-align: top;\n    }\n\n    .dataframe thead th {\n        text-align: right;\n    }\n</style>\n<table border=\"1\" class=\"dataframe\">\n  <thead>\n    <tr style=\"text-align: right;\">\n      <th></th>\n      <th>Open</th>\n      <th>High</th>\n      <th>Low</th>\n      <th>Close</th>\n      <th>Volume</th>\n      <th>Dividends</th>\n      <th>Stock Splits</th>\n    </tr>\n  </thead>\n  <tbody>\n    <tr>\n      <th>count</th>\n      <td>731.000000</td>\n      <td>731.000000</td>\n      <td>731.000000</td>\n      <td>731.000000</td>\n      <td>7.310000e+02</td>\n      <td>731.0</td>\n      <td>731.0</td>\n    </tr>\n    <tr>\n      <th>mean</th>\n      <td>32449.781817</td>\n      <td>33325.310401</td>\n      <td>31481.033562</td>\n      <td>32490.326962</td>\n      <td>3.919198e+10</td>\n      <td>0.0</td>\n      <td>0.0</td>\n    </tr>\n    <tr>\n      <th>std</th>\n      <td>18697.919402</td>\n      <td>19178.785332</td>\n      <td>18108.034658</td>\n      <td>18665.825238</td>\n      <td>2.095962e+10</td>\n      <td>0.0</td>\n      <td>0.0</td>\n    </tr>\n    <tr>\n      <th>min</th>\n      <td>5002.578125</td>\n      <td>5331.833984</td>\n      <td>4575.357910</td>\n      <td>5014.479980</td>\n      <td>1.225260e+10</td>\n      <td>0.0</td>\n      <td>0.0</td>\n    </tr>\n    <tr>\n      <th>25%</th>\n      <td>11340.639160</td>\n      <td>11535.015137</td>\n      <td>11192.779785</td>\n      <td>11362.118164</td>\n      <td>2.617690e+10</td>\n      <td>0.0</td>\n      <td>0.0</td>\n    </tr>\n    <tr>\n      <th>50%</th>\n      <td>36275.734375</td>\n      <td>37537.371094</td>\n      <td>34659.589844</td>\n      <td>36457.316406</td>\n      <td>3.473036e+10</td>\n      <td>0.0</td>\n      <td>0.0</td>\n    </tr>\n    <tr>\n      <th>75%</th>\n      <td>47790.845703</td>\n      <td>49175.048828</td>\n      <td>46685.369141</td>\n      <td>47747.423828</td>\n      <td>4.712308e+10</td>\n      <td>0.0</td>\n      <td>0.0</td>\n    </tr>\n    <tr>\n      <th>max</th>\n      <td>67549.734375</td>\n      <td>68789.625000</td>\n      <td>66382.062500</td>\n      <td>67566.828125</td>\n      <td>3.509679e+11</td>\n      <td>0.0</td>\n      <td>0.0</td>\n    </tr>\n  </tbody>\n</table>\n</div>"
     },
     "execution_count": 263,
     "metadata": {},
     "output_type": "execute_result"
    }
   ]
  },
  {
   "cell_type": "code",
   "execution_count": 264,
   "outputs": [],
   "source": [
    "btc_price=btc_price.drop(['Symbol','Dividends','Stock Splits'], axis=1)    #[\"Stock Splits\",\"Dividends\"], axis=1)"
   ],
   "metadata": {
    "collapsed": false,
    "pycharm": {
     "name": "#%%\n"
    }
   }
  },
  {
   "cell_type": "code",
   "execution_count": 265,
   "outputs": [
    {
     "data": {
      "text/plain": "array([[<AxesSubplot:title={'center':'Open'}>,\n        <AxesSubplot:title={'center':'High'}>],\n       [<AxesSubplot:title={'center':'Low'}>,\n        <AxesSubplot:title={'center':'Close'}>],\n       [<AxesSubplot:title={'center':'Volume'}>, <AxesSubplot:>]],\n      dtype=object)"
     },
     "execution_count": 265,
     "metadata": {},
     "output_type": "execute_result"
    },
    {
     "data": {
      "text/plain": "<Figure size 720x720 with 6 Axes>",
      "image/png": "[encoded data removed]"
     },
     "metadata": {
      "needs_background": "light"
     },
     "output_type": "display_data"
    }
   ],
   "source": [
    "btc_price.hist(figsize=(10,10))"
   ],
   "metadata": {
    "collapsed": false,
    "pycharm": {
     "name": "#%%\n"
    }
   }
  },
  {
   "cell_type": "code",
   "execution_count": null,
   "outputs": [],
   "source": [
    "btc_price.skew()"
   ],
   "metadata": {
    "collapsed": false,
    "pycharm": {
     "name": "#%%\n"
    }
   }
  },
  {
   "cell_type": "code",
   "execution_count": 266,
   "outputs": [
    {
     "data": {
      "application/vnd.plotly.v1+json": {
       "data": [
        {
         "name": "",
         "showlegend": false,
         "x": [
          5201.06689453125,
          5385.2294921875,
          5002.578125,
          5227.11376953125,
          5245.41650390625,
          6191.65380859375,
          6206.521484375,
          6185.55810546875,
          5831.37451171875,
          6436.642578125,
          6738.716796875,
          6675.1708984375,
          6719.38916015625,
          6467.25390625,
          6245.62451171875,
          5925.53857421875,
          6430.6064453125,
          6437.3193359375,
          6606.7763671875,
          6797.396484375,
          6738.3828125,
          6862.53759765625,
          6788.0498046875,
          7273.64404296875,
          7179.283203125,
          7337.96630859375,
          7303.8154296875,
          6867.4404296875,
          6858.06787109375,
          6965.61669921875,
          6843.28173828125,
          6845.5615234375,
          6640.4541015625,
          7116.552734375,
          7092.29150390625,
          7260.92236328125,
          7186.87353515625,
          6879.7841796875,
          6879.4404296875,
          7121.30615234375,
          7434.181640625,
          7550.48291015625,
          7570.13916015625,
          7679.4189453125,
          7796.97021484375,
          7806.71240234375,
          8797.669921875,
          8672.7822265625,
          8869.0576171875,
          8983.6142578125,
          8895.7451171875,
          8912.83203125,
          9007.44140625,
          9261.8955078125,
          9936.162109375,
          9840.90625,
          9591.1689453125,
          8755.53515625,
          8610.3857421875,
          8805.3876953125,
          9271.3291015625,
          9734.291015625,
          9333.240234375,
          9374.9296875,
          9675.6953125,
          9727.0634765625,
          9725.3291015625,
          9522.740234375,
          9080.3349609375,
          9185.0625,
          9212.283203125,
          8786.107421875,
          8909.5859375,
          8837.380859375,
          9184.9453125,
          9528.35546875,
          9438.9140625,
          9700.10546875,
          9463.60546875,
          10162.9736328125,
          9533.7607421875,
          9655.8544921875,
          9800.2158203125,
          9664.904296875,
          9653.0029296875,
          9760.0634765625,
          9774.3603515625,
          9794.119140625,
          9870.078125,
          9320.6904296875,
          9480.7353515625,
          9477.5537109375,
          9386.03515625,
          9454.2666015625,
          9533.7841796875,
          9481.5673828125,
          9410.2939453125,
          9290.9599609375,
          9330.9267578125,
          9300.9150390625,
          9644.076171875,
          9632.1494140625,
          9314.126953125,
          9260.9951171875,
          9167.82421875,
          9048.4609375,
          9140.029296875,
          9185.5810546875,
          9145.9853515625,
          9231.1396484375,
          9124.8427734375,
          9084.2333984375,
          9126.0908203125,
          9072.849609375,
          9349.1611328125,
          9253.0205078125,
          9427.994140625,
          9273.357421875,
          9277.51171875,
          9241.0546875,
          9277.205078125,
          9238.703125,
          9241.8974609375,
          9191.98046875,
          9131.8125,
          9151.18359375,
          9158.005859375,
          9187.220703125,
          9162.5146484375,
          9375.080078125,
          9527.1416015625,
          9585.5146484375,
          9539.4853515625,
          9680.234375,
          9905.2177734375,
          11017.4638671875,
          10912.953125,
          11099.8330078125,
          11110.2109375,
          11322.5703125,
          11758.7646484375,
          11043.7685546875,
          11246.203125,
          11203.8232421875,
          11749.87109375,
          11778.89453125,
          11604.5537109375,
          11737.3251953125,
          11662.2568359375,
          11881.6474609375,
          11404.5966796875,
          11588.4052734375,
          11772.6591796875,
          11768.697265625,
          11866.685546875,
          11895.658203125,
          12251.8955078125,
          11990.884765625,
          11761.5,
          11878.0263671875,
          11585.4775390625,
          11679.6962890625,
          11663.689453125,
          11773.5888671875,
          11366.89453125,
          11485.6083984375,
          11325.2958984375,
          11541.0546875,
          11508.7138671875,
          11713.306640625,
          11679.31640625,
          11964.8232421875,
          11407.19140625,
          10230.365234375,
          10512.5302734375,
          10167.216796875,
          10280.998046875,
          10369.306640625,
          10134.1513671875,
          10242.330078125,
          10369.0283203125,
          10409.861328125,
          10452.3994140625,
          10328.734375,
          10677.7548828125,
          10797.76171875,
          10973.251953125,
          10951.8203125,
          10933.7529296875,
          11095.8701171875,
          10934.92578125,
          10459.6240234375,
          10535.4921875,
          10248.7861328125,
          10761.109375,
          10695.5751953125,
          10746.892578125,
          10776.61328125,
          10709.650390625,
          10843.87109375,
          10795.2548828125,
          10619.8212890625,
          10575.1005859375,
          10550.4404296875,
          10676.529296875,
          10796.306640625,
          10603.35546875,
          10669.37109375,
          10927.9130859375,
          11059.142578125,
          11296.08203125,
          11392.6357421875,
          11548.7197265625,
          11429.0478515625,
          11426.6025390625,
          11502.828125,
          11322.123046875,
          11355.982421875,
          11495.0380859375,
          11745.974609375,
          11913.0771484375,
          12801.6357421875,
          12971.548828125,
          12931.57421875,
          13108.0634765625,
          13031.201171875,
          13075.2421875,
          13654.21484375,
          13271.298828125,
          13437.8740234375,
          13546.5322265625,
          13780.9951171875,
          13737.0322265625,
          13550.451171875,
          13950.48828125,
          14133.7333984375,
          15579.7294921875,
          15565.880859375,
          14833.75390625,
          15479.595703125,
          15332.3505859375,
          15290.9091796875,
          15701.298828125,
          16276.4404296875,
          16317.80859375,
          16068.1396484375,
          15955.5771484375,
          16685.69140625,
          17645.19140625,
          17803.861328125,
          17817.083984375,
          18621.31640625,
          18642.232421875,
          18370.017578125,
          18365.015625,
          19104.41015625,
          18729.83984375,
          17153.9140625,
          17112.93359375,
          17719.634765625,
          18178.322265625,
          19633.76953125,
          18801.744140625,
          19205.92578125,
          19446.966796875,
          18698.384765625,
          19154.1796875,
          19343.12890625,
          19191.529296875,
          18320.884765625,
          18553.298828125,
          18263.9296875,
          18051.3203125,
          18806.765625,
          19144.4921875,
          19246.919921875,
          19418.818359375,
          21308.3515625,
          22806.796875,
          23132.865234375,
          23861.765625,
          23474.455078125,
          22794.0390625,
          23781.974609375,
          23240.203125,
          23733.5703125,
          24677.015625,
          26439.373046875,
          26280.822265625,
          27081.810546875,
          27360.08984375,
          28841.57421875,
          28994.009765625,
          29376.455078125,
          32129.408203125,
          32810.94921875,
          31977.041015625,
          34013.61328125,
          36833.875,
          39381.765625,
          40788.640625,
          40254.21875,
          38346.53125,
          35516.359375,
          33915.12109375,
          37325.109375,
          39156.70703125,
          36821.6484375,
          36163.6484375,
          35792.23828125,
          36642.234375,
          36050.11328125,
          35549.3984375,
          30817.625,
          32985.7578125,
          32064.376953125,
          32285.798828125,
          32358.61328125,
          32564.029296875,
          30441.041015625,
          34318.671875,
          34295.93359375,
          34270.87890625,
          33114.578125,
          33533.19921875,
          35510.8203125,
          37475.10546875,
          36931.546875,
          38138.38671875,
          39250.19140625,
          38886.828125,
          46184.9921875,
          46469.76171875,
          44898.7109375,
          47877.03515625,
          47491.203125,
          47114.5078125,
          48696.53515625,
          47944.45703125,
          49207.27734375,
          52140.97265625,
          51675.98046875,
          55887.3359375,
          56068.56640625,
          57532.73828125,
          54204.9296875,
          48835.0859375,
          49709.08203125,
          47180.46484375,
          46344.7734375,
          46194.015625,
          45159.50390625,
          49612.10546875,
          48415.81640625,
          50522.3046875,
          48527.03125,
          48899.23046875,
          48918.6796875,
          51174.1171875,
          52272.96875,
          54824.01171875,
          55963.1796875,
          57821.21875,
          57343.37109375,
          61221.1328125,
          59267.4296875,
          55840.78515625,
          56825.828125,
          58893.078125,
          57850.44140625,
          58332.26171875,
          58309.9140625,
          57517.890625,
          54511.66015625,
          54710.48828125,
          52726.74609375,
          51683.01171875,
          55137.56640625,
          55974.94140625,
          55947.8984375,
          57750.1328125,
          58930.27734375,
          58926.5625,
          59098.87890625,
          59397.41015625,
          57604.83984375,
          58760.875,
          59171.93359375,
          58186.5078125,
          56099.9140625,
          58326.5625,
          58253.77734375,
          59846.23046875,
          60175.9453125,
          59890.01953125,
          63523.75390625,
          63075.1953125,
          63258.50390625,
          61529.921875,
          60701.88671875,
          56191.5859375,
          55681.79296875,
          56471.12890625,
          53857.10546875,
          51739.80859375,
          51143.2265625,
          50052.83203125,
          49077.79296875,
          54030.3046875,
          55036.63671875,
          54858.08984375,
          53568.6640625,
          57714.6640625,
          57825.86328125,
          56620.2734375,
          57214.1796875,
          53252.1640625,
          57441.30859375,
          56413.953125,
          57352.765625,
          58877.390625,
          58250.87109375,
          55847.2421875,
          56714.53125,
          49735.43359375,
          49682.98046875,
          49855.49609375,
          46716.63671875,
          46415.8984375,
          43488.05859375,
          42944.9765625,
          36753.66796875,
          40596.94921875,
          37371.03125,
          37531.44921875,
          34700.36328125,
          38795.78125,
          38392.625,
          39316.890625,
          38507.08203125,
          35684.15625,
          34607.40625,
          35658.59375,
          37293.79296875,
          36699.921875,
          37599.41015625,
          39242.484375,
          36880.15625,
          35538.609375,
          35835.265625,
          33589.51953125,
          33416.9765625,
          37389.515625,
          36697.03125,
          37340.14453125,
          35555.7890625,
          39016.96875,
          40427.16796875,
          40168.69140625,
          38341.421875,
          38099.4765625,
          35854.52734375,
          35563.140625,
          35641.14453125,
          31622.376953125,
          32515.71484375,
          33682.80078125,
          34659.10546875,
          31594.6640625,
          32287.5234375,
          34679.12109375,
          34475.55859375,
          35908.38671875,
          35035.984375,
          33549.6015625,
          33854.421875,
          34665.56640625,
          35284.34375,
          33723.5078125,
          34225.6796875,
          33889.60546875,
          32861.671875,
          33811.2421875,
          33509.078125,
          34254.015625,
          33125.46875,
          32723.845703125,
          32827.875,
          31841.55078125,
          31397.30859375,
          31533.884765625,
          31800.01171875,
          30838.28515625,
          29796.28515625,
          32138.873046875,
          32305.958984375,
          33593.73046875,
          34290.29296875,
          35384.03125,
          37276.03515625,
          39503.1875,
          39995.453125,
          40027.484375,
          42196.3046875,
          41460.84375,
          39907.26171875,
          39178.40234375,
          38213.33203125,
          39744.515625,
          40865.8671875,
          42832.796875,
          44574.4375,
          43791.92578125,
          46280.84765625,
          45599.703125,
          45576.87890625,
          44439.69140625,
          47810.6875,
          47096.66796875,
          47019.9609375,
          45936.45703125,
          44686.75,
          44741.8828125,
          46723.12109375,
          49327.07421875,
          48869.10546875,
          49291.67578125,
          49562.34765625,
          47727.2578125,
          49002.640625,
          46894.5546875,
          49072.5859375,
          48911.25,
          48834.8515625,
          47024.33984375,
          47099.7734375,
          48807.84765625,
          49288.25,
          50009.32421875,
          49937.859375,
          51769.00390625,
          52660.48046875,
          46827.76171875,
          45774.7421875,
          46396.6640625,
          44869.83984375,
          45206.62890625,
          46057.21484375,
          44960.05078125,
          47098.0,
          48158.90625,
          47771.00390625,
          47273.52734375,
          48268.85546875,
          47261.40625,
          43012.234375,
          40677.953125,
          43560.296875,
          44894.30078125,
          42840.890625,
          42721.62890625,
          43234.18359375,
          42200.8984375,
          41064.984375,
          41551.26953125,
          43816.7421875,
          48137.46875,
          47680.02734375,
          48208.90625,
          49174.9609375,
          51486.6640625,
          55338.625,
          53802.14453125,
          53929.78125,
          54952.8203125,
          54734.125,
          57526.83203125,
          56038.2578125,
          57372.83203125,
          57345.90234375,
          61609.52734375,
          60887.65234375,
          61548.8046875,
          62043.1640625,
          64284.5859375,
          66002.234375,
          62237.890625,
          60694.62890625,
          61368.34375,
          60893.92578125,
          63032.76171875,
          60352.0,
          58470.73046875,
          60624.87109375,
          62239.36328125,
          61850.48828125,
          61320.44921875,
          60963.25390625,
          63254.3359375,
          62941.8046875,
          61460.078125,
          61068.875,
          61554.921875,
          63344.06640625,
          67549.734375,
          66953.3359375,
          64978.890625,
          64863.98046875,
          64158.12109375,
          64455.37109375,
          65521.2890625,
          63721.1953125,
          60139.62109375,
          60360.13671875,
          56896.12890625,
          58115.08203125,
          59730.5078125,
          58706.84765625,
          56304.5546875,
          57565.8515625,
          57165.41796875,
          58960.28515625,
          53736.4296875,
          54813.0234375,
          57291.90625,
          57830.11328125,
          56907.96484375,
          57217.37109375,
          56509.1640625,
          53727.87890625,
          49201.51953125,
          49413.48046875,
          50581.828125,
          50667.6484375,
          50450.08203125,
          47642.14453125,
          47264.6328125,
          49354.85546875,
          50114.7421875,
          46709.82421875,
          48379.75390625,
          48900.46484375,
          47653.73046875,
          46219.25390625,
          46853.8671875,
          46707.0625,
          46886.078125,
          48937.09765625,
          48626.34375,
          50806.05078125,
          50854.91796875,
          50428.69140625,
          50802.609375,
          50679.859375,
          47623.87109375,
          46490.60546875,
          47169.37109375,
          46311.74609375,
          47680.92578125,
          47343.54296875,
          46458.8515625,
          45899.359375,
          43565.51171875,
          43153.5703125,
          41561.46484375,
          41734.7265625,
          41910.23046875,
          41819.5078125,
          42742.1796875,
          43946.7421875,
          42598.87109375,
          43101.8984375,
          43172.0390625,
          43118.12109375,
          42250.07421875,
          42374.0390625,
          41744.02734375,
          40699.60546875,
          36471.58984375,
          35047.359375,
          36275.734375,
          36654.8046875,
          36950.515625,
          36841.87890625,
          37128.4453125,
          37780.71484375,
          38151.91796875,
          37920.28125,
          38481.765625,
          38743.71484375,
          36944.8046875,
          37149.265625,
          41501.48046875,
          41441.12109375,
          42406.78125,
          43854.65234375,
          44096.703125,
          44347.80078125,
          43571.12890625,
          42412.30078125,
          42236.56640625,
          42157.3984375,
          42586.46484375,
          44578.27734375,
          43937.0703125,
          40552.1328125,
          40026.0234375,
          40118.1015625,
          38423.2109375,
          37068.76953125,
          38285.28125,
          37278.56640625,
          38333.74609375,
          39213.08203125,
          39098.69921875,
          37706.0,
          43194.50390625,
          44357.6171875,
          43925.1953125,
          42458.140625,
          39148.44921875,
          39404.19921875,
          38429.3046875,
          38059.90234375,
          38742.81640625,
          41974.0703125,
          39439.96875,
          38794.46484375,
          38884.7265625,
          37846.31640625,
          39664.25
         ],
         "type": "box",
         "xaxis": "x",
         "yaxis": "y"
        },
        {
         "name": "",
         "showlegend": false,
         "x": [
          5836.64501953125,
          5385.2294921875,
          5371.3486328125,
          5331.833984375,
          6329.73583984375,
          6844.26171875,
          6378.13525390625,
          6359.697265625,
          6443.9345703125,
          6789.02294921875,
          6892.51123046875,
          6735.4638671875,
          6793.83642578125,
          6467.5009765625,
          6250.46728515625,
          6517.19580078125,
          6504.51513671875,
          6612.57373046875,
          7088.24755859375,
          7003.220703125,
          6878.95361328125,
          6883.4140625,
          7271.78125,
          7427.939453125,
          7356.2236328125,
          7341.4482421875,
          7303.8154296875,
          6926.06982421875,
          7119.947265625,
          6965.61669921875,
          6958.55712890625,
          6928.66455078125,
          7134.45068359375,
          7167.18310546875,
          7269.95654296875,
          7280.52197265625,
          7240.29052734375,
          6934.5517578125,
          7145.86572265625,
          7491.78515625,
          7574.19580078125,
          7641.36376953125,
          7700.59423828125,
          7795.60107421875,
          7814.52734375,
          8871.75390625,
          9440.650390625,
          9048.0234375,
          9007.1875,
          9167.78125,
          8956.90625,
          9062.4150390625,
          9411.4677734375,
          9992.6640625,
          9996.7431640625,
          9913.86328125,
          9595.5810546875,
          9033.470703125,
          8949.8984375,
          9317.87890625,
          9793.2685546875,
          9755.828125,
          9564.205078125,
          9823.001953125,
          9906.0302734375,
          9836.0478515625,
          9804.7939453125,
          9555.2421875,
          9232.9365234375,
          9302.501953125,
          9288.404296875,
          8951.005859375,
          8991.9677734375,
          9203.3203125,
          9546.3193359375,
          9573.6669921875,
          9704.0302734375,
          9700.34375,
          10199.5654296875,
          10182.3408203125,
          9682.859375,
          9887.6103515625,
          9869.2373046875,
          9773.431640625,
          9768.498046875,
          9782.306640625,
          9836.369140625,
          9908.896484375,
          9938.2978515625,
          9540.4658203125,
          9493.2119140625,
          9482.2705078125,
          9504.8603515625,
          9579.4306640625,
          9540.4228515625,
          9482.7822265625,
          9440.8759765625,
          9394.9716796875,
          9401.107421875,
          9655.0732421875,
          9670.541015625,
          9680.3671875,
          9340.1611328125,
          9310.5166015625,
          9207.810546875,
          9197.546875,
          9237.5732421875,
          9217.8359375,
          9309.7548828125,
          9274.962890625,
          9202.3447265625,
          9183.2958984375,
          9162.18359375,
          9375.474609375,
          9360.6171875,
          9450.3359375,
          9431.37890625,
          9287.4716796875,
          9293.5322265625,
          9319.4189453125,
          9306.4052734375,
          9283.841796875,
          9275.3251953125,
          9214.3125,
          9182.25390625,
          9230.9833984375,
          9201.3984375,
          9214.2705078125,
          9407.2626953125,
          9530.5185546875,
          9610.2470703125,
          9623.3369140625,
          9704.556640625,
          10023.8076171875,
          11298.2216796875,
          11204.3271484375,
          11304.3974609375,
          11169.3564453125,
          11415.8642578125,
          11794.775390625,
          12034.14453125,
          11453.0791015625,
          11385.3818359375,
          11786.6171875,
          11902.3359375,
          11898.0380859375,
          11800.064453125,
          11806.056640625,
          12045.140625,
          11932.7109375,
          11748.396484375,
          11796.396484375,
          12150.994140625,
          11963.203125,
          11934.9013671875,
          12359.056640625,
          12335.70703125,
          12028.923828125,
          11900.4111328125,
          11899.259765625,
          11689.4072265625,
          11713.4296875,
          11807.6318359375,
          11778.2998046875,
          11530.052734375,
          11570.7861328125,
          11545.615234375,
          11585.640625,
          11715.2646484375,
          11768.876953125,
          12067.0810546875,
          11964.8232421875,
          11443.0224609375,
          10663.919921875,
          10581.5712890625,
          10353.927734375,
          10399.1533203125,
          10414.775390625,
          10350.54296875,
          10503.912109375,
          10434.9228515625,
          10578.837890625,
          10577.21484375,
          10800.0107421875,
          10938.6318359375,
          11100.1240234375,
          11037.4208984375,
          11034.908203125,
          11134.0927734375,
          11095.8701171875,
          10988.3046875,
          10568.0771484375,
          10537.828125,
          10771.056640625,
          10777.6962890625,
          10772.9990234375,
          10803.9765625,
          10945.34765625,
          10860.0009765625,
          10847.2568359375,
          10933.6240234375,
          10657.837890625,
          10598.9404296875,
          10686.0,
          10793.5078125,
          10797.578125,
          10680.5078125,
          10945.7373046875,
          11102.671875,
          11442.2109375,
          11428.8134765625,
          11698.4677734375,
          11548.984375,
          11539.9775390625,
          11569.9140625,
          11540.0615234375,
          11386.26171875,
          11483.359375,
          11799.0927734375,
          11999.91796875,
          13184.56640625,
          13161.59375,
          13015.9619140625,
          13145.06640625,
          13329.18359375,
          13225.2978515625,
          13759.6689453125,
          13837.6953125,
          13612.0478515625,
          13651.5166015625,
          14028.2138671875,
          13862.033203125,
          13808.3232421875,
          13984.9814453125,
          14218.7666015625,
          15706.404296875,
          15903.4375,
          15737.095703125,
          15637.3203125,
          15785.13671875,
          15450.3291015625,
          15916.2607421875,
          16305.00390625,
          16463.177734375,
          16317.80859375,
          16123.1103515625,
          16816.181640625,
          17782.919921875,
          18393.94921875,
          18119.546875,
          18773.2265625,
          18936.62109375,
          18688.96875,
          18711.42578125,
          19348.271484375,
          19390.96484375,
          18866.28515625,
          17445.0234375,
          17853.939453125,
          18283.62890625,
          19749.263671875,
          19845.974609375,
          19308.330078125,
          19566.19140625,
          19511.404296875,
          19160.44921875,
          19390.5,
          19411.828125,
          19283.478515625,
          18626.29296875,
          18553.298828125,
          18268.453125,
          18919.55078125,
          19381.53515625,
          19305.099609375,
          19525.0078125,
          21458.908203125,
          23642.66015625,
          23238.6015625,
          24085.85546875,
          24209.66015625,
          24059.982421875,
          23789.90234375,
          24024.490234375,
          23768.337890625,
          24710.1015625,
          26718.0703125,
          28288.83984375,
          27389.111328125,
          27370.720703125,
          28937.740234375,
          29244.876953125,
          29600.626953125,
          33155.1171875,
          34608.55859375,
          33440.21875,
          34437.58984375,
          36879.69921875,
          40180.3671875,
          41946.73828125,
          41436.3515625,
          41420.19140625,
          38346.53125,
          36568.52734375,
          37599.9609375,
          39966.40625,
          39577.7109375,
          37864.3671875,
          36722.3515625,
          37299.28515625,
          37755.890625,
          36378.328125,
          35552.6796875,
          33811.8515625,
          33360.9765625,
          32944.0078125,
          34802.7421875,
          32794.55078125,
          32564.029296875,
          33858.3125,
          38406.26171875,
          34834.70703125,
          34288.33203125,
          34638.21484375,
          35896.8828125,
          37480.1875,
          38592.17578125,
          38225.90625,
          40846.546875,
          39621.8359375,
          46203.9296875,
          48003.72265625,
          47145.56640625,
          48463.46875,
          48745.734375,
          48047.74609375,
          49487.640625,
          48875.5703125,
          50341.1015625,
          52533.9140625,
          52474.10546875,
          56113.65234375,
          57505.2265625,
          58330.5703125,
          57533.390625,
          54204.9296875,
          51290.13671875,
          51948.96875,
          48370.78515625,
          48253.26953125,
          46716.4296875,
          49784.015625,
          50127.51171875,
          52535.13671875,
          51735.08984375,
          49396.4296875,
          49147.21875,
          51384.3671875,
          52314.0703125,
          54824.1171875,
          57258.25390625,
          58091.0625,
          57996.62109375,
          61683.86328125,
          61597.91796875,
          60540.9921875,
          56833.1796875,
          58969.81640625,
          60116.25,
          59498.375,
          60031.28515625,
          58767.8984375,
          58471.48046875,
          55985.44140625,
          57262.3828125,
          53392.38671875,
          55137.3125,
          56568.21484375,
          56610.3125,
          58342.09765625,
          59447.22265625,
          59930.02734375,
          59586.0703125,
          60267.1875,
          60110.26953125,
          58913.74609375,
          59891.296875,
          59479.578125,
          58731.14453125,
          58338.73828125,
          58937.046875,
          61276.6640625,
          60790.5546875,
          61253.03515625,
          63742.28515625,
          64863.09765625,
          63821.671875,
          63594.72265625,
          62572.17578125,
          61057.45703125,
          57520.0546875,
          57062.1484375,
          56757.97265625,
          55410.23046875,
          52120.79296875,
          51167.5625,
          50506.01953125,
          54288.00390625,
          55416.96484375,
          56227.20703125,
          55115.84375,
          57900.71875,
          58448.33984375,
          57902.59375,
          58973.30859375,
          57214.1796875,
          57911.36328125,
          58363.31640625,
          58606.6328125,
          59464.61328125,
          59210.8828125,
          59519.35546875,
          56872.54296875,
          57939.36328125,
          51330.84375,
          51438.1171875,
          50639.6640625,
          49720.04296875,
          46623.55859375,
          45812.45703125,
          43546.1171875,
          42462.984375,
          42172.171875,
          38831.0546875,
          38289.21875,
          39835.140625,
          39776.3515625,
          40782.078125,
          40379.6171875,
          38856.96875,
          37234.5,
          36400.66796875,
          37468.25,
          37896.734375,
          38231.33984375,
          39478.953125,
          39242.484375,
          37917.71484375,
          36436.421875,
          36790.5703125,
          34017.38671875,
          37537.37109375,
          38334.32421875,
          37608.6953125,
          37408.92578125,
          39322.78125,
          40978.36328125,
          41295.26953125,
          40516.77734375,
          39513.671875,
          38187.26171875,
          36457.796875,
          36059.484375,
          35721.640625,
          33292.453125,
          34753.41015625,
          35228.8515625,
          35487.24609375,
          32637.587890625,
          34656.12890625,
          35219.890625,
          36542.109375,
          36074.7578125,
          35035.984375,
          33939.58984375,
          34909.26171875,
          35937.56640625,
          35284.34375,
          35038.53515625,
          34997.6640625,
          33907.90625,
          34042.29296875,
          34209.0703125,
          34584.703125,
          34592.15625,
          33327.1015625,
          33061.3984375,
          33159.640625,
          32218.40625,
          31935.9453125,
          32398.99609375,
          31885.859375,
          31006.1875,
          32752.326171875,
          32576.400390625,
          33581.55078125,
          34490.390625,
          35364.92578125,
          40499.67578125,
          39406.94140625,
          40816.0703125,
          40593.0703125,
          42235.546875,
          42231.44921875,
          42541.6796875,
          40419.1796875,
          39750.03125,
          39952.296875,
          41341.93359375,
          43271.66015625,
          44689.859375,
          45282.3515625,
          46456.83203125,
          46637.98828125,
          46735.6328125,
          46228.91015625,
          47831.9765625,
          48098.68359375,
          47357.10546875,
          47998.09765625,
          47139.5703125,
          45952.0625,
          46970.76171875,
          49342.15234375,
          49717.01953125,
          49471.609375,
          50482.078125,
          49878.76953125,
          49202.87890625,
          49347.58203125,
          49112.78515625,
          49283.50390625,
          49644.11328125,
          48925.60546875,
          48189.55078125,
          49111.08984375,
          50343.421875,
          50982.2734375,
          50545.58203125,
          51868.6796875,
          52700.94140625,
          52853.765625,
          47334.0546875,
          47261.94921875,
          47031.7421875,
          45969.29296875,
          46364.87890625,
          46598.6796875,
          47218.125,
          48450.46875,
          48486.828125,
          48160.921875,
          48791.78125,
          48328.3671875,
          47328.19921875,
          43607.609375,
          43978.62109375,
          44942.17578125,
          45080.4921875,
          42996.2578125,
          43919.30078125,
          44313.24609375,
          42775.14453125,
          42545.2578125,
          44092.6015625,
          48436.01171875,
          48282.0625,
          49130.69140625,
          49456.77734375,
          51839.984375,
          55568.46484375,
          55338.625,
          55922.98046875,
          55397.9453125,
          56401.3046875,
          57793.0390625,
          57627.87890625,
          57688.66015625,
          58478.734375,
          62757.12890625,
          62274.4765625,
          61645.5234375,
          62614.66015625,
          64434.53515625,
          66930.390625,
          66600.546875,
          63715.0234375,
          61743.87890625,
          61505.8046875,
          63729.32421875,
          63229.02734375,
          61435.18359375,
          62128.6328125,
          62927.609375,
          62330.14453125,
          62406.171875,
          62419.00390625,
          64242.79296875,
          63516.9375,
          63123.2890625,
          62541.46875,
          61590.68359375,
          63326.98828125,
          67673.7421875,
          68530.3359375,
          68789.625,
          65579.015625,
          65460.81640625,
          64915.67578125,
          65495.1796875,
          66281.5703125,
          63721.1953125,
          60823.609375,
          60948.5,
          58351.11328125,
          59859.87890625,
          60004.42578125,
          59266.359375,
          57875.515625,
          57803.06640625,
          59367.96875,
          59183.48046875,
          55329.2578125,
          57393.84375,
          58872.87890625,
          59113.40234375,
          59041.68359375,
          57349.234375,
          57482.16796875,
          53904.6796875,
          49768.1484375,
          50929.51953125,
          51934.78125,
          51171.375,
          50797.1640625,
          50015.25390625,
          49458.2109375,
          50724.8671875,
          50205.0,
          48431.3984375,
          49473.95703125,
          49425.57421875,
          48004.89453125,
          47313.828125,
          48089.6640625,
          47401.71875,
          49300.91796875,
          49544.796875,
          51332.33984375,
          51814.02734375,
          51176.59765625,
          51196.37890625,
          51956.328125,
          50679.859375,
          48119.7421875,
          47879.96484375,
          48472.52734375,
          47827.3125,
          47881.40625,
          47510.7265625,
          47406.546875,
          46929.046875,
          43748.71875,
          43153.5703125,
          42228.94140625,
          42663.94921875,
          42199.484375,
          43001.15625,
          44135.3671875,
          44278.421875,
          43346.6875,
          43724.671875,
          43436.80859375,
          43179.390625,
          42534.40234375,
          42478.3046875,
          43413.0234375,
          41060.52734375,
          36688.8125,
          36433.3125,
          37247.51953125,
          37444.5703125,
          38825.41015625,
          37148.32421875,
          37952.87890625,
          38576.26171875,
          38266.33984375,
          38647.26171875,
          39115.1328125,
          38834.6171875,
          37154.6015625,
          41527.78515625,
          41847.1640625,
          42500.78515625,
          44401.86328125,
          45293.8671875,
          44727.80078125,
          45661.171875,
          43810.83203125,
          42992.55078125,
          42693.0546875,
          42775.77734375,
          44667.21875,
          44578.27734375,
          44132.97265625,
          40929.15234375,
          40418.87890625,
          40119.890625,
          39394.4375,
          38359.85546875,
          39122.39453125,
          38968.83984375,
          39630.32421875,
          40005.34765625,
          39778.94140625,
          43760.45703125,
          44793.6015625,
          45077.578125,
          44021.578125,
          42479.61328125,
          39566.3359375,
          39640.17578125,
          39430.2265625,
          39304.44140625,
          42465.671875,
          42004.7265625,
          40081.6796875,
          39308.59765625,
          39209.3515625,
          39742.5,
          39794.62890625
         ],
         "type": "box",
         "xaxis": "x2",
         "yaxis": "y2"
        },
        {
         "name": "",
         "showlegend": false,
         "x": [
          5392.31494140625,
          5014.47998046875,
          5225.62939453125,
          5238.4384765625,
          6191.19287109375,
          6198.7783203125,
          6185.06640625,
          5830.2548828125,
          6416.31494140625,
          6734.8037109375,
          6681.06298828125,
          6716.4404296875,
          6469.79833984375,
          6242.19384765625,
          5922.04296875,
          6429.841796875,
          6438.64453125,
          6606.7763671875,
          6793.62451171875,
          6733.38720703125,
          6867.52734375,
          6791.12939453125,
          7271.78125,
          7176.41455078125,
          7334.0986328125,
          7302.08935546875,
          6865.4931640625,
          6859.0830078125,
          6971.091796875,
          6845.03759765625,
          6842.427734375,
          6642.10986328125,
          7116.80419921875,
          7096.1845703125,
          7257.6650390625,
          7189.4248046875,
          6881.95849609375,
          6880.3232421875,
          7117.20751953125,
          7429.724609375,
          7550.90087890625,
          7569.93603515625,
          7679.8671875,
          7795.60107421875,
          7807.05859375,
          8801.0380859375,
          8658.5537109375,
          8864.7666015625,
          8988.5966796875,
          8897.46875,
          8912.654296875,
          9003.0703125,
          9268.76171875,
          9951.5185546875,
          9842.666015625,
          9593.896484375,
          8756.4306640625,
          8601.7958984375,
          8804.4775390625,
          9269.9873046875,
          9733.7216796875,
          9328.197265625,
          9377.013671875,
          9670.7392578125,
          9726.5751953125,
          9729.0380859375,
          9522.9814453125,
          9081.76171875,
          9182.5771484375,
          9209.287109375,
          8790.3681640625,
          8906.9345703125,
          8835.052734375,
          9181.017578125,
          9525.7509765625,
          9439.1240234375,
          9700.4140625,
          9461.05859375,
          10167.2685546875,
          9529.8037109375,
          9656.7177734375,
          9800.63671875,
          9665.533203125,
          9653.6796875,
          9758.8525390625,
          9771.4892578125,
          9795.7001953125,
          9870.0947265625,
          9321.78125,
          9480.84375,
          9475.27734375,
          9386.7880859375,
          9450.7021484375,
          9538.0244140625,
          9480.2548828125,
          9411.8408203125,
          9288.0185546875,
          9332.3408203125,
          9303.6298828125,
          9648.7177734375,
          9629.658203125,
          9313.6103515625,
          9264.8134765625,
          9162.91796875,
          9045.390625,
          9143.58203125,
          9190.8544921875,
          9137.9931640625,
          9228.3251953125,
          9123.41015625,
          9087.3037109375,
          9132.48828125,
          9073.9423828125,
          9375.474609375,
          9252.27734375,
          9428.3330078125,
          9277.9677734375,
          9278.8076171875,
          9240.3466796875,
          9276.5,
          9243.6142578125,
          9243.2138671875,
          9192.8369140625,
          9132.2275390625,
          9151.392578125,
          9159.0400390625,
          9185.8173828125,
          9164.2314453125,
          9374.8876953125,
          9525.36328125,
          9581.072265625,
          9536.892578125,
          9677.11328125,
          9905.1669921875,
          10990.873046875,
          10912.8232421875,
          11100.4677734375,
          11111.2138671875,
          11323.466796875,
          11759.5927734375,
          11053.6142578125,
          11246.3486328125,
          11205.892578125,
          11747.0224609375,
          11779.7734375,
          11601.47265625,
          11754.0458984375,
          11675.7392578125,
          11878.111328125,
          11410.525390625,
          11584.9345703125,
          11784.1376953125,
          11768.87109375,
          11865.6982421875,
          11892.8037109375,
          12254.40234375,
          11991.2333984375,
          11758.283203125,
          11878.3720703125,
          11592.4892578125,
          11681.8251953125,
          11664.84765625,
          11774.595703125,
          11366.134765625,
          11488.36328125,
          11323.3974609375,
          11542.5,
          11506.865234375,
          11711.505859375,
          11680.8203125,
          11970.478515625,
          11414.0341796875,
          10245.296875,
          10511.8134765625,
          10169.5673828125,
          10280.3515625,
          10369.5634765625,
          10131.5166015625,
          10242.34765625,
          10363.138671875,
          10400.9150390625,
          10442.1708984375,
          10323.755859375,
          10680.837890625,
          10796.951171875,
          10974.9052734375,
          10948.990234375,
          10944.5859375,
          11094.3466796875,
          10938.271484375,
          10462.259765625,
          10538.4599609375,
          10246.1865234375,
          10760.06640625,
          10692.716796875,
          10750.7236328125,
          10775.26953125,
          10709.65234375,
          10844.640625,
          10784.4912109375,
          10619.4521484375,
          10575.974609375,
          10549.3291015625,
          10669.5830078125,
          10793.33984375,
          10604.40625,
          10668.96875,
          10915.685546875,
          11064.4580078125,
          11296.361328125,
          11384.181640625,
          11555.36328125,
          11425.8994140625,
          11429.5068359375,
          11495.349609375,
          11322.123046875,
          11358.1015625,
          11483.359375,
          11742.037109375,
          11916.3349609375,
          12823.689453125,
          12965.8916015625,
          12931.5390625,
          13108.0625,
          13031.173828125,
          13075.248046875,
          13654.21875,
          13271.28515625,
          13437.8828125,
          13546.5224609375,
          13780.9951171875,
          13737.109375,
          13550.4892578125,
          13950.30078125,
          14133.70703125,
          15579.8486328125,
          15565.880859375,
          14833.75390625,
          15479.5673828125,
          15332.3154296875,
          15290.90234375,
          15701.33984375,
          16276.34375,
          16317.80859375,
          16068.138671875,
          15955.587890625,
          16716.111328125,
          17645.40625,
          17804.005859375,
          17817.08984375,
          18621.314453125,
          18642.232421875,
          18370.001953125,
          18364.12109375,
          19107.46484375,
          18732.12109375,
          17150.623046875,
          17108.40234375,
          17717.4140625,
          18177.484375,
          19625.8359375,
          18802.998046875,
          19201.091796875,
          19445.3984375,
          18699.765625,
          19154.23046875,
          19345.12109375,
          19191.630859375,
          18321.14453125,
          18553.916015625,
          18264.9921875,
          18058.904296875,
          18803.65625,
          19142.3828125,
          19246.64453125,
          19417.076171875,
          21310.59765625,
          22805.162109375,
          23137.9609375,
          23869.83203125,
          23477.294921875,
          22803.08203125,
          23783.029296875,
          23241.345703125,
          23735.94921875,
          24664.791015625,
          26437.037109375,
          26272.294921875,
          27084.80859375,
          27362.4375,
          28840.953125,
          29001.720703125,
          29374.15234375,
          32127.267578125,
          32782.0234375,
          31971.9140625,
          33992.4296875,
          36824.36328125,
          39371.04296875,
          40797.609375,
          40254.546875,
          38356.44140625,
          35566.65625,
          33922.9609375,
          37316.359375,
          39187.328125,
          36825.3671875,
          36178.140625,
          35791.27734375,
          36630.07421875,
          36069.8046875,
          35547.75,
          30825.69921875,
          33005.76171875,
          32067.642578125,
          32289.37890625,
          32366.392578125,
          32569.849609375,
          30432.546875,
          33466.09765625,
          34316.38671875,
          34269.5234375,
          33114.359375,
          33537.17578125,
          35510.2890625,
          37472.08984375,
          36926.06640625,
          38144.30859375,
          39266.01171875,
          38903.44140625,
          46196.46484375,
          46481.10546875,
          44918.18359375,
          47909.33203125,
          47504.8515625,
          47105.515625,
          48717.2890625,
          47945.05859375,
          49199.87109375,
          52149.0078125,
          51679.796875,
          55888.1328125,
          56099.51953125,
          57539.9453125,
          54207.3203125,
          48824.42578125,
          49705.33203125,
          47093.8515625,
          46339.76171875,
          46188.453125,
          45137.76953125,
          49631.2421875,
          48378.98828125,
          50538.2421875,
          48561.16796875,
          48927.3046875,
          48912.3828125,
          51206.69140625,
          52246.5234375,
          54824.1171875,
          56008.55078125,
          57805.12109375,
          57332.08984375,
          61243.0859375,
          59302.31640625,
          55907.19921875,
          56804.90234375,
          58870.89453125,
          57858.921875,
          58346.65234375,
          58313.64453125,
          57523.421875,
          54529.14453125,
          54738.9453125,
          52774.265625,
          51704.16015625,
          55137.3125,
          55973.51171875,
          55950.74609375,
          57750.19921875,
          58917.69140625,
          58918.83203125,
          59095.80859375,
          59384.3125,
          57603.890625,
          58758.5546875,
          59057.87890625,
          58192.359375,
          56048.9375,
          58323.953125,
          58245.00390625,
          59793.234375,
          60204.96484375,
          59893.453125,
          63503.45703125,
          63109.6953125,
          63314.01171875,
          61572.7890625,
          60683.8203125,
          56216.18359375,
          55724.265625,
          56473.03125,
          53906.08984375,
          51762.2734375,
          51093.65234375,
          50050.8671875,
          49004.25390625,
          54021.75390625,
          55033.1171875,
          54824.703125,
          53555.109375,
          57750.17578125,
          57828.05078125,
          56631.078125,
          57200.29296875,
          53333.5390625,
          57424.0078125,
          56396.515625,
          57356.40234375,
          58803.77734375,
          58232.31640625,
          55859.796875,
          56704.57421875,
          49150.53515625,
          49716.19140625,
          49880.53515625,
          46760.1875,
          46456.05859375,
          43537.51171875,
          42909.40234375,
          37002.44140625,
          40782.73828125,
          37304.69140625,
          37536.6328125,
          34770.58203125,
          38705.98046875,
          38402.22265625,
          39294.19921875,
          38436.96875,
          35697.60546875,
          34616.06640625,
          35678.12890625,
          37332.85546875,
          36684.92578125,
          37575.1796875,
          39208.765625,
          36894.40625,
          35551.95703125,
          35862.37890625,
          33560.70703125,
          33472.6328125,
          37345.12109375,
          36702.59765625,
          37334.3984375,
          35552.515625,
          39097.859375,
          40218.4765625,
          40406.26953125,
          38347.0625,
          38053.50390625,
          35787.24609375,
          35615.87109375,
          35698.296875,
          31676.693359375,
          32505.66015625,
          33723.02734375,
          34662.4375,
          31637.779296875,
          32186.27734375,
          34649.64453125,
          34434.3359375,
          35867.77734375,
          35040.8359375,
          33572.1171875,
          33897.046875,
          34668.546875,
          35287.78125,
          33746.00390625,
          34235.1953125,
          33855.328125,
          32877.37109375,
          33798.01171875,
          33520.51953125,
          34240.1875,
          33155.84765625,
          32702.025390625,
          32822.34765625,
          31780.73046875,
          31421.5390625,
          31533.068359375,
          31796.810546875,
          30817.83203125,
          29807.34765625,
          32110.693359375,
          32313.10546875,
          33581.55078125,
          34292.4453125,
          35350.1875,
          37337.53515625,
          39406.94140625,
          39995.90625,
          40008.421875,
          42235.546875,
          41626.1953125,
          39974.89453125,
          39201.9453125,
          38152.98046875,
          39747.50390625,
          40869.5546875,
          42816.5,
          44555.80078125,
          43798.1171875,
          46365.40234375,
          45585.03125,
          45593.63671875,
          44428.2890625,
          47793.3203125,
          47096.9453125,
          47047.00390625,
          46004.484375,
          44695.359375,
          44801.1875,
          46717.578125,
          49339.17578125,
          48905.4921875,
          49321.65234375,
          49546.1484375,
          47706.1171875,
          48960.7890625,
          46942.21875,
          49058.66796875,
          48902.40234375,
          48829.83203125,
          47054.984375,
          47166.6875,
          48847.02734375,
          49327.72265625,
          50025.375,
          49944.625,
          51753.41015625,
          52633.53515625,
          46811.12890625,
          46091.390625,
          46391.421875,
          44883.91015625,
          45201.45703125,
          46063.26953125,
          44963.07421875,
          47092.4921875,
          48176.34765625,
          47783.359375,
          47267.51953125,
          48278.36328125,
          47260.21875,
          42843.80078125,
          40693.67578125,
          43574.5078125,
          44895.09765625,
          42839.75,
          42716.59375,
          43208.5390625,
          42235.73046875,
          41034.54296875,
          41564.36328125,
          43790.89453125,
          48116.94140625,
          47711.48828125,
          48199.953125,
          49112.90234375,
          51514.8125,
          55361.44921875,
          53805.984375,
          53967.84765625,
          54968.22265625,
          54771.578125,
          57484.7890625,
          56041.05859375,
          57401.09765625,
          57321.5234375,
          61593.94921875,
          60892.1796875,
          61553.6171875,
          62026.078125,
          64261.9921875,
          65992.8359375,
          62210.171875,
          60692.265625,
          61393.6171875,
          60930.8359375,
          63039.82421875,
          60363.79296875,
          58482.38671875,
          60622.13671875,
          62227.96484375,
          61888.83203125,
          61318.95703125,
          61004.40625,
          63226.40234375,
          62970.046875,
          61452.23046875,
          61125.67578125,
          61527.48046875,
          63326.98828125,
          67566.828125,
          66971.828125,
          64995.23046875,
          64949.9609375,
          64155.94140625,
          64469.52734375,
          65466.83984375,
          63557.87109375,
          60161.24609375,
          60368.01171875,
          56942.13671875,
          58119.578125,
          59697.1953125,
          58730.4765625,
          56289.2890625,
          57569.07421875,
          56280.42578125,
          57274.6796875,
          53569.765625,
          54815.078125,
          57248.45703125,
          57806.56640625,
          57005.42578125,
          57229.828125,
          56477.81640625,
          53598.24609375,
          49200.703125,
          49368.84765625,
          50582.625,
          50700.0859375,
          50504.796875,
          47672.12109375,
          47243.3046875,
          49362.5078125,
          50098.3359375,
          46737.48046875,
          46612.6328125,
          48896.72265625,
          47665.42578125,
          46202.14453125,
          46848.77734375,
          46707.015625,
          46880.27734375,
          48936.61328125,
          48628.51171875,
          50784.5390625,
          50822.1953125,
          50429.859375,
          50809.515625,
          50640.41796875,
          47588.85546875,
          46444.7109375,
          47178.125,
          46306.4453125,
          47686.8125,
          47345.21875,
          46458.1171875,
          45897.57421875,
          43569.00390625,
          43160.9296875,
          41557.90234375,
          41733.94140625,
          41911.6015625,
          41821.26171875,
          42735.85546875,
          43949.1015625,
          42591.5703125,
          43099.69921875,
          43177.3984375,
          43113.87890625,
          42250.55078125,
          42375.6328125,
          41744.328125,
          40680.41796875,
          36457.31640625,
          35030.25,
          36276.8046875,
          36654.328125,
          36954.00390625,
          36852.12109375,
          37138.234375,
          37784.33203125,
          38138.1796875,
          37917.6015625,
          38483.125,
          38743.2734375,
          36952.984375,
          37154.6015625,
          41500.875,
          41441.1640625,
          42412.43359375,
          43840.28515625,
          44118.4453125,
          44338.796875,
          43565.11328125,
          42407.9375,
          42244.46875,
          42197.515625,
          42586.91796875,
          44575.203125,
          43961.859375,
          40538.01171875,
          40030.9765625,
          40122.15625,
          38431.37890625,
          37075.28125,
          38286.02734375,
          37296.5703125,
          38332.609375,
          39214.21875,
          39105.1484375,
          37709.78515625,
          43193.234375,
          44354.63671875,
          43924.1171875,
          42451.7890625,
          39137.60546875,
          39400.5859375,
          38419.984375,
          38062.0390625,
          38737.26953125,
          41982.92578125,
          39437.4609375,
          38794.97265625,
          38904.01171875,
          37849.6640625,
          39666.75390625,
          39338.78515625
         ],
         "type": "box",
         "xaxis": "x3",
         "yaxis": "y3"
        },
        {
         "name": "",
         "showlegend": false,
         "x": [
          33997889639,
          45368026430,
          38622642935,
          37878801016,
          51000731797,
          54442976103,
          42494390880,
          40099664740,
          46491916000,
          48221910672,
          44590107888,
          35319797642,
          34585598367,
          34885225901,
          28373690931,
          37101651525,
          32786468812,
          40346426266,
          47660646124,
          38976504903,
          33185988584,
          29510409856,
          46896904615,
          44243482668,
          37563249549,
          34815139178,
          43622840992,
          31222085946,
          35759567632,
          38619308647,
          34110434052,
          32288311031,
          46783242377,
          32513423567,
          32447188386,
          31311210215,
          37747113936,
          32589741511,
          33249153866,
          43500782316,
          34636526286,
          32941541447,
          33070154491,
          36162144725,
          33187959921,
          60201052203,
          66964629541,
          44068389997,
          40134388683,
          47101785174,
          45718796276,
          43148462663,
          49371886931,
          61112700562,
          51780748042,
          46566121841,
          63325279337,
          57119858802,
          42142717533,
          45558144023,
          56426907637,
          48158802327,
          36164766408,
          40084250663,
          41827139896,
          39254288955,
          36546239703,
          39326160532,
          29810773699,
          27727866812,
          32518803300,
          31288157264,
          29584186947,
          32740536902,
          34367073114,
          32896642044,
          32722975141,
          27773290299,
          35198901068,
          39137252109,
          25007459262,
          25921805072,
          23509628646,
          20438419222,
          25015250846,
          21486346312,
          23717842783,
          25706567601,
          30247143440,
          22610564515,
          17564322315,
          18991732746,
          26699704768,
          21565537209,
          20177709879,
          17770083003,
          19632223107,
          17130541557,
          15324301169,
          21104009514,
          17006433272,
          18961716076,
          18616048626,
          18341465837,
          17273093144,
          14560870760,
          16460547078,
          15735797744,
          15971550355,
          16338916796,
          13078970999,
          12290528515,
          12903406143,
          17889263252,
          13839652595,
          19702359883,
          18000702524,
          16860035605,
          13249910444,
          14452361907,
          17519821266,
          18085038362,
          15844731575,
          15713967523,
          13944570749,
          12252601475,
          12939002784,
          13755604146,
          18069581956,
          16532254884,
          18146399002,
          16552768325,
          16610070933,
          20507998997,
          35359749590,
          28766551142,
          24617249715,
          22857247901,
          23160469766,
          26075670303,
          27410067336,
          20271713443,
          21250197042,
          24411254471,
          23400740340,
          23132312867,
          17572057837,
          17489608833,
          26114112569,
          27039782640,
          25064548486,
          27522199497,
          24237958589,
          23354924400,
          20583375490,
          28227687027,
          26043227672,
          24502851117,
          20175242945,
          23762425999,
          20224191306,
          18482062658,
          20681511755,
          26301509932,
          22466660958,
          23240415076,
          19807127588,
          17485597759,
          19760127945,
          22285928250,
          27311555343,
          28037405299,
          31927261555,
          29965130374,
          44916565292,
          37071460174,
          33703098409,
          33430927462,
          24128292755,
          54406443211,
          45201121775,
          36750077324,
          36506852789,
          35453581940,
          32509451925,
          30769986455,
          38151810523,
          26341903912,
          22764204008,
          24699523788,
          28884999244,
          23621787804,
          23788661867,
          47144380902,
          39348590957,
          46852525493,
          53745972818,
          47762394731,
          46582396602,
          44171073700,
          40023134100,
          48661453918,
          44660271563,
          71251776995,
          47537578009,
          42623695307,
          37799458436,
          63314794397,
          22799117613,
          22877978588,
          19968627060,
          26163972642,
          24241420251,
          24103426719,
          24487233058,
          25635480772,
          19130430174,
          18283314340,
          23860769928,
          30915821592,
          43414712626,
          34729759598,
          28974975003,
          24542317940,
          24406920575,
          29461458313,
          33749878156,
          35867318895,
          56499499598,
          30581485201,
          30306464719,
          24453857900,
          30771455468,
          29869951617,
          35116364962,
          40856321439,
          39837841971,
          35024953706,
          26632075029,
          34149115566,
          25574938143,
          29772374934,
          34175758344,
          31599492172,
          27481710135,
          23653867583,
          31526766675,
          39006849170,
          49064800278,
          36985055355,
          36992873940,
          39650210707,
          41280434226,
          42741112308,
          51469565009,
          43710357371,
          61396835737,
          38886494645,
          32601040734,
          31133957704,
          47728480399,
          49633658712,
          37387697139,
          31930317405,
          33872388058,
          27242455064,
          25293775714,
          26896357742,
          31692288756,
          34420373071,
          25547132265,
          27919640985,
          21752580802,
          25450468637,
          22473997681,
          26741982541,
          44409011479,
          71378606374,
          40387896275,
          38487546580,
          37844228422,
          45852713981,
          44171632681,
          51146161904,
          41080759713,
          42068395846,
          48332647295,
          66479895605,
          49056742893,
          45265946774,
          51287442704,
          46754964848,
          40730301359,
          67865420765,
          78665235202,
          81163475344,
          67547324782,
          75289433811,
          84762141031,
          88107519480,
          61984162837,
          79980747690,
          123320567399,
          74773277909,
          69364315979,
          63615990033,
          67760757881,
          57706187875,
          52359854336,
          49511702429,
          57244195486,
          66834573161,
          75643067688,
          77207272511,
          48354737975,
          48643830599,
          59897054838,
          60255421470,
          62576762015,
          76517157706,
          117894572511,
          65141828798,
          52754542671,
          61400400660,
          63088585433,
          61166818159,
          68838074392,
          58598066402,
          71326033653,
          65500641143,
          101467222687,
          91809846886,
          87301089896,
          81388911810,
          76555041196,
          70250456155,
          71248675228,
          77069903166,
          77049582886,
          80820545404,
          52054723579,
          63495496918,
          68145460026,
          51897585191,
          92052420332,
          106102492824,
          63695521388,
          54506565949,
          350967941479,
          45910946382,
          53443887451,
          53891300112,
          47530897720,
          53220811975,
          52343816680,
          48625928883,
          34363564661,
          43137459378,
          48597428048,
          50912227385,
          57295577614,
          56772343595,
          55689944702,
          60669829814,
          43901225564,
          66419369890,
          59749798599,
          60258313191,
          55746041000,
          49063873786,
          50361731222,
          51943414539,
          56521454974,
          56435023914,
          70567223787,
          67999812841,
          56652197978,
          47266542233,
          47686580918,
          57625587027,
          54414116432,
          65520826225,
          61669163792,
          58727860620,
          59641344484,
          50749662970,
          60706272115,
          66058027988,
          75645303584,
          53053855641,
          46655208546,
          58238470525,
          46280252580,
          51828688519,
          69983454362,
          77451779687,
          60954381579,
          84293007468,
          66138759198,
          97468872758,
          65344865159,
          67849323955,
          54926612466,
          74798630778,
          86668667320,
          49014494781,
          46117114240,
          58284039825,
          49448222757,
          48000572955,
          46088929780,
          52395931985,
          42836427360,
          38177405335,
          51713139031,
          68564706967,
          69241316747,
          69523285106,
          68434023376,
          65382980634,
          65906690347,
          71776546298,
          61308396325,
          75215403907,
          96721152926,
          55737497453,
          59161047474,
          64047871555,
          74903638450,
          56187365084,
          126358098747,
          88281943359,
          82051616861,
          57377273240,
          78469274361,
          67359584098,
          56211915803,
          51346735160,
          43210968721,
          55200191952,
          45231013335,
          31646080921,
          39009847639,
          34639423297,
          33070867190,
          35460750427,
          41831090187,
          35959473399,
          28913440585,
          33683936663,
          49902050442,
          53972919008,
          43576032854,
          38699736985,
          37924228550,
          40669112838,
          43148914673,
          46420149185,
          39211635100,
          37096670047,
          36200887275,
          31207279719,
          36664034054,
          52809038594,
          58964353058,
          46317108925,
          33123368116,
          40230904226,
          38585385521,
          35511640894,
          33892523752,
          37901460044,
          34059036099,
          37838957079,
          38728974942,
          24383958643,
          24924307911,
          26721554282,
          26501259870,
          24796027477,
          29910396946,
          27436021028,
          22971873468,
          20108729370,
          24321499537,
          19120856669,
          21376531210,
          21300524237,
          23699476918,
          18895018942,
          18787986667,
          20434789545,
          23148267245,
          28203024559,
          19555230518,
          22552046192,
          21664706865,
          20856685287,
          51022126212,
          35097370560,
          38702404695,
          27167146027,
          33072782960,
          25802845343,
          26688438115,
          25595265436,
          26189830450,
          25372562724,
          35185031017,
          38226483046,
          40030862141,
          36302664750,
          38734079049,
          33546019517,
          34319709073,
          33723620826,
          31744259539,
          31211354442,
          30988958446,
          32776876610,
          33451362600,
          32194123075,
          37204312299,
          34706867452,
          40585205312,
          25370975378,
          34305053719,
          35361168834,
          32646349931,
          32666549568,
          34511076995,
          28568103401,
          25889650240,
          31847007016,
          34730363427,
          39139399125,
          39508070319,
          43206179619,
          37471327794,
          30322676319,
          38884105426,
          65210059683,
          49007762488,
          38672657013,
          39154666597,
          34499835245,
          27881980161,
          40969943253,
          38652152880,
          30484496466,
          31764293754,
          28727713711,
          28575630451,
          26967722648,
          43909845642,
          48701090088,
          38139709246,
          34244064430,
          42839345714,
          31604717236,
          30661222077,
          30980029059,
          30214940550,
          30602359905,
          31141681925,
          42850641582,
          30614346492,
          26638115879,
          33383173002,
          35873904236,
          49034730168,
          36807860413,
          34800873924,
          32491211414,
          39527792364,
          42637331698,
          41083758949,
          41684252783,
          36615791366,
          51780081801,
          34250964237,
          29032367511,
          38055562075,
          40471196346,
          40788955582,
          45908121370,
          38434082775,
          26882546034,
          27316183882,
          31064911614,
          34878965587,
          43657076893,
          45257083247,
          36856881767,
          32157938616,
          32241199927,
          36150572843,
          37746665647,
          36124731509,
          32615846901,
          30605102446,
          29094934221,
          24726754302,
          41125608330,
          42357991721,
          48730828378,
          35880633236,
          36084893887,
          30474228777,
          25122092191,
          30558763548,
          46844335592,
          39178392930,
          41388338699,
          38702407772,
          30624264863,
          26123447605,
          35036121783,
          37485803899,
          36635566789,
          34284016248,
          41810748221,
          30560857714,
          28116886357,
          32370840356,
          36708594618,
          36858195307,
          32379968686,
          39789134215,
          61385677469,
          37198201161,
          37707308001,
          33676814852,
          28479699446,
          29603577251,
          30966005122,
          25775869261,
          21939223599,
          32166727776,
          34638619079,
          36541828520,
          27268150947,
          32902725329,
          26098292690,
          25154053861,
          30961902129,
          27055803928,
          24447979559,
          28223878108,
          24367912228,
          19030650914,
          20964372926,
          24324345758,
          33430376883,
          30049226299,
          26686491018,
          36974172400,
          24582667004,
          27951569547,
          33071628362,
          42494677905,
          36851084859,
          30208048289,
          84196607520,
          28066355845,
          21294384372,
          32104232331,
          26327648900,
          33499938689,
          47691135082,
          23577403399,
          18371348298,
          17902097845,
          21690904261,
          22417209227,
          23091543258,
          20382033940,
          43011992031,
          39714385405,
          26017975951,
          41856658597,
          26428189594,
          31324598034,
          25041426629,
          22238830523,
          17194183075,
          14643548444,
          20734730465,
          20288500328,
          19155189416,
          18591534769,
          29412210792,
          19652846215,
          16142097334,
          28641855926,
          33079398868,
          23245887300,
          32142048537,
          26954925781,
          18152390304,
          14741589015,
          20827783012,
          22721659051,
          19792547657,
          26246662813,
          23310007704,
          13736557863,
          18340576452,
          29280402798,
          25493150450,
          21849073843,
          46383802093,
          26545599159,
          17467554129,
          23450127612,
          35690014104,
          32479047645,
          29183112630,
          24967782593,
          28516271427,
          16975917450,
          19745229902,
          28546143503,
          25776583476,
          32284121034,
          31078064711,
          26364890465,
          14616450657,
          17300745310,
          24322159070,
          23934000868
         ],
         "type": "box",
         "xaxis": "x4",
         "yaxis": "y4"
        },
        {
         "name": "",
         "showlegend": false,
         "x": [
          5169.283203125,
          4575.35791015625,
          4981.9091796875,
          5069.3359375,
          5236.96875,
          5865.78173828125,
          5932.8232421875,
          5823.7138671875,
          5785.00439453125,
          6411.06640625,
          6536.92626953125,
          6590.962890625,
          6466.70166015625,
          6117.837890625,
          5920.0859375,
          5903.234375,
          6374.162109375,
          6202.37353515625,
          6595.91845703125,
          6673.3359375,
          6696.48486328125,
          6715.92919921875,
          6782.8896484375,
          7136.71435546875,
          7153.3056640625,
          7179.09423828125,
          6802.47509765625,
          6789.9208984375,
          6811.078125,
          6668.259765625,
          6793.8212890625,
          6633.40283203125,
          6555.50439453125,
          7050.33203125,
          7089.2470703125,
          7167.0546875,
          6835.5029296875,
          6834.4423828125,
          6867.78173828125,
          7081.5947265625,
          7434.181640625,
          7521.67236328125,
          7561.40771484375,
          7679.4189453125,
          7730.806640625,
          7786.04931640625,
          8533.255859375,
          8667.763671875,
          8811.3662109375,
          8830.9716796875,
          8645.0244140625,
          8856.8271484375,
          8966.7060546875,
          9138.322265625,
          9767.1728515625,
          9580.64453125,
          8395.107421875,
          8374.3232421875,
          8569.6435546875,
          8805.3876953125,
          9255.03515625,
          9261.3984375,
          9260.6943359375,
          9349.5458984375,
          9570.359375,
          9539.6240234375,
          9447.201171875,
          8869.9306640625,
          9008.638671875,
          9118.1083984375,
          8787.2509765625,
          8719.66796875,
          8757.2939453125,
          8834.1572265625,
          9148.45703125,
          9379.3388671875,
          9366.7294921875,
          9432.296875,
          9450.8994140625,
          9460.5712890625,
          9471.8466796875,
          9525.2470703125,
          9663.216796875,
          9591.0244140625,
          9458.150390625,
          9675.8857421875,
          9664.7197265625,
          9728.291015625,
          9263.0693359375,
          9285.8515625,
          9396.009765625,
          9347.59375,
          8990.17578125,
          9400.4453125,
          9327.33984375,
          9328.3955078125,
          9274.2958984375,
          9247.3798828125,
          9300.4306640625,
          9296.8720703125,
          9547.2470703125,
          9278.2333984375,
          9095.32421875,
          9101.73828125,
          8998.216796875,
          8975.525390625,
          9041.8759765625,
          9084.837890625,
          9104.7353515625,
          9036.623046875,
          9058.794921875,
          9053.6298828125,
          8977.015625,
          9058.6640625,
          9201.8154296875,
          9249.5,
          9234.9990234375,
          9118.001953125,
          9199.4853515625,
          9197.4501953125,
          9224.29296875,
          9171.6611328125,
          9171.93359375,
          9088.947265625,
          9089.2021484375,
          9100.82421875,
          9097.6328125,
          9137.509765625,
          9149.3896484375,
          9319.6533203125,
          9483.00390625,
          9481.4541015625,
          9530.2119140625,
          9652.84765625,
          9903.9697265625,
          10632.6318359375,
          10856.1416015625,
          10895.455078125,
          10987.0537109375,
          11239.6826171875,
          11018.1298828125,
          11012.4150390625,
          11094.1455078125,
          11158.28515625,
          11598.7138671875,
          11408.59375,
          11558.431640625,
          11548.7841796875,
          11662.2568359375,
          11195.708984375,
          11249.60546875,
          11216.8720703125,
          11685.455078125,
          11768.697265625,
          11737.1884765625,
          11806.6962890625,
          11954.525390625,
          11687.3330078125,
          11710.0634765625,
          11564.9794921875,
          11448.8056640625,
          11559.9208984375,
          11623.25,
          11189.8505859375,
          11296.9931640625,
          11185.94140625,
          11316.4228515625,
          11466.29296875,
          11492.3818359375,
          11598.318359375,
          11601.12890625,
          11290.7939453125,
          10182.46484375,
          10207.9404296875,
          9946.67578125,
          10056.8857421875,
          9916.4931640625,
          9945.1103515625,
          10017.2509765625,
          10238.1357421875,
          10140.8369140625,
          10292.38671875,
          10224.330078125,
          10266.0087890625,
          10656.4599609375,
          10704.884765625,
          10774.6279296875,
          10829.6572265625,
          10909.6181640625,
          10814.4775390625,
          10380.2607421875,
          10382.7265625,
          10197.865234375,
          10231.490234375,
          10578.9140625,
          10667.28125,
          10622.921875,
          10703.8935546875,
          10649.4951171875,
          10669.3212890625,
          10472.3564453125,
          10416.689453125,
          10511.1298828125,
          10534.3916015625,
          10634.6005859375,
          10528.890625,
          10562.5068359375,
          10562.6064453125,
          10846.8505859375,
          11056.9404296875,
          11288.6279296875,
          11240.6865234375,
          11321.224609375,
          11307.8310546875,
          11303.603515625,
          11223.0126953125,
          11285.345703125,
          11347.578125,
          11408.2900390625,
          11681.48046875,
          11900.9287109375,
          12717.09375,
          12752.6474609375,
          12885.7470703125,
          12910.0615234375,
          12822.3828125,
          13060.837890625,
          12932.2509765625,
          12980.0595703125,
          13136.1982421875,
          13457.5302734375,
          13628.3779296875,
          13243.16015625,
          13325.44140625,
          13580.4716796875,
          14102.0888671875,
          15226.83984375,
          14423.203125,
          14744.1103515625,
          14865.529296875,
          15124.9599609375,
          15290.0068359375,
          15534.771484375,
          15992.15234375,
          15749.193359375,
          15793.5341796875,
          15880.7060546875,
          16564.544921875,
          17352.90625,
          17382.5546875,
          17765.794921875,
          18444.359375,
          17671.384765625,
          18000.796875,
          18128.65625,
          18581.146484375,
          16351.03515625,
          16526.423828125,
          16910.65234375,
          17559.1171875,
          18178.322265625,
          18321.921875,
          18347.71875,
          18925.78515625,
          18697.193359375,
          18590.193359375,
          18897.89453125,
          18931.142578125,
          18269.9453125,
          17935.546875,
          17957.064453125,
          17619.533203125,
          18046.041015625,
          18734.33203125,
          19012.708984375,
          19079.841796875,
          19298.31640625,
          21234.67578125,
          22399.8125,
          22826.47265625,
          23147.7109375,
          22159.3671875,
          22430.60546875,
          22802.646484375,
          22777.59765625,
          23463.673828125,
          24522.689453125,
          25922.76953125,
          26207.640625,
          25987.298828125,
          27360.08984375,
          28201.9921875,
          28803.5859375,
          29091.181640625,
          32052.31640625,
          28722.755859375,
          30221.1875,
          33514.03515625,
          36491.19140625,
          36838.63671875,
          38980.875,
          35984.62890625,
          30549.599609375,
          32697.9765625,
          32584.66796875,
          36868.5625,
          34659.58984375,
          35633.5546875,
          34069.3203125,
          34883.84375,
          36069.8046875,
          33570.4765625,
          30250.75,
          28953.373046875,
          31493.16015625,
          31106.685546875,
          32087.787109375,
          31030.265625,
          29367.138671875,
          30023.20703125,
          32064.814453125,
          32940.1875,
          32270.17578125,
          32384.228515625,
          33489.21875,
          35443.984375,
          36317.5,
          36658.76171875,
          38138.38671875,
          37446.15234375,
          38076.32421875,
          45166.9609375,
          43881.15234375,
          44187.76171875,
          46424.9765625,
          46392.28125,
          47114.5078125,
          46347.4765625,
          47201.3046875,
          49072.37890625,
          51015.765625,
          50937.27734375,
          54626.55859375,
          55672.609375,
          48967.56640625,
          45290.58984375,
          47213.5,
          47093.8515625,
          44454.84375,
          45269.02734375,
          43241.6171875,
          45115.09375,
          47228.84375,
          48274.3203125,
          47656.9296875,
          46542.515625,
          47257.52734375,
          48918.6796875,
          49506.0546875,
          51981.83203125,
          53290.890625,
          54484.59375,
          55376.6484375,
          56217.97265625,
          59302.31640625,
          55393.1640625,
          53555.02734375,
          54528.62890625,
          54253.578125,
          56643.703125,
          58213.296875,
          56005.6171875,
          54288.15625,
          53470.6953125,
          52514.33203125,
          50856.5703125,
          51579.85546875,
          54242.91015625,
          55071.11328125,
          55139.33984375,
          57251.55078125,
          57726.41796875,
          58505.27734375,
          58869.28125,
          57603.890625,
          57168.67578125,
          57694.82421875,
          57646.80859375,
          55604.0234375,
          55879.0859375,
          57807.86328125,
          58038.70703125,
          59289.796875,
          59589.875,
          59869.95703125,
          61554.796875,
          62208.96484375,
          60222.53125,
          60361.3515625,
          52829.53515625,
          54368.59375,
          53448.046875,
          53695.46875,
          50583.8125,
          47714.6640625,
          48805.28515625,
          47159.484375,
          48852.796875,
          53319.1875,
          53887.91796875,
          52418.02734375,
          53129.6015625,
          57052.2734375,
          56141.90625,
          56590.87109375,
          53191.42578125,
          52969.0546875,
          55382.5078125,
          55321.84765625,
          56975.2109375,
          56482.00390625,
          54071.45703125,
          54608.65234375,
          49150.53515625,
          46980.01953125,
          48868.578125,
          46664.140625,
          43963.3515625,
          42207.2890625,
          42367.83203125,
          30681.49609375,
          35050.6171875,
          33616.453125,
          35383.68359375,
          31227.33984375,
          34551.08203125,
          36581.4296875,
          37905.8359375,
          37247.90234375,
          34779.0390625,
          33693.9296875,
          33520.73828125,
          34241.9453125,
          35787.0859375,
          35966.30859375,
          37243.97265625,
          35717.72265625,
          34900.4140625,
          35304.578125,
          33480.640625,
          31114.443359375,
          32475.865234375,
          35847.59375,
          36044.44921875,
          34728.19140625,
          34864.109375,
          38757.28515625,
          39609.46875,
          38176.03515625,
          37439.67578125,
          35255.85546875,
          34933.0625,
          33432.07421875,
          31295.935546875,
          28893.62109375,
          31772.6328125,
          32385.21484375,
          31350.884765625,
          30184.501953125,
          32071.7578125,
          33902.07421875,
          34252.484375,
          34086.15234375,
          32883.78125,
          32770.6796875,
          33402.6953125,
          34396.4765625,
          33213.66015625,
          33599.91796875,
          33839.2890625,
          32133.18359375,
          32318.880859375,
          33116.01171875,
          33346.73828125,
          32697.30859375,
          32261.419921875,
          31639.125,
          31175.708984375,
          31100.673828125,
          31223.990234375,
          31215.4921875,
          30563.734375,
          29360.955078125,
          29526.18359375,
          31745.298828125,
          32057.892578125,
          33424.859375,
          33881.8359375,
          35287.3125,
          36441.7265625,
          38862.4375,
          39352.05859375,
          38397.35546875,
          41110.83203125,
          39540.94140625,
          38746.34765625,
          37782.05078125,
          37589.1640625,
          37458.00390625,
          39932.1796875,
          42618.56640625,
          43331.91015625,
          42848.6875,
          44705.5546875,
          45351.7109375,
          43861.4453125,
          44282.41796875,
          46177.6328125,
          45579.58984375,
          45700.3203125,
          44512.41796875,
          44364.02734375,
          43998.31640625,
          46650.70703125,
          48312.19921875,
          48199.94140625,
          49074.60546875,
          47687.1171875,
          47163.61328125,
          46405.78125,
          46394.28125,
          48499.23828125,
          47925.85546875,
          46950.2734375,
          46750.09375,
          46562.4375,
          48652.3203125,
          48386.0859375,
          49548.78125,
          49538.59765625,
          51053.6796875,
          43285.20703125,
          44561.39453125,
          45669.73828125,
          44344.484375,
          44818.265625,
          44790.4609375,
          43591.3203125,
          44752.33203125,
          46773.328125,
          47079.55859375,
          46832.5234375,
          47087.28515625,
          46919.8046875,
          42598.9140625,
          39787.609375,
          40625.6328125,
          43109.33984375,
          40936.55859375,
          41759.921875,
          40848.4609375,
          42190.6328125,
          40931.6640625,
          40829.66796875,
          41444.58203125,
          43320.0234375,
          47465.49609375,
          47157.2890625,
          47045.00390625,
          49072.83984375,
          50488.19140625,
          53525.46875,
          53688.0546875,
          53735.14453125,
          54264.2578125,
          54519.765625,
          54477.97265625,
          54370.97265625,
          56957.07421875,
          56868.14453125,
          60206.12109375,
          59164.46875,
          60012.7578125,
          61622.93359375,
          63610.67578125,
          62117.41015625,
          60122.796875,
          59826.5234375,
          59643.34375,
          60691.80078125,
          59991.16015625,
          58208.1875,
          58206.91796875,
          60329.96484375,
          60918.38671875,
          60074.328125,
          59695.18359375,
          60673.0546875,
          61184.23828125,
          60799.6640625,
          60844.609375,
          60163.78125,
          61432.48828125,
          63344.06640625,
          66382.0625,
          63208.11328125,
          64180.48828125,
          62333.9140625,
          63303.734375,
          63647.80859375,
          63548.14453125,
          59016.3359375,
          58515.41015625,
          56550.79296875,
          55705.1796875,
          57469.7265625,
          58618.9296875,
          55679.83984375,
          55632.76171875,
          55964.22265625,
          57146.68359375,
          53569.765625,
          53668.35546875,
          53576.734375,
          56792.52734375,
          56057.28125,
          56553.08203125,
          55895.1328125,
          52496.5859375,
          42874.6171875,
          47857.49609375,
          47281.03515625,
          50175.80859375,
          48765.98828125,
          47358.3515625,
          47023.69921875,
          46942.34765625,
          48725.8515625,
          45894.84765625,
          46424.49609375,
          46671.96484375,
          47529.87890625,
          45618.21484375,
          45598.44140625,
          46502.953125,
          45579.80859375,
          46698.7734375,
          48450.94140625,
          48065.8359375,
          50514.49609375,
          50236.70703125,
          49623.10546875,
          50499.46875,
          47414.2109375,
          46201.49609375,
          46060.3125,
          45819.953125,
          46288.484375,
          46856.9375,
          45835.96484375,
          45752.46484375,
          42798.22265625,
          42645.5390625,
          41077.4453125,
          40672.27734375,
          41338.16015625,
          39796.5703125,
          41407.75390625,
          42528.98828125,
          42447.04296875,
          41982.6171875,
          42669.03515625,
          42691.0234375,
          41680.3203125,
          41392.21484375,
          41242.9140625,
          40672.82421875,
          35791.42578125,
          34349.25,
          34784.96875,
          33184.05859375,
          35779.4296875,
          36374.90625,
          35629.28125,
          36211.109375,
          37406.47265625,
          37437.7109375,
          36733.57421875,
          38113.6640625,
          36832.73046875,
          36375.5390625,
          37093.62890625,
          41038.09765625,
          41244.90625,
          41748.15625,
          42807.8359375,
          43232.96875,
          43402.80859375,
          42114.5390625,
          41852.57421875,
          41950.94140625,
          41681.95703125,
          42491.03515625,
          43456.69140625,
          40249.37109375,
          39637.6171875,
          39713.05859375,
          38112.8125,
          36950.4765625,
          36488.93359375,
          37201.81640625,
          34459.21875,
          38111.34375,
          38702.53515625,
          37268.9765625,
          37518.21484375,
          42952.5859375,
          43432.8515625,
          41914.75,
          38805.84765625,
          38777.03515625,
          38211.6484375,
          37260.203125,
          37957.38671875,
          38706.09375,
          38832.94140625,
          38347.43359375,
          38772.53515625,
          37728.14453125,
          37680.734375,
          38310.2109375
         ],
         "type": "box",
         "xaxis": "x5",
         "yaxis": "y5"
        }
       ],
       "layout": {
        "template": {
         "data": {
          "histogram2dcontour": [
           {
            "type": "histogram2dcontour",
            "colorbar": {
             "outlinewidth": 0,
             "ticks": ""
            },
            "colorscale": [
             [
              0.0,
              "#0d0887"
             ],
             [
              0.1111111111111111,
              "#46039f"
             ],
             [
              0.2222222222222222,
              "#7201a8"
             ],
             [
              0.3333333333333333,
              "#9c179e"
             ],
             [
              0.4444444444444444,
              "#bd3786"
             ],
             [
              0.5555555555555556,
              "#d8576b"
             ],
             [
              0.6666666666666666,
              "#ed7953"
             ],
             [
              0.7777777777777778,
              "#fb9f3a"
             ],
             [
              0.8888888888888888,
              "#fdca26"
             ],
             [
              1.0,
              "#f0f921"
             ]
            ]
           }
          ],
          "choropleth": [
           {
            "type": "choropleth",
            "colorbar": {
             "outlinewidth": 0,
             "ticks": ""
            }
           }
          ],
          "histogram2d": [
           {
            "type": "histogram2d",
            "colorbar": {
             "outlinewidth": 0,
             "ticks": ""
            },
            "colorscale": [
             [
              0.0,
              "#0d0887"
             ],
             [
              0.1111111111111111,
              "#46039f"
             ],
             [
              0.2222222222222222,
              "#7201a8"
             ],
             [
              0.3333333333333333,
              "#9c179e"
             ],
             [
              0.4444444444444444,
              "#bd3786"
             ],
             [
              0.5555555555555556,
              "#d8576b"
             ],
             [
              0.6666666666666666,
              "#ed7953"
             ],
             [
              0.7777777777777778,
              "#fb9f3a"
             ],
             [
              0.8888888888888888,
              "#fdca26"
             ],
             [
              1.0,
              "#f0f921"
             ]
            ]
           }
          ],
          "heatmap": [
           {
            "type": "heatmap",
            "colorbar": {
             "outlinewidth": 0,
             "ticks": ""
            },
            "colorscale": [
             [
              0.0,
              "#0d0887"
             ],
             [
              0.1111111111111111,
              "#46039f"
             ],
             [
              0.2222222222222222,
              "#7201a8"
             ],
             [
              0.3333333333333333,
              "#9c179e"
             ],
             [
              0.4444444444444444,
              "#bd3786"
             ],
             [
              0.5555555555555556,
              "#d8576b"
             ],
             [
              0.6666666666666666,
              "#ed7953"
             ],
             [
              0.7777777777777778,
              "#fb9f3a"
             ],
             [
              0.8888888888888888,
              "#fdca26"
             ],
             [
              1.0,
              "#f0f921"
             ]
            ]
           }
          ],
          "heatmapgl": [
           {
            "type": "heatmapgl",
            "colorbar": {
             "outlinewidth": 0,
             "ticks": ""
            },
            "colorscale": [
             [
              0.0,
              "#0d0887"
             ],
             [
              0.1111111111111111,
              "#46039f"
             ],
             [
              0.2222222222222222,
              "#7201a8"
             ],
             [
              0.3333333333333333,
              "#9c179e"
             ],
             [
              0.4444444444444444,
              "#bd3786"
             ],
             [
              0.5555555555555556,
              "#d8576b"
             ],
             [
              0.6666666666666666,
              "#ed7953"
             ],
             [
              0.7777777777777778,
              "#fb9f3a"
             ],
             [
              0.8888888888888888,
              "#fdca26"
             ],
             [
              1.0,
              "#f0f921"
             ]
            ]
           }
          ],
          "contourcarpet": [
           {
            "type": "contourcarpet",
            "colorbar": {
             "outlinewidth": 0,
             "ticks": ""
            }
           }
          ],
          "contour": [
           {
            "type": "contour",
            "colorbar": {
             "outlinewidth": 0,
             "ticks": ""
            },
            "colorscale": [
             [
              0.0,
              "#0d0887"
             ],
             [
              0.1111111111111111,
              "#46039f"
             ],
             [
              0.2222222222222222,
              "#7201a8"
             ],
             [
              0.3333333333333333,
              "#9c179e"
             ],
             [
              0.4444444444444444,
              "#bd3786"
             ],
             [
              0.5555555555555556,
              "#d8576b"
             ],
             [
              0.6666666666666666,
              "#ed7953"
             ],
             [
              0.7777777777777778,
              "#fb9f3a"
             ],
             [
              0.8888888888888888,
              "#fdca26"
             ],
             [
              1.0,
              "#f0f921"
             ]
            ]
           }
          ],
          "surface": [
           {
            "type": "surface",
            "colorbar": {
             "outlinewidth": 0,
             "ticks": ""
            },
            "colorscale": [
             [
              0.0,
              "#0d0887"
             ],
             [
              0.1111111111111111,
              "#46039f"
             ],
             [
              0.2222222222222222,
              "#7201a8"
             ],
             [
              0.3333333333333333,
              "#9c179e"
             ],
             [
              0.4444444444444444,
              "#bd3786"
             ],
             [
              0.5555555555555556,
              "#d8576b"
             ],
             [
              0.6666666666666666,
              "#ed7953"
             ],
             [
              0.7777777777777778,
              "#fb9f3a"
             ],
             [
              0.8888888888888888,
              "#fdca26"
             ],
             [
              1.0,
              "#f0f921"
             ]
            ]
           }
          ],
          "mesh3d": [
           {
            "type": "mesh3d",
            "colorbar": {
             "outlinewidth": 0,
             "ticks": ""
            }
           }
          ],
          "scatter": [
           {
            "fillpattern": {
             "fillmode": "overlay",
             "size": 10,
             "solidity": 0.2
            },
            "type": "scatter"
           }
          ],
          "parcoords": [
           {
            "type": "parcoords",
            "line": {
             "colorbar": {
              "outlinewidth": 0,
              "ticks": ""
             }
            }
           }
          ],
          "scatterpolargl": [
           {
            "type": "scatterpolargl",
            "marker": {
             "colorbar": {
              "outlinewidth": 0,
              "ticks": ""
             }
            }
           }
          ],
          "bar": [
           {
            "error_x": {
             "color": "#2a3f5f"
            },
            "error_y": {
             "color": "#2a3f5f"
            },
            "marker": {
             "line": {
              "color": "#E5ECF6",
              "width": 0.5
             },
             "pattern": {
              "fillmode": "overlay",
              "size": 10,
              "solidity": 0.2
             }
            },
            "type": "bar"
           }
          ],
          "scattergeo": [
           {
            "type": "scattergeo",
            "marker": {
             "colorbar": {
              "outlinewidth": 0,
              "ticks": ""
             }
            }
           }
          ],
          "scatterpolar": [
           {
            "type": "scatterpolar",
            "marker": {
             "colorbar": {
              "outlinewidth": 0,
              "ticks": ""
             }
            }
           }
          ],
          "histogram": [
           {
            "marker": {
             "pattern": {
              "fillmode": "overlay",
              "size": 10,
              "solidity": 0.2
             }
            },
            "type": "histogram"
           }
          ],
          "scattergl": [
           {
            "type": "scattergl",
            "marker": {
             "colorbar": {
              "outlinewidth": 0,
              "ticks": ""
             }
            }
           }
          ],
          "scatter3d": [
           {
            "type": "scatter3d",
            "line": {
             "colorbar": {
              "outlinewidth": 0,
              "ticks": ""
             }
            },
            "marker": {
             "colorbar": {
              "outlinewidth": 0,
              "ticks": ""
             }
            }
           }
          ],
          "scattermapbox": [
           {
            "type": "scattermapbox",
            "marker": {
             "colorbar": {
              "outlinewidth": 0,
              "ticks": ""
             }
            }
           }
          ],
          "scatterternary": [
           {
            "type": "scatterternary",
            "marker": {
             "colorbar": {
              "outlinewidth": 0,
              "ticks": ""
             }
            }
           }
          ],
          "scattercarpet": [
           {
            "type": "scattercarpet",
            "marker": {
             "colorbar": {
              "outlinewidth": 0,
              "ticks": ""
             }
            }
           }
          ],
          "carpet": [
           {
            "aaxis": {
             "endlinecolor": "#2a3f5f",
             "gridcolor": "white",
             "linecolor": "white",
             "minorgridcolor": "white",
             "startlinecolor": "#2a3f5f"
            },
            "baxis": {
             "endlinecolor": "#2a3f5f",
             "gridcolor": "white",
             "linecolor": "white",
             "minorgridcolor": "white",
             "startlinecolor": "#2a3f5f"
            },
            "type": "carpet"
           }
          ],
          "table": [
           {
            "cells": {
             "fill": {
              "color": "#EBF0F8"
             },
             "line": {
              "color": "white"
             }
            },
            "header": {
             "fill": {
              "color": "#C8D4E3"
             },
             "line": {
              "color": "white"
             }
            },
            "type": "table"
           }
          ],
          "barpolar": [
           {
            "marker": {
             "line": {
              "color": "#E5ECF6",
              "width": 0.5
             },
             "pattern": {
              "fillmode": "overlay",
              "size": 10,
              "solidity": 0.2
             }
            },
            "type": "barpolar"
           }
          ],
          "pie": [
           {
            "automargin": true,
            "type": "pie"
           }
          ]
         },
         "layout": {
          "autotypenumbers": "strict",
          "colorway": [
           "#636efa",
           "#EF553B",
           "#00cc96",
           "#ab63fa",
           "#FFA15A",
           "#19d3f3",
           "#FF6692",
           "#B6E880",
           "#FF97FF",
           "#FECB52"
          ],
          "font": {
           "color": "#2a3f5f"
          },
          "hovermode": "closest",
          "hoverlabel": {
           "align": "left"
          },
          "paper_bgcolor": "white",
          "plot_bgcolor": "#E5ECF6",
          "polar": {
           "bgcolor": "#E5ECF6",
           "angularaxis": {
            "gridcolor": "white",
            "linecolor": "white",
            "ticks": ""
           },
           "radialaxis": {
            "gridcolor": "white",
            "linecolor": "white",
            "ticks": ""
           }
          },
          "ternary": {
           "bgcolor": "#E5ECF6",
           "aaxis": {
            "gridcolor": "white",
            "linecolor": "white",
            "ticks": ""
           },
           "baxis": {
            "gridcolor": "white",
            "linecolor": "white",
            "ticks": ""
           },
           "caxis": {
            "gridcolor": "white",
            "linecolor": "white",
            "ticks": ""
           }
          },
          "coloraxis": {
           "colorbar": {
            "outlinewidth": 0,
            "ticks": ""
           }
          },
          "colorscale": {
           "sequential": [
            [
             0.0,
             "#0d0887"
            ],
            [
             0.1111111111111111,
             "#46039f"
            ],
            [
             0.2222222222222222,
             "#7201a8"
            ],
            [
             0.3333333333333333,
             "#9c179e"
            ],
            [
             0.4444444444444444,
             "#bd3786"
            ],
            [
             0.5555555555555556,
             "#d8576b"
            ],
            [
             0.6666666666666666,
             "#ed7953"
            ],
            [
             0.7777777777777778,
             "#fb9f3a"
            ],
            [
             0.8888888888888888,
             "#fdca26"
            ],
            [
             1.0,
             "#f0f921"
            ]
           ],
           "sequentialminus": [
            [
             0.0,
             "#0d0887"
            ],
            [
             0.1111111111111111,
             "#46039f"
            ],
            [
             0.2222222222222222,
             "#7201a8"
            ],
            [
             0.3333333333333333,
             "#9c179e"
            ],
            [
             0.4444444444444444,
             "#bd3786"
            ],
            [
             0.5555555555555556,
             "#d8576b"
            ],
            [
             0.6666666666666666,
             "#ed7953"
            ],
            [
             0.7777777777777778,
             "#fb9f3a"
            ],
            [
             0.8888888888888888,
             "#fdca26"
            ],
            [
             1.0,
             "#f0f921"
            ]
           ],
           "diverging": [
            [
             0,
             "#8e0152"
            ],
            [
             0.1,
             "#c51b7d"
            ],
            [
             0.2,
             "#de77ae"
            ],
            [
             0.3,
             "#f1b6da"
            ],
            [
             0.4,
             "#fde0ef"
            ],
            [
             0.5,
             "#f7f7f7"
            ],
            [
             0.6,
             "#e6f5d0"
            ],
            [
             0.7,
             "#b8e186"
            ],
            [
             0.8,
             "#7fbc41"
            ],
            [
             0.9,
             "#4d9221"
            ],
            [
             1,
             "#276419"
            ]
           ]
          },
          "xaxis": {
           "gridcolor": "white",
           "linecolor": "white",
           "ticks": "",
           "title": {
            "standoff": 15
           },
           "zerolinecolor": "white",
           "automargin": true,
           "zerolinewidth": 2
          },
          "yaxis": {
           "gridcolor": "white",
           "linecolor": "white",
           "ticks": "",
           "title": {
            "standoff": 15
           },
           "zerolinecolor": "white",
           "automargin": true,
           "zerolinewidth": 2
          },
          "scene": {
           "xaxis": {
            "backgroundcolor": "#E5ECF6",
            "gridcolor": "white",
            "linecolor": "white",
            "showbackground": true,
            "ticks": "",
            "zerolinecolor": "white",
            "gridwidth": 2
           },
           "yaxis": {
            "backgroundcolor": "#E5ECF6",
            "gridcolor": "white",
            "linecolor": "white",
            "showbackground": true,
            "ticks": "",
            "zerolinecolor": "white",
            "gridwidth": 2
           },
           "zaxis": {
            "backgroundcolor": "#E5ECF6",
            "gridcolor": "white",
            "linecolor": "white",
            "showbackground": true,
            "ticks": "",
            "zerolinecolor": "white",
            "gridwidth": 2
           }
          },
          "shapedefaults": {
           "line": {
            "color": "#2a3f5f"
           }
          },
          "annotationdefaults": {
           "arrowcolor": "#2a3f5f",
           "arrowhead": 0,
           "arrowwidth": 1
          },
          "geo": {
           "bgcolor": "white",
           "landcolor": "#E5ECF6",
           "subunitcolor": "white",
           "showland": true,
           "showlakes": true,
           "lakecolor": "white"
          },
          "title": {
           "x": 0.05
          },
          "mapbox": {
           "style": "light"
          }
         }
        },
        "xaxis": {
         "anchor": "y",
         "domain": [
          0.0,
          0.45
         ]
        },
        "yaxis": {
         "anchor": "x",
         "domain": [
          0.7777777777777778,
          1.0
         ]
        },
        "xaxis2": {
         "anchor": "y2",
         "domain": [
          0.55,
          1.0
         ]
        },
        "yaxis2": {
         "anchor": "x2",
         "domain": [
          0.7777777777777778,
          1.0
         ]
        },
        "xaxis3": {
         "anchor": "y3",
         "domain": [
          0.0,
          0.45
         ]
        },
        "yaxis3": {
         "anchor": "x3",
         "domain": [
          0.3888888888888889,
          0.6111111111111112
         ]
        },
        "xaxis4": {
         "anchor": "y4",
         "domain": [
          0.55,
          1.0
         ]
        },
        "yaxis4": {
         "anchor": "x4",
         "domain": [
          0.3888888888888889,
          0.6111111111111112
         ]
        },
        "xaxis5": {
         "anchor": "y5",
         "domain": [
          0.0,
          0.45
         ]
        },
        "yaxis5": {
         "anchor": "x5",
         "domain": [
          0.0,
          0.22222222222222224
         ]
        },
        "xaxis6": {
         "anchor": "y6",
         "domain": [
          0.55,
          1.0
         ]
        },
        "yaxis6": {
         "anchor": "x6",
         "domain": [
          0.0,
          0.22222222222222224
         ]
        },
        "annotations": [
         {
          "font": {
           "size": 16
          },
          "showarrow": false,
          "text": "Open",
          "x": 0.225,
          "xanchor": "center",
          "xref": "paper",
          "y": 1.0,
          "yanchor": "bottom",
          "yref": "paper"
         },
         {
          "font": {
           "size": 16
          },
          "showarrow": false,
          "text": "High",
          "x": 0.775,
          "xanchor": "center",
          "xref": "paper",
          "y": 1.0,
          "yanchor": "bottom",
          "yref": "paper"
         },
         {
          "font": {
           "size": 16
          },
          "showarrow": false,
          "text": "Close",
          "x": 0.225,
          "xanchor": "center",
          "xref": "paper",
          "y": 0.6111111111111112,
          "yanchor": "bottom",
          "yref": "paper"
         },
         {
          "font": {
           "size": 16
          },
          "showarrow": false,
          "text": "Volume",
          "x": 0.775,
          "xanchor": "center",
          "xref": "paper",
          "y": 0.6111111111111112,
          "yanchor": "bottom",
          "yref": "paper"
         },
         {
          "font": {
           "size": 16
          },
          "showarrow": false,
          "text": "Low",
          "x": 0.225,
          "xanchor": "center",
          "xref": "paper",
          "y": 0.22222222222222224,
          "yanchor": "bottom",
          "yref": "paper"
         }
        ],
        "height": 800,
        "width": 1000
       },
       "config": {
        "plotlyServerURL": "https://plot.ly"
       }
      },
      "text/html": "<div>                            <div id=\"7d473265-f895-419f-862d-aefc884c007e\" class=\"plotly-graph-div\" style=\"height:800px; width:1000px;\"></div>            <script type=\"text/javascript\">                require([\"plotly\"], function(Plotly) {                    window.PLOTLYENV=window.PLOTLYENV || {};                                    if (document.getElementById(\"7d473265-f895-419f-862d-aefc884c007e\")) {                    Plotly.newPlot(                        \"7d473265-f895-419f-862d-aefc884c007e\",                        [{\"name\":\"\",\"showlegend\":false,\"x\":[5201.06689453125,5385.2294921875,5002.578125,5227.11376953125,5245.41650390625,6191.65380859375,6206.521484375,6185.55810546875,5831.37451171875,6436.642578125,6738.716796875,6675.1708984375,6719.38916015625,6467.25390625,6245.62451171875,5925.53857421875,6430.6064453125,6437.3193359375,6606.7763671875,6797.396484375,6738.3828125,6862.53759765625,6788.0498046875,7273.64404296875,7179.283203125,7337.96630859375,7303.8154296875,6867.4404296875,6858.06787109375,6965.61669921875,6843.28173828125,6845.5615234375,6640.4541015625,7116.552734375,7092.29150390625,7260.92236328125,7186.87353515625,6879.7841796875,6879.4404296875,7121.30615234375,7434.181640625,7550.48291015625,7570.13916015625,7679.4189453125,7796.97021484375,7806.71240234375,8797.669921875,8672.7822265625,8869.0576171875,8983.6142578125,8895.7451171875,8912.83203125,9007.44140625,9261.8955078125,9936.162109375,9840.90625,9591.1689453125,8755.53515625,8610.3857421875,8805.3876953125,9271.3291015625,9734.291015625,9333.240234375,9374.9296875,9675.6953125,9727.0634765625,9725.3291015625,9522.740234375,9080.3349609375,9185.0625,9212.283203125,8786.107421875,8909.5859375,8837.380859375,9184.9453125,9528.35546875,9438.9140625,9700.10546875,9463.60546875,10162.9736328125,9533.7607421875,9655.8544921875,9800.2158203125,9664.904296875,9653.0029296875,9760.0634765625,9774.3603515625,9794.119140625,9870.078125,9320.6904296875,9480.7353515625,9477.5537109375,9386.03515625,9454.2666015625,9533.7841796875,9481.5673828125,9410.2939453125,9290.9599609375,9330.9267578125,9300.9150390625,9644.076171875,9632.1494140625,9314.126953125,9260.9951171875,9167.82421875,9048.4609375,9140.029296875,9185.5810546875,9145.9853515625,9231.1396484375,9124.8427734375,9084.2333984375,9126.0908203125,9072.849609375,9349.1611328125,9253.0205078125,9427.994140625,9273.357421875,9277.51171875,9241.0546875,9277.205078125,9238.703125,9241.8974609375,9191.98046875,9131.8125,9151.18359375,9158.005859375,9187.220703125,9162.5146484375,9375.080078125,9527.1416015625,9585.5146484375,9539.4853515625,9680.234375,9905.2177734375,11017.4638671875,10912.953125,11099.8330078125,11110.2109375,11322.5703125,11758.7646484375,11043.7685546875,11246.203125,11203.8232421875,11749.87109375,11778.89453125,11604.5537109375,11737.3251953125,11662.2568359375,11881.6474609375,11404.5966796875,11588.4052734375,11772.6591796875,11768.697265625,11866.685546875,11895.658203125,12251.8955078125,11990.884765625,11761.5,11878.0263671875,11585.4775390625,11679.6962890625,11663.689453125,11773.5888671875,11366.89453125,11485.6083984375,11325.2958984375,11541.0546875,11508.7138671875,11713.306640625,11679.31640625,11964.8232421875,11407.19140625,10230.365234375,10512.5302734375,10167.216796875,10280.998046875,10369.306640625,10134.1513671875,10242.330078125,10369.0283203125,10409.861328125,10452.3994140625,10328.734375,10677.7548828125,10797.76171875,10973.251953125,10951.8203125,10933.7529296875,11095.8701171875,10934.92578125,10459.6240234375,10535.4921875,10248.7861328125,10761.109375,10695.5751953125,10746.892578125,10776.61328125,10709.650390625,10843.87109375,10795.2548828125,10619.8212890625,10575.1005859375,10550.4404296875,10676.529296875,10796.306640625,10603.35546875,10669.37109375,10927.9130859375,11059.142578125,11296.08203125,11392.6357421875,11548.7197265625,11429.0478515625,11426.6025390625,11502.828125,11322.123046875,11355.982421875,11495.0380859375,11745.974609375,11913.0771484375,12801.6357421875,12971.548828125,12931.57421875,13108.0634765625,13031.201171875,13075.2421875,13654.21484375,13271.298828125,13437.8740234375,13546.5322265625,13780.9951171875,13737.0322265625,13550.451171875,13950.48828125,14133.7333984375,15579.7294921875,15565.880859375,14833.75390625,15479.595703125,15332.3505859375,15290.9091796875,15701.298828125,16276.4404296875,16317.80859375,16068.1396484375,15955.5771484375,16685.69140625,17645.19140625,17803.861328125,17817.083984375,18621.31640625,18642.232421875,18370.017578125,18365.015625,19104.41015625,18729.83984375,17153.9140625,17112.93359375,17719.634765625,18178.322265625,19633.76953125,18801.744140625,19205.92578125,19446.966796875,18698.384765625,19154.1796875,19343.12890625,19191.529296875,18320.884765625,18553.298828125,18263.9296875,18051.3203125,18806.765625,19144.4921875,19246.919921875,19418.818359375,21308.3515625,22806.796875,23132.865234375,23861.765625,23474.455078125,22794.0390625,23781.974609375,23240.203125,23733.5703125,24677.015625,26439.373046875,26280.822265625,27081.810546875,27360.08984375,28841.57421875,28994.009765625,29376.455078125,32129.408203125,32810.94921875,31977.041015625,34013.61328125,36833.875,39381.765625,40788.640625,40254.21875,38346.53125,35516.359375,33915.12109375,37325.109375,39156.70703125,36821.6484375,36163.6484375,35792.23828125,36642.234375,36050.11328125,35549.3984375,30817.625,32985.7578125,32064.376953125,32285.798828125,32358.61328125,32564.029296875,30441.041015625,34318.671875,34295.93359375,34270.87890625,33114.578125,33533.19921875,35510.8203125,37475.10546875,36931.546875,38138.38671875,39250.19140625,38886.828125,46184.9921875,46469.76171875,44898.7109375,47877.03515625,47491.203125,47114.5078125,48696.53515625,47944.45703125,49207.27734375,52140.97265625,51675.98046875,55887.3359375,56068.56640625,57532.73828125,54204.9296875,48835.0859375,49709.08203125,47180.46484375,46344.7734375,46194.015625,45159.50390625,49612.10546875,48415.81640625,50522.3046875,48527.03125,48899.23046875,48918.6796875,51174.1171875,52272.96875,54824.01171875,55963.1796875,57821.21875,57343.37109375,61221.1328125,59267.4296875,55840.78515625,56825.828125,58893.078125,57850.44140625,58332.26171875,58309.9140625,57517.890625,54511.66015625,54710.48828125,52726.74609375,51683.01171875,55137.56640625,55974.94140625,55947.8984375,57750.1328125,58930.27734375,58926.5625,59098.87890625,59397.41015625,57604.83984375,58760.875,59171.93359375,58186.5078125,56099.9140625,58326.5625,58253.77734375,59846.23046875,60175.9453125,59890.01953125,63523.75390625,63075.1953125,63258.50390625,61529.921875,60701.88671875,56191.5859375,55681.79296875,56471.12890625,53857.10546875,51739.80859375,51143.2265625,50052.83203125,49077.79296875,54030.3046875,55036.63671875,54858.08984375,53568.6640625,57714.6640625,57825.86328125,56620.2734375,57214.1796875,53252.1640625,57441.30859375,56413.953125,57352.765625,58877.390625,58250.87109375,55847.2421875,56714.53125,49735.43359375,49682.98046875,49855.49609375,46716.63671875,46415.8984375,43488.05859375,42944.9765625,36753.66796875,40596.94921875,37371.03125,37531.44921875,34700.36328125,38795.78125,38392.625,39316.890625,38507.08203125,35684.15625,34607.40625,35658.59375,37293.79296875,36699.921875,37599.41015625,39242.484375,36880.15625,35538.609375,35835.265625,33589.51953125,33416.9765625,37389.515625,36697.03125,37340.14453125,35555.7890625,39016.96875,40427.16796875,40168.69140625,38341.421875,38099.4765625,35854.52734375,35563.140625,35641.14453125,31622.376953125,32515.71484375,33682.80078125,34659.10546875,31594.6640625,32287.5234375,34679.12109375,34475.55859375,35908.38671875,35035.984375,33549.6015625,33854.421875,34665.56640625,35284.34375,33723.5078125,34225.6796875,33889.60546875,32861.671875,33811.2421875,33509.078125,34254.015625,33125.46875,32723.845703125,32827.875,31841.55078125,31397.30859375,31533.884765625,31800.01171875,30838.28515625,29796.28515625,32138.873046875,32305.958984375,33593.73046875,34290.29296875,35384.03125,37276.03515625,39503.1875,39995.453125,40027.484375,42196.3046875,41460.84375,39907.26171875,39178.40234375,38213.33203125,39744.515625,40865.8671875,42832.796875,44574.4375,43791.92578125,46280.84765625,45599.703125,45576.87890625,44439.69140625,47810.6875,47096.66796875,47019.9609375,45936.45703125,44686.75,44741.8828125,46723.12109375,49327.07421875,48869.10546875,49291.67578125,49562.34765625,47727.2578125,49002.640625,46894.5546875,49072.5859375,48911.25,48834.8515625,47024.33984375,47099.7734375,48807.84765625,49288.25,50009.32421875,49937.859375,51769.00390625,52660.48046875,46827.76171875,45774.7421875,46396.6640625,44869.83984375,45206.62890625,46057.21484375,44960.05078125,47098.0,48158.90625,47771.00390625,47273.52734375,48268.85546875,47261.40625,43012.234375,40677.953125,43560.296875,44894.30078125,42840.890625,42721.62890625,43234.18359375,42200.8984375,41064.984375,41551.26953125,43816.7421875,48137.46875,47680.02734375,48208.90625,49174.9609375,51486.6640625,55338.625,53802.14453125,53929.78125,54952.8203125,54734.125,57526.83203125,56038.2578125,57372.83203125,57345.90234375,61609.52734375,60887.65234375,61548.8046875,62043.1640625,64284.5859375,66002.234375,62237.890625,60694.62890625,61368.34375,60893.92578125,63032.76171875,60352.0,58470.73046875,60624.87109375,62239.36328125,61850.48828125,61320.44921875,60963.25390625,63254.3359375,62941.8046875,61460.078125,61068.875,61554.921875,63344.06640625,67549.734375,66953.3359375,64978.890625,64863.98046875,64158.12109375,64455.37109375,65521.2890625,63721.1953125,60139.62109375,60360.13671875,56896.12890625,58115.08203125,59730.5078125,58706.84765625,56304.5546875,57565.8515625,57165.41796875,58960.28515625,53736.4296875,54813.0234375,57291.90625,57830.11328125,56907.96484375,57217.37109375,56509.1640625,53727.87890625,49201.51953125,49413.48046875,50581.828125,50667.6484375,50450.08203125,47642.14453125,47264.6328125,49354.85546875,50114.7421875,46709.82421875,48379.75390625,48900.46484375,47653.73046875,46219.25390625,46853.8671875,46707.0625,46886.078125,48937.09765625,48626.34375,50806.05078125,50854.91796875,50428.69140625,50802.609375,50679.859375,47623.87109375,46490.60546875,47169.37109375,46311.74609375,47680.92578125,47343.54296875,46458.8515625,45899.359375,43565.51171875,43153.5703125,41561.46484375,41734.7265625,41910.23046875,41819.5078125,42742.1796875,43946.7421875,42598.87109375,43101.8984375,43172.0390625,43118.12109375,42250.07421875,42374.0390625,41744.02734375,40699.60546875,36471.58984375,35047.359375,36275.734375,36654.8046875,36950.515625,36841.87890625,37128.4453125,37780.71484375,38151.91796875,37920.28125,38481.765625,38743.71484375,36944.8046875,37149.265625,41501.48046875,41441.12109375,42406.78125,43854.65234375,44096.703125,44347.80078125,43571.12890625,42412.30078125,42236.56640625,42157.3984375,42586.46484375,44578.27734375,43937.0703125,40552.1328125,40026.0234375,40118.1015625,38423.2109375,37068.76953125,38285.28125,37278.56640625,38333.74609375,39213.08203125,39098.69921875,37706.0,43194.50390625,44357.6171875,43925.1953125,42458.140625,39148.44921875,39404.19921875,38429.3046875,38059.90234375,38742.81640625,41974.0703125,39439.96875,38794.46484375,38884.7265625,37846.31640625,39664.25],\"type\":\"box\",\"xaxis\":\"x\",\"yaxis\":\"y\"},{\"name\":\"\",\"showlegend\":false,\"x\":[5836.64501953125,5385.2294921875,5371.3486328125,5331.833984375,6329.73583984375,6844.26171875,6378.13525390625,6359.697265625,6443.9345703125,6789.02294921875,6892.51123046875,6735.4638671875,6793.83642578125,6467.5009765625,6250.46728515625,6517.19580078125,6504.51513671875,6612.57373046875,7088.24755859375,7003.220703125,6878.95361328125,6883.4140625,7271.78125,7427.939453125,7356.2236328125,7341.4482421875,7303.8154296875,6926.06982421875,7119.947265625,6965.61669921875,6958.55712890625,6928.66455078125,7134.45068359375,7167.18310546875,7269.95654296875,7280.52197265625,7240.29052734375,6934.5517578125,7145.86572265625,7491.78515625,7574.19580078125,7641.36376953125,7700.59423828125,7795.60107421875,7814.52734375,8871.75390625,9440.650390625,9048.0234375,9007.1875,9167.78125,8956.90625,9062.4150390625,9411.4677734375,9992.6640625,9996.7431640625,9913.86328125,9595.5810546875,9033.470703125,8949.8984375,9317.87890625,9793.2685546875,9755.828125,9564.205078125,9823.001953125,9906.0302734375,9836.0478515625,9804.7939453125,9555.2421875,9232.9365234375,9302.501953125,9288.404296875,8951.005859375,8991.9677734375,9203.3203125,9546.3193359375,9573.6669921875,9704.0302734375,9700.34375,10199.5654296875,10182.3408203125,9682.859375,9887.6103515625,9869.2373046875,9773.431640625,9768.498046875,9782.306640625,9836.369140625,9908.896484375,9938.2978515625,9540.4658203125,9493.2119140625,9482.2705078125,9504.8603515625,9579.4306640625,9540.4228515625,9482.7822265625,9440.8759765625,9394.9716796875,9401.107421875,9655.0732421875,9670.541015625,9680.3671875,9340.1611328125,9310.5166015625,9207.810546875,9197.546875,9237.5732421875,9217.8359375,9309.7548828125,9274.962890625,9202.3447265625,9183.2958984375,9162.18359375,9375.474609375,9360.6171875,9450.3359375,9431.37890625,9287.4716796875,9293.5322265625,9319.4189453125,9306.4052734375,9283.841796875,9275.3251953125,9214.3125,9182.25390625,9230.9833984375,9201.3984375,9214.2705078125,9407.2626953125,9530.5185546875,9610.2470703125,9623.3369140625,9704.556640625,10023.8076171875,11298.2216796875,11204.3271484375,11304.3974609375,11169.3564453125,11415.8642578125,11794.775390625,12034.14453125,11453.0791015625,11385.3818359375,11786.6171875,11902.3359375,11898.0380859375,11800.064453125,11806.056640625,12045.140625,11932.7109375,11748.396484375,11796.396484375,12150.994140625,11963.203125,11934.9013671875,12359.056640625,12335.70703125,12028.923828125,11900.4111328125,11899.259765625,11689.4072265625,11713.4296875,11807.6318359375,11778.2998046875,11530.052734375,11570.7861328125,11545.615234375,11585.640625,11715.2646484375,11768.876953125,12067.0810546875,11964.8232421875,11443.0224609375,10663.919921875,10581.5712890625,10353.927734375,10399.1533203125,10414.775390625,10350.54296875,10503.912109375,10434.9228515625,10578.837890625,10577.21484375,10800.0107421875,10938.6318359375,11100.1240234375,11037.4208984375,11034.908203125,11134.0927734375,11095.8701171875,10988.3046875,10568.0771484375,10537.828125,10771.056640625,10777.6962890625,10772.9990234375,10803.9765625,10945.34765625,10860.0009765625,10847.2568359375,10933.6240234375,10657.837890625,10598.9404296875,10686.0,10793.5078125,10797.578125,10680.5078125,10945.7373046875,11102.671875,11442.2109375,11428.8134765625,11698.4677734375,11548.984375,11539.9775390625,11569.9140625,11540.0615234375,11386.26171875,11483.359375,11799.0927734375,11999.91796875,13184.56640625,13161.59375,13015.9619140625,13145.06640625,13329.18359375,13225.2978515625,13759.6689453125,13837.6953125,13612.0478515625,13651.5166015625,14028.2138671875,13862.033203125,13808.3232421875,13984.9814453125,14218.7666015625,15706.404296875,15903.4375,15737.095703125,15637.3203125,15785.13671875,15450.3291015625,15916.2607421875,16305.00390625,16463.177734375,16317.80859375,16123.1103515625,16816.181640625,17782.919921875,18393.94921875,18119.546875,18773.2265625,18936.62109375,18688.96875,18711.42578125,19348.271484375,19390.96484375,18866.28515625,17445.0234375,17853.939453125,18283.62890625,19749.263671875,19845.974609375,19308.330078125,19566.19140625,19511.404296875,19160.44921875,19390.5,19411.828125,19283.478515625,18626.29296875,18553.298828125,18268.453125,18919.55078125,19381.53515625,19305.099609375,19525.0078125,21458.908203125,23642.66015625,23238.6015625,24085.85546875,24209.66015625,24059.982421875,23789.90234375,24024.490234375,23768.337890625,24710.1015625,26718.0703125,28288.83984375,27389.111328125,27370.720703125,28937.740234375,29244.876953125,29600.626953125,33155.1171875,34608.55859375,33440.21875,34437.58984375,36879.69921875,40180.3671875,41946.73828125,41436.3515625,41420.19140625,38346.53125,36568.52734375,37599.9609375,39966.40625,39577.7109375,37864.3671875,36722.3515625,37299.28515625,37755.890625,36378.328125,35552.6796875,33811.8515625,33360.9765625,32944.0078125,34802.7421875,32794.55078125,32564.029296875,33858.3125,38406.26171875,34834.70703125,34288.33203125,34638.21484375,35896.8828125,37480.1875,38592.17578125,38225.90625,40846.546875,39621.8359375,46203.9296875,48003.72265625,47145.56640625,48463.46875,48745.734375,48047.74609375,49487.640625,48875.5703125,50341.1015625,52533.9140625,52474.10546875,56113.65234375,57505.2265625,58330.5703125,57533.390625,54204.9296875,51290.13671875,51948.96875,48370.78515625,48253.26953125,46716.4296875,49784.015625,50127.51171875,52535.13671875,51735.08984375,49396.4296875,49147.21875,51384.3671875,52314.0703125,54824.1171875,57258.25390625,58091.0625,57996.62109375,61683.86328125,61597.91796875,60540.9921875,56833.1796875,58969.81640625,60116.25,59498.375,60031.28515625,58767.8984375,58471.48046875,55985.44140625,57262.3828125,53392.38671875,55137.3125,56568.21484375,56610.3125,58342.09765625,59447.22265625,59930.02734375,59586.0703125,60267.1875,60110.26953125,58913.74609375,59891.296875,59479.578125,58731.14453125,58338.73828125,58937.046875,61276.6640625,60790.5546875,61253.03515625,63742.28515625,64863.09765625,63821.671875,63594.72265625,62572.17578125,61057.45703125,57520.0546875,57062.1484375,56757.97265625,55410.23046875,52120.79296875,51167.5625,50506.01953125,54288.00390625,55416.96484375,56227.20703125,55115.84375,57900.71875,58448.33984375,57902.59375,58973.30859375,57214.1796875,57911.36328125,58363.31640625,58606.6328125,59464.61328125,59210.8828125,59519.35546875,56872.54296875,57939.36328125,51330.84375,51438.1171875,50639.6640625,49720.04296875,46623.55859375,45812.45703125,43546.1171875,42462.984375,42172.171875,38831.0546875,38289.21875,39835.140625,39776.3515625,40782.078125,40379.6171875,38856.96875,37234.5,36400.66796875,37468.25,37896.734375,38231.33984375,39478.953125,39242.484375,37917.71484375,36436.421875,36790.5703125,34017.38671875,37537.37109375,38334.32421875,37608.6953125,37408.92578125,39322.78125,40978.36328125,41295.26953125,40516.77734375,39513.671875,38187.26171875,36457.796875,36059.484375,35721.640625,33292.453125,34753.41015625,35228.8515625,35487.24609375,32637.587890625,34656.12890625,35219.890625,36542.109375,36074.7578125,35035.984375,33939.58984375,34909.26171875,35937.56640625,35284.34375,35038.53515625,34997.6640625,33907.90625,34042.29296875,34209.0703125,34584.703125,34592.15625,33327.1015625,33061.3984375,33159.640625,32218.40625,31935.9453125,32398.99609375,31885.859375,31006.1875,32752.326171875,32576.400390625,33581.55078125,34490.390625,35364.92578125,40499.67578125,39406.94140625,40816.0703125,40593.0703125,42235.546875,42231.44921875,42541.6796875,40419.1796875,39750.03125,39952.296875,41341.93359375,43271.66015625,44689.859375,45282.3515625,46456.83203125,46637.98828125,46735.6328125,46228.91015625,47831.9765625,48098.68359375,47357.10546875,47998.09765625,47139.5703125,45952.0625,46970.76171875,49342.15234375,49717.01953125,49471.609375,50482.078125,49878.76953125,49202.87890625,49347.58203125,49112.78515625,49283.50390625,49644.11328125,48925.60546875,48189.55078125,49111.08984375,50343.421875,50982.2734375,50545.58203125,51868.6796875,52700.94140625,52853.765625,47334.0546875,47261.94921875,47031.7421875,45969.29296875,46364.87890625,46598.6796875,47218.125,48450.46875,48486.828125,48160.921875,48791.78125,48328.3671875,47328.19921875,43607.609375,43978.62109375,44942.17578125,45080.4921875,42996.2578125,43919.30078125,44313.24609375,42775.14453125,42545.2578125,44092.6015625,48436.01171875,48282.0625,49130.69140625,49456.77734375,51839.984375,55568.46484375,55338.625,55922.98046875,55397.9453125,56401.3046875,57793.0390625,57627.87890625,57688.66015625,58478.734375,62757.12890625,62274.4765625,61645.5234375,62614.66015625,64434.53515625,66930.390625,66600.546875,63715.0234375,61743.87890625,61505.8046875,63729.32421875,63229.02734375,61435.18359375,62128.6328125,62927.609375,62330.14453125,62406.171875,62419.00390625,64242.79296875,63516.9375,63123.2890625,62541.46875,61590.68359375,63326.98828125,67673.7421875,68530.3359375,68789.625,65579.015625,65460.81640625,64915.67578125,65495.1796875,66281.5703125,63721.1953125,60823.609375,60948.5,58351.11328125,59859.87890625,60004.42578125,59266.359375,57875.515625,57803.06640625,59367.96875,59183.48046875,55329.2578125,57393.84375,58872.87890625,59113.40234375,59041.68359375,57349.234375,57482.16796875,53904.6796875,49768.1484375,50929.51953125,51934.78125,51171.375,50797.1640625,50015.25390625,49458.2109375,50724.8671875,50205.0,48431.3984375,49473.95703125,49425.57421875,48004.89453125,47313.828125,48089.6640625,47401.71875,49300.91796875,49544.796875,51332.33984375,51814.02734375,51176.59765625,51196.37890625,51956.328125,50679.859375,48119.7421875,47879.96484375,48472.52734375,47827.3125,47881.40625,47510.7265625,47406.546875,46929.046875,43748.71875,43153.5703125,42228.94140625,42663.94921875,42199.484375,43001.15625,44135.3671875,44278.421875,43346.6875,43724.671875,43436.80859375,43179.390625,42534.40234375,42478.3046875,43413.0234375,41060.52734375,36688.8125,36433.3125,37247.51953125,37444.5703125,38825.41015625,37148.32421875,37952.87890625,38576.26171875,38266.33984375,38647.26171875,39115.1328125,38834.6171875,37154.6015625,41527.78515625,41847.1640625,42500.78515625,44401.86328125,45293.8671875,44727.80078125,45661.171875,43810.83203125,42992.55078125,42693.0546875,42775.77734375,44667.21875,44578.27734375,44132.97265625,40929.15234375,40418.87890625,40119.890625,39394.4375,38359.85546875,39122.39453125,38968.83984375,39630.32421875,40005.34765625,39778.94140625,43760.45703125,44793.6015625,45077.578125,44021.578125,42479.61328125,39566.3359375,39640.17578125,39430.2265625,39304.44140625,42465.671875,42004.7265625,40081.6796875,39308.59765625,39209.3515625,39742.5,39794.62890625],\"type\":\"box\",\"xaxis\":\"x2\",\"yaxis\":\"y2\"},{\"name\":\"\",\"showlegend\":false,\"x\":[5392.31494140625,5014.47998046875,5225.62939453125,5238.4384765625,6191.19287109375,6198.7783203125,6185.06640625,5830.2548828125,6416.31494140625,6734.8037109375,6681.06298828125,6716.4404296875,6469.79833984375,6242.19384765625,5922.04296875,6429.841796875,6438.64453125,6606.7763671875,6793.62451171875,6733.38720703125,6867.52734375,6791.12939453125,7271.78125,7176.41455078125,7334.0986328125,7302.08935546875,6865.4931640625,6859.0830078125,6971.091796875,6845.03759765625,6842.427734375,6642.10986328125,7116.80419921875,7096.1845703125,7257.6650390625,7189.4248046875,6881.95849609375,6880.3232421875,7117.20751953125,7429.724609375,7550.90087890625,7569.93603515625,7679.8671875,7795.60107421875,7807.05859375,8801.0380859375,8658.5537109375,8864.7666015625,8988.5966796875,8897.46875,8912.654296875,9003.0703125,9268.76171875,9951.5185546875,9842.666015625,9593.896484375,8756.4306640625,8601.7958984375,8804.4775390625,9269.9873046875,9733.7216796875,9328.197265625,9377.013671875,9670.7392578125,9726.5751953125,9729.0380859375,9522.9814453125,9081.76171875,9182.5771484375,9209.287109375,8790.3681640625,8906.9345703125,8835.052734375,9181.017578125,9525.7509765625,9439.1240234375,9700.4140625,9461.05859375,10167.2685546875,9529.8037109375,9656.7177734375,9800.63671875,9665.533203125,9653.6796875,9758.8525390625,9771.4892578125,9795.7001953125,9870.0947265625,9321.78125,9480.84375,9475.27734375,9386.7880859375,9450.7021484375,9538.0244140625,9480.2548828125,9411.8408203125,9288.0185546875,9332.3408203125,9303.6298828125,9648.7177734375,9629.658203125,9313.6103515625,9264.8134765625,9162.91796875,9045.390625,9143.58203125,9190.8544921875,9137.9931640625,9228.3251953125,9123.41015625,9087.3037109375,9132.48828125,9073.9423828125,9375.474609375,9252.27734375,9428.3330078125,9277.9677734375,9278.8076171875,9240.3466796875,9276.5,9243.6142578125,9243.2138671875,9192.8369140625,9132.2275390625,9151.392578125,9159.0400390625,9185.8173828125,9164.2314453125,9374.8876953125,9525.36328125,9581.072265625,9536.892578125,9677.11328125,9905.1669921875,10990.873046875,10912.8232421875,11100.4677734375,11111.2138671875,11323.466796875,11759.5927734375,11053.6142578125,11246.3486328125,11205.892578125,11747.0224609375,11779.7734375,11601.47265625,11754.0458984375,11675.7392578125,11878.111328125,11410.525390625,11584.9345703125,11784.1376953125,11768.87109375,11865.6982421875,11892.8037109375,12254.40234375,11991.2333984375,11758.283203125,11878.3720703125,11592.4892578125,11681.8251953125,11664.84765625,11774.595703125,11366.134765625,11488.36328125,11323.3974609375,11542.5,11506.865234375,11711.505859375,11680.8203125,11970.478515625,11414.0341796875,10245.296875,10511.8134765625,10169.5673828125,10280.3515625,10369.5634765625,10131.5166015625,10242.34765625,10363.138671875,10400.9150390625,10442.1708984375,10323.755859375,10680.837890625,10796.951171875,10974.9052734375,10948.990234375,10944.5859375,11094.3466796875,10938.271484375,10462.259765625,10538.4599609375,10246.1865234375,10760.06640625,10692.716796875,10750.7236328125,10775.26953125,10709.65234375,10844.640625,10784.4912109375,10619.4521484375,10575.974609375,10549.3291015625,10669.5830078125,10793.33984375,10604.40625,10668.96875,10915.685546875,11064.4580078125,11296.361328125,11384.181640625,11555.36328125,11425.8994140625,11429.5068359375,11495.349609375,11322.123046875,11358.1015625,11483.359375,11742.037109375,11916.3349609375,12823.689453125,12965.8916015625,12931.5390625,13108.0625,13031.173828125,13075.248046875,13654.21875,13271.28515625,13437.8828125,13546.5224609375,13780.9951171875,13737.109375,13550.4892578125,13950.30078125,14133.70703125,15579.8486328125,15565.880859375,14833.75390625,15479.5673828125,15332.3154296875,15290.90234375,15701.33984375,16276.34375,16317.80859375,16068.138671875,15955.587890625,16716.111328125,17645.40625,17804.005859375,17817.08984375,18621.314453125,18642.232421875,18370.001953125,18364.12109375,19107.46484375,18732.12109375,17150.623046875,17108.40234375,17717.4140625,18177.484375,19625.8359375,18802.998046875,19201.091796875,19445.3984375,18699.765625,19154.23046875,19345.12109375,19191.630859375,18321.14453125,18553.916015625,18264.9921875,18058.904296875,18803.65625,19142.3828125,19246.64453125,19417.076171875,21310.59765625,22805.162109375,23137.9609375,23869.83203125,23477.294921875,22803.08203125,23783.029296875,23241.345703125,23735.94921875,24664.791015625,26437.037109375,26272.294921875,27084.80859375,27362.4375,28840.953125,29001.720703125,29374.15234375,32127.267578125,32782.0234375,31971.9140625,33992.4296875,36824.36328125,39371.04296875,40797.609375,40254.546875,38356.44140625,35566.65625,33922.9609375,37316.359375,39187.328125,36825.3671875,36178.140625,35791.27734375,36630.07421875,36069.8046875,35547.75,30825.69921875,33005.76171875,32067.642578125,32289.37890625,32366.392578125,32569.849609375,30432.546875,33466.09765625,34316.38671875,34269.5234375,33114.359375,33537.17578125,35510.2890625,37472.08984375,36926.06640625,38144.30859375,39266.01171875,38903.44140625,46196.46484375,46481.10546875,44918.18359375,47909.33203125,47504.8515625,47105.515625,48717.2890625,47945.05859375,49199.87109375,52149.0078125,51679.796875,55888.1328125,56099.51953125,57539.9453125,54207.3203125,48824.42578125,49705.33203125,47093.8515625,46339.76171875,46188.453125,45137.76953125,49631.2421875,48378.98828125,50538.2421875,48561.16796875,48927.3046875,48912.3828125,51206.69140625,52246.5234375,54824.1171875,56008.55078125,57805.12109375,57332.08984375,61243.0859375,59302.31640625,55907.19921875,56804.90234375,58870.89453125,57858.921875,58346.65234375,58313.64453125,57523.421875,54529.14453125,54738.9453125,52774.265625,51704.16015625,55137.3125,55973.51171875,55950.74609375,57750.19921875,58917.69140625,58918.83203125,59095.80859375,59384.3125,57603.890625,58758.5546875,59057.87890625,58192.359375,56048.9375,58323.953125,58245.00390625,59793.234375,60204.96484375,59893.453125,63503.45703125,63109.6953125,63314.01171875,61572.7890625,60683.8203125,56216.18359375,55724.265625,56473.03125,53906.08984375,51762.2734375,51093.65234375,50050.8671875,49004.25390625,54021.75390625,55033.1171875,54824.703125,53555.109375,57750.17578125,57828.05078125,56631.078125,57200.29296875,53333.5390625,57424.0078125,56396.515625,57356.40234375,58803.77734375,58232.31640625,55859.796875,56704.57421875,49150.53515625,49716.19140625,49880.53515625,46760.1875,46456.05859375,43537.51171875,42909.40234375,37002.44140625,40782.73828125,37304.69140625,37536.6328125,34770.58203125,38705.98046875,38402.22265625,39294.19921875,38436.96875,35697.60546875,34616.06640625,35678.12890625,37332.85546875,36684.92578125,37575.1796875,39208.765625,36894.40625,35551.95703125,35862.37890625,33560.70703125,33472.6328125,37345.12109375,36702.59765625,37334.3984375,35552.515625,39097.859375,40218.4765625,40406.26953125,38347.0625,38053.50390625,35787.24609375,35615.87109375,35698.296875,31676.693359375,32505.66015625,33723.02734375,34662.4375,31637.779296875,32186.27734375,34649.64453125,34434.3359375,35867.77734375,35040.8359375,33572.1171875,33897.046875,34668.546875,35287.78125,33746.00390625,34235.1953125,33855.328125,32877.37109375,33798.01171875,33520.51953125,34240.1875,33155.84765625,32702.025390625,32822.34765625,31780.73046875,31421.5390625,31533.068359375,31796.810546875,30817.83203125,29807.34765625,32110.693359375,32313.10546875,33581.55078125,34292.4453125,35350.1875,37337.53515625,39406.94140625,39995.90625,40008.421875,42235.546875,41626.1953125,39974.89453125,39201.9453125,38152.98046875,39747.50390625,40869.5546875,42816.5,44555.80078125,43798.1171875,46365.40234375,45585.03125,45593.63671875,44428.2890625,47793.3203125,47096.9453125,47047.00390625,46004.484375,44695.359375,44801.1875,46717.578125,49339.17578125,48905.4921875,49321.65234375,49546.1484375,47706.1171875,48960.7890625,46942.21875,49058.66796875,48902.40234375,48829.83203125,47054.984375,47166.6875,48847.02734375,49327.72265625,50025.375,49944.625,51753.41015625,52633.53515625,46811.12890625,46091.390625,46391.421875,44883.91015625,45201.45703125,46063.26953125,44963.07421875,47092.4921875,48176.34765625,47783.359375,47267.51953125,48278.36328125,47260.21875,42843.80078125,40693.67578125,43574.5078125,44895.09765625,42839.75,42716.59375,43208.5390625,42235.73046875,41034.54296875,41564.36328125,43790.89453125,48116.94140625,47711.48828125,48199.953125,49112.90234375,51514.8125,55361.44921875,53805.984375,53967.84765625,54968.22265625,54771.578125,57484.7890625,56041.05859375,57401.09765625,57321.5234375,61593.94921875,60892.1796875,61553.6171875,62026.078125,64261.9921875,65992.8359375,62210.171875,60692.265625,61393.6171875,60930.8359375,63039.82421875,60363.79296875,58482.38671875,60622.13671875,62227.96484375,61888.83203125,61318.95703125,61004.40625,63226.40234375,62970.046875,61452.23046875,61125.67578125,61527.48046875,63326.98828125,67566.828125,66971.828125,64995.23046875,64949.9609375,64155.94140625,64469.52734375,65466.83984375,63557.87109375,60161.24609375,60368.01171875,56942.13671875,58119.578125,59697.1953125,58730.4765625,56289.2890625,57569.07421875,56280.42578125,57274.6796875,53569.765625,54815.078125,57248.45703125,57806.56640625,57005.42578125,57229.828125,56477.81640625,53598.24609375,49200.703125,49368.84765625,50582.625,50700.0859375,50504.796875,47672.12109375,47243.3046875,49362.5078125,50098.3359375,46737.48046875,46612.6328125,48896.72265625,47665.42578125,46202.14453125,46848.77734375,46707.015625,46880.27734375,48936.61328125,48628.51171875,50784.5390625,50822.1953125,50429.859375,50809.515625,50640.41796875,47588.85546875,46444.7109375,47178.125,46306.4453125,47686.8125,47345.21875,46458.1171875,45897.57421875,43569.00390625,43160.9296875,41557.90234375,41733.94140625,41911.6015625,41821.26171875,42735.85546875,43949.1015625,42591.5703125,43099.69921875,43177.3984375,43113.87890625,42250.55078125,42375.6328125,41744.328125,40680.41796875,36457.31640625,35030.25,36276.8046875,36654.328125,36954.00390625,36852.12109375,37138.234375,37784.33203125,38138.1796875,37917.6015625,38483.125,38743.2734375,36952.984375,37154.6015625,41500.875,41441.1640625,42412.43359375,43840.28515625,44118.4453125,44338.796875,43565.11328125,42407.9375,42244.46875,42197.515625,42586.91796875,44575.203125,43961.859375,40538.01171875,40030.9765625,40122.15625,38431.37890625,37075.28125,38286.02734375,37296.5703125,38332.609375,39214.21875,39105.1484375,37709.78515625,43193.234375,44354.63671875,43924.1171875,42451.7890625,39137.60546875,39400.5859375,38419.984375,38062.0390625,38737.26953125,41982.92578125,39437.4609375,38794.97265625,38904.01171875,37849.6640625,39666.75390625,39338.78515625],\"type\":\"box\",\"xaxis\":\"x3\",\"yaxis\":\"y3\"},{\"name\":\"\",\"showlegend\":false,\"x\":[33997889639,45368026430,38622642935,37878801016,51000731797,54442976103,42494390880,40099664740,46491916000,48221910672,44590107888,35319797642,34585598367,34885225901,28373690931,37101651525,32786468812,40346426266,47660646124,38976504903,33185988584,29510409856,46896904615,44243482668,37563249549,34815139178,43622840992,31222085946,35759567632,38619308647,34110434052,32288311031,46783242377,32513423567,32447188386,31311210215,37747113936,32589741511,33249153866,43500782316,34636526286,32941541447,33070154491,36162144725,33187959921,60201052203,66964629541,44068389997,40134388683,47101785174,45718796276,43148462663,49371886931,61112700562,51780748042,46566121841,63325279337,57119858802,42142717533,45558144023,56426907637,48158802327,36164766408,40084250663,41827139896,39254288955,36546239703,39326160532,29810773699,27727866812,32518803300,31288157264,29584186947,32740536902,34367073114,32896642044,32722975141,27773290299,35198901068,39137252109,25007459262,25921805072,23509628646,20438419222,25015250846,21486346312,23717842783,25706567601,30247143440,22610564515,17564322315,18991732746,26699704768,21565537209,20177709879,17770083003,19632223107,17130541557,15324301169,21104009514,17006433272,18961716076,18616048626,18341465837,17273093144,14560870760,16460547078,15735797744,15971550355,16338916796,13078970999,12290528515,12903406143,17889263252,13839652595,19702359883,18000702524,16860035605,13249910444,14452361907,17519821266,18085038362,15844731575,15713967523,13944570749,12252601475,12939002784,13755604146,18069581956,16532254884,18146399002,16552768325,16610070933,20507998997,35359749590,28766551142,24617249715,22857247901,23160469766,26075670303,27410067336,20271713443,21250197042,24411254471,23400740340,23132312867,17572057837,17489608833,26114112569,27039782640,25064548486,27522199497,24237958589,23354924400,20583375490,28227687027,26043227672,24502851117,20175242945,23762425999,20224191306,18482062658,20681511755,26301509932,22466660958,23240415076,19807127588,17485597759,19760127945,22285928250,27311555343,28037405299,31927261555,29965130374,44916565292,37071460174,33703098409,33430927462,24128292755,54406443211,45201121775,36750077324,36506852789,35453581940,32509451925,30769986455,38151810523,26341903912,22764204008,24699523788,28884999244,23621787804,23788661867,47144380902,39348590957,46852525493,53745972818,47762394731,46582396602,44171073700,40023134100,48661453918,44660271563,71251776995,47537578009,42623695307,37799458436,63314794397,22799117613,22877978588,19968627060,26163972642,24241420251,24103426719,24487233058,25635480772,19130430174,18283314340,23860769928,30915821592,43414712626,34729759598,28974975003,24542317940,24406920575,29461458313,33749878156,35867318895,56499499598,30581485201,30306464719,24453857900,30771455468,29869951617,35116364962,40856321439,39837841971,35024953706,26632075029,34149115566,25574938143,29772374934,34175758344,31599492172,27481710135,23653867583,31526766675,39006849170,49064800278,36985055355,36992873940,39650210707,41280434226,42741112308,51469565009,43710357371,61396835737,38886494645,32601040734,31133957704,47728480399,49633658712,37387697139,31930317405,33872388058,27242455064,25293775714,26896357742,31692288756,34420373071,25547132265,27919640985,21752580802,25450468637,22473997681,26741982541,44409011479,71378606374,40387896275,38487546580,37844228422,45852713981,44171632681,51146161904,41080759713,42068395846,48332647295,66479895605,49056742893,45265946774,51287442704,46754964848,40730301359,67865420765,78665235202,81163475344,67547324782,75289433811,84762141031,88107519480,61984162837,79980747690,123320567399,74773277909,69364315979,63615990033,67760757881,57706187875,52359854336,49511702429,57244195486,66834573161,75643067688,77207272511,48354737975,48643830599,59897054838,60255421470,62576762015,76517157706,117894572511,65141828798,52754542671,61400400660,63088585433,61166818159,68838074392,58598066402,71326033653,65500641143,101467222687,91809846886,87301089896,81388911810,76555041196,70250456155,71248675228,77069903166,77049582886,80820545404,52054723579,63495496918,68145460026,51897585191,92052420332,106102492824,63695521388,54506565949,350967941479,45910946382,53443887451,53891300112,47530897720,53220811975,52343816680,48625928883,34363564661,43137459378,48597428048,50912227385,57295577614,56772343595,55689944702,60669829814,43901225564,66419369890,59749798599,60258313191,55746041000,49063873786,50361731222,51943414539,56521454974,56435023914,70567223787,67999812841,56652197978,47266542233,47686580918,57625587027,54414116432,65520826225,61669163792,58727860620,59641344484,50749662970,60706272115,66058027988,75645303584,53053855641,46655208546,58238470525,46280252580,51828688519,69983454362,77451779687,60954381579,84293007468,66138759198,97468872758,65344865159,67849323955,54926612466,74798630778,86668667320,49014494781,46117114240,58284039825,49448222757,48000572955,46088929780,52395931985,42836427360,38177405335,51713139031,68564706967,69241316747,69523285106,68434023376,65382980634,65906690347,71776546298,61308396325,75215403907,96721152926,55737497453,59161047474,64047871555,74903638450,56187365084,126358098747,88281943359,82051616861,57377273240,78469274361,67359584098,56211915803,51346735160,43210968721,55200191952,45231013335,31646080921,39009847639,34639423297,33070867190,35460750427,41831090187,35959473399,28913440585,33683936663,49902050442,53972919008,43576032854,38699736985,37924228550,40669112838,43148914673,46420149185,39211635100,37096670047,36200887275,31207279719,36664034054,52809038594,58964353058,46317108925,33123368116,40230904226,38585385521,35511640894,33892523752,37901460044,34059036099,37838957079,38728974942,24383958643,24924307911,26721554282,26501259870,24796027477,29910396946,27436021028,22971873468,20108729370,24321499537,19120856669,21376531210,21300524237,23699476918,18895018942,18787986667,20434789545,23148267245,28203024559,19555230518,22552046192,21664706865,20856685287,51022126212,35097370560,38702404695,27167146027,33072782960,25802845343,26688438115,25595265436,26189830450,25372562724,35185031017,38226483046,40030862141,36302664750,38734079049,33546019517,34319709073,33723620826,31744259539,31211354442,30988958446,32776876610,33451362600,32194123075,37204312299,34706867452,40585205312,25370975378,34305053719,35361168834,32646349931,32666549568,34511076995,28568103401,25889650240,31847007016,34730363427,39139399125,39508070319,43206179619,37471327794,30322676319,38884105426,65210059683,49007762488,38672657013,39154666597,34499835245,27881980161,40969943253,38652152880,30484496466,31764293754,28727713711,28575630451,26967722648,43909845642,48701090088,38139709246,34244064430,42839345714,31604717236,30661222077,30980029059,30214940550,30602359905,31141681925,42850641582,30614346492,26638115879,33383173002,35873904236,49034730168,36807860413,34800873924,32491211414,39527792364,42637331698,41083758949,41684252783,36615791366,51780081801,34250964237,29032367511,38055562075,40471196346,40788955582,45908121370,38434082775,26882546034,27316183882,31064911614,34878965587,43657076893,45257083247,36856881767,32157938616,32241199927,36150572843,37746665647,36124731509,32615846901,30605102446,29094934221,24726754302,41125608330,42357991721,48730828378,35880633236,36084893887,30474228777,25122092191,30558763548,46844335592,39178392930,41388338699,38702407772,30624264863,26123447605,35036121783,37485803899,36635566789,34284016248,41810748221,30560857714,28116886357,32370840356,36708594618,36858195307,32379968686,39789134215,61385677469,37198201161,37707308001,33676814852,28479699446,29603577251,30966005122,25775869261,21939223599,32166727776,34638619079,36541828520,27268150947,32902725329,26098292690,25154053861,30961902129,27055803928,24447979559,28223878108,24367912228,19030650914,20964372926,24324345758,33430376883,30049226299,26686491018,36974172400,24582667004,27951569547,33071628362,42494677905,36851084859,30208048289,84196607520,28066355845,21294384372,32104232331,26327648900,33499938689,47691135082,23577403399,18371348298,17902097845,21690904261,22417209227,23091543258,20382033940,43011992031,39714385405,26017975951,41856658597,26428189594,31324598034,25041426629,22238830523,17194183075,14643548444,20734730465,20288500328,19155189416,18591534769,29412210792,19652846215,16142097334,28641855926,33079398868,23245887300,32142048537,26954925781,18152390304,14741589015,20827783012,22721659051,19792547657,26246662813,23310007704,13736557863,18340576452,29280402798,25493150450,21849073843,46383802093,26545599159,17467554129,23450127612,35690014104,32479047645,29183112630,24967782593,28516271427,16975917450,19745229902,28546143503,25776583476,32284121034,31078064711,26364890465,14616450657,17300745310,24322159070,23934000868],\"type\":\"box\",\"xaxis\":\"x4\",\"yaxis\":\"y4\"},{\"name\":\"\",\"showlegend\":false,\"x\":[5169.283203125,4575.35791015625,4981.9091796875,5069.3359375,5236.96875,5865.78173828125,5932.8232421875,5823.7138671875,5785.00439453125,6411.06640625,6536.92626953125,6590.962890625,6466.70166015625,6117.837890625,5920.0859375,5903.234375,6374.162109375,6202.37353515625,6595.91845703125,6673.3359375,6696.48486328125,6715.92919921875,6782.8896484375,7136.71435546875,7153.3056640625,7179.09423828125,6802.47509765625,6789.9208984375,6811.078125,6668.259765625,6793.8212890625,6633.40283203125,6555.50439453125,7050.33203125,7089.2470703125,7167.0546875,6835.5029296875,6834.4423828125,6867.78173828125,7081.5947265625,7434.181640625,7521.67236328125,7561.40771484375,7679.4189453125,7730.806640625,7786.04931640625,8533.255859375,8667.763671875,8811.3662109375,8830.9716796875,8645.0244140625,8856.8271484375,8966.7060546875,9138.322265625,9767.1728515625,9580.64453125,8395.107421875,8374.3232421875,8569.6435546875,8805.3876953125,9255.03515625,9261.3984375,9260.6943359375,9349.5458984375,9570.359375,9539.6240234375,9447.201171875,8869.9306640625,9008.638671875,9118.1083984375,8787.2509765625,8719.66796875,8757.2939453125,8834.1572265625,9148.45703125,9379.3388671875,9366.7294921875,9432.296875,9450.8994140625,9460.5712890625,9471.8466796875,9525.2470703125,9663.216796875,9591.0244140625,9458.150390625,9675.8857421875,9664.7197265625,9728.291015625,9263.0693359375,9285.8515625,9396.009765625,9347.59375,8990.17578125,9400.4453125,9327.33984375,9328.3955078125,9274.2958984375,9247.3798828125,9300.4306640625,9296.8720703125,9547.2470703125,9278.2333984375,9095.32421875,9101.73828125,8998.216796875,8975.525390625,9041.8759765625,9084.837890625,9104.7353515625,9036.623046875,9058.794921875,9053.6298828125,8977.015625,9058.6640625,9201.8154296875,9249.5,9234.9990234375,9118.001953125,9199.4853515625,9197.4501953125,9224.29296875,9171.6611328125,9171.93359375,9088.947265625,9089.2021484375,9100.82421875,9097.6328125,9137.509765625,9149.3896484375,9319.6533203125,9483.00390625,9481.4541015625,9530.2119140625,9652.84765625,9903.9697265625,10632.6318359375,10856.1416015625,10895.455078125,10987.0537109375,11239.6826171875,11018.1298828125,11012.4150390625,11094.1455078125,11158.28515625,11598.7138671875,11408.59375,11558.431640625,11548.7841796875,11662.2568359375,11195.708984375,11249.60546875,11216.8720703125,11685.455078125,11768.697265625,11737.1884765625,11806.6962890625,11954.525390625,11687.3330078125,11710.0634765625,11564.9794921875,11448.8056640625,11559.9208984375,11623.25,11189.8505859375,11296.9931640625,11185.94140625,11316.4228515625,11466.29296875,11492.3818359375,11598.318359375,11601.12890625,11290.7939453125,10182.46484375,10207.9404296875,9946.67578125,10056.8857421875,9916.4931640625,9945.1103515625,10017.2509765625,10238.1357421875,10140.8369140625,10292.38671875,10224.330078125,10266.0087890625,10656.4599609375,10704.884765625,10774.6279296875,10829.6572265625,10909.6181640625,10814.4775390625,10380.2607421875,10382.7265625,10197.865234375,10231.490234375,10578.9140625,10667.28125,10622.921875,10703.8935546875,10649.4951171875,10669.3212890625,10472.3564453125,10416.689453125,10511.1298828125,10534.3916015625,10634.6005859375,10528.890625,10562.5068359375,10562.6064453125,10846.8505859375,11056.9404296875,11288.6279296875,11240.6865234375,11321.224609375,11307.8310546875,11303.603515625,11223.0126953125,11285.345703125,11347.578125,11408.2900390625,11681.48046875,11900.9287109375,12717.09375,12752.6474609375,12885.7470703125,12910.0615234375,12822.3828125,13060.837890625,12932.2509765625,12980.0595703125,13136.1982421875,13457.5302734375,13628.3779296875,13243.16015625,13325.44140625,13580.4716796875,14102.0888671875,15226.83984375,14423.203125,14744.1103515625,14865.529296875,15124.9599609375,15290.0068359375,15534.771484375,15992.15234375,15749.193359375,15793.5341796875,15880.7060546875,16564.544921875,17352.90625,17382.5546875,17765.794921875,18444.359375,17671.384765625,18000.796875,18128.65625,18581.146484375,16351.03515625,16526.423828125,16910.65234375,17559.1171875,18178.322265625,18321.921875,18347.71875,18925.78515625,18697.193359375,18590.193359375,18897.89453125,18931.142578125,18269.9453125,17935.546875,17957.064453125,17619.533203125,18046.041015625,18734.33203125,19012.708984375,19079.841796875,19298.31640625,21234.67578125,22399.8125,22826.47265625,23147.7109375,22159.3671875,22430.60546875,22802.646484375,22777.59765625,23463.673828125,24522.689453125,25922.76953125,26207.640625,25987.298828125,27360.08984375,28201.9921875,28803.5859375,29091.181640625,32052.31640625,28722.755859375,30221.1875,33514.03515625,36491.19140625,36838.63671875,38980.875,35984.62890625,30549.599609375,32697.9765625,32584.66796875,36868.5625,34659.58984375,35633.5546875,34069.3203125,34883.84375,36069.8046875,33570.4765625,30250.75,28953.373046875,31493.16015625,31106.685546875,32087.787109375,31030.265625,29367.138671875,30023.20703125,32064.814453125,32940.1875,32270.17578125,32384.228515625,33489.21875,35443.984375,36317.5,36658.76171875,38138.38671875,37446.15234375,38076.32421875,45166.9609375,43881.15234375,44187.76171875,46424.9765625,46392.28125,47114.5078125,46347.4765625,47201.3046875,49072.37890625,51015.765625,50937.27734375,54626.55859375,55672.609375,48967.56640625,45290.58984375,47213.5,47093.8515625,44454.84375,45269.02734375,43241.6171875,45115.09375,47228.84375,48274.3203125,47656.9296875,46542.515625,47257.52734375,48918.6796875,49506.0546875,51981.83203125,53290.890625,54484.59375,55376.6484375,56217.97265625,59302.31640625,55393.1640625,53555.02734375,54528.62890625,54253.578125,56643.703125,58213.296875,56005.6171875,54288.15625,53470.6953125,52514.33203125,50856.5703125,51579.85546875,54242.91015625,55071.11328125,55139.33984375,57251.55078125,57726.41796875,58505.27734375,58869.28125,57603.890625,57168.67578125,57694.82421875,57646.80859375,55604.0234375,55879.0859375,57807.86328125,58038.70703125,59289.796875,59589.875,59869.95703125,61554.796875,62208.96484375,60222.53125,60361.3515625,52829.53515625,54368.59375,53448.046875,53695.46875,50583.8125,47714.6640625,48805.28515625,47159.484375,48852.796875,53319.1875,53887.91796875,52418.02734375,53129.6015625,57052.2734375,56141.90625,56590.87109375,53191.42578125,52969.0546875,55382.5078125,55321.84765625,56975.2109375,56482.00390625,54071.45703125,54608.65234375,49150.53515625,46980.01953125,48868.578125,46664.140625,43963.3515625,42207.2890625,42367.83203125,30681.49609375,35050.6171875,33616.453125,35383.68359375,31227.33984375,34551.08203125,36581.4296875,37905.8359375,37247.90234375,34779.0390625,33693.9296875,33520.73828125,34241.9453125,35787.0859375,35966.30859375,37243.97265625,35717.72265625,34900.4140625,35304.578125,33480.640625,31114.443359375,32475.865234375,35847.59375,36044.44921875,34728.19140625,34864.109375,38757.28515625,39609.46875,38176.03515625,37439.67578125,35255.85546875,34933.0625,33432.07421875,31295.935546875,28893.62109375,31772.6328125,32385.21484375,31350.884765625,30184.501953125,32071.7578125,33902.07421875,34252.484375,34086.15234375,32883.78125,32770.6796875,33402.6953125,34396.4765625,33213.66015625,33599.91796875,33839.2890625,32133.18359375,32318.880859375,33116.01171875,33346.73828125,32697.30859375,32261.419921875,31639.125,31175.708984375,31100.673828125,31223.990234375,31215.4921875,30563.734375,29360.955078125,29526.18359375,31745.298828125,32057.892578125,33424.859375,33881.8359375,35287.3125,36441.7265625,38862.4375,39352.05859375,38397.35546875,41110.83203125,39540.94140625,38746.34765625,37782.05078125,37589.1640625,37458.00390625,39932.1796875,42618.56640625,43331.91015625,42848.6875,44705.5546875,45351.7109375,43861.4453125,44282.41796875,46177.6328125,45579.58984375,45700.3203125,44512.41796875,44364.02734375,43998.31640625,46650.70703125,48312.19921875,48199.94140625,49074.60546875,47687.1171875,47163.61328125,46405.78125,46394.28125,48499.23828125,47925.85546875,46950.2734375,46750.09375,46562.4375,48652.3203125,48386.0859375,49548.78125,49538.59765625,51053.6796875,43285.20703125,44561.39453125,45669.73828125,44344.484375,44818.265625,44790.4609375,43591.3203125,44752.33203125,46773.328125,47079.55859375,46832.5234375,47087.28515625,46919.8046875,42598.9140625,39787.609375,40625.6328125,43109.33984375,40936.55859375,41759.921875,40848.4609375,42190.6328125,40931.6640625,40829.66796875,41444.58203125,43320.0234375,47465.49609375,47157.2890625,47045.00390625,49072.83984375,50488.19140625,53525.46875,53688.0546875,53735.14453125,54264.2578125,54519.765625,54477.97265625,54370.97265625,56957.07421875,56868.14453125,60206.12109375,59164.46875,60012.7578125,61622.93359375,63610.67578125,62117.41015625,60122.796875,59826.5234375,59643.34375,60691.80078125,59991.16015625,58208.1875,58206.91796875,60329.96484375,60918.38671875,60074.328125,59695.18359375,60673.0546875,61184.23828125,60799.6640625,60844.609375,60163.78125,61432.48828125,63344.06640625,66382.0625,63208.11328125,64180.48828125,62333.9140625,63303.734375,63647.80859375,63548.14453125,59016.3359375,58515.41015625,56550.79296875,55705.1796875,57469.7265625,58618.9296875,55679.83984375,55632.76171875,55964.22265625,57146.68359375,53569.765625,53668.35546875,53576.734375,56792.52734375,56057.28125,56553.08203125,55895.1328125,52496.5859375,42874.6171875,47857.49609375,47281.03515625,50175.80859375,48765.98828125,47358.3515625,47023.69921875,46942.34765625,48725.8515625,45894.84765625,46424.49609375,46671.96484375,47529.87890625,45618.21484375,45598.44140625,46502.953125,45579.80859375,46698.7734375,48450.94140625,48065.8359375,50514.49609375,50236.70703125,49623.10546875,50499.46875,47414.2109375,46201.49609375,46060.3125,45819.953125,46288.484375,46856.9375,45835.96484375,45752.46484375,42798.22265625,42645.5390625,41077.4453125,40672.27734375,41338.16015625,39796.5703125,41407.75390625,42528.98828125,42447.04296875,41982.6171875,42669.03515625,42691.0234375,41680.3203125,41392.21484375,41242.9140625,40672.82421875,35791.42578125,34349.25,34784.96875,33184.05859375,35779.4296875,36374.90625,35629.28125,36211.109375,37406.47265625,37437.7109375,36733.57421875,38113.6640625,36832.73046875,36375.5390625,37093.62890625,41038.09765625,41244.90625,41748.15625,42807.8359375,43232.96875,43402.80859375,42114.5390625,41852.57421875,41950.94140625,41681.95703125,42491.03515625,43456.69140625,40249.37109375,39637.6171875,39713.05859375,38112.8125,36950.4765625,36488.93359375,37201.81640625,34459.21875,38111.34375,38702.53515625,37268.9765625,37518.21484375,42952.5859375,43432.8515625,41914.75,38805.84765625,38777.03515625,38211.6484375,37260.203125,37957.38671875,38706.09375,38832.94140625,38347.43359375,38772.53515625,37728.14453125,37680.734375,38310.2109375],\"type\":\"box\",\"xaxis\":\"x5\",\"yaxis\":\"y5\"}],                        {\"template\":{\"data\":{\"histogram2dcontour\":[{\"type\":\"histogram2dcontour\",\"colorbar\":{\"outlinewidth\":0,\"ticks\":\"\"},\"colorscale\":[[0.0,\"#0d0887\"],[0.1111111111111111,\"#46039f\"],[0.2222222222222222,\"#7201a8\"],[0.3333333333333333,\"#9c179e\"],[0.4444444444444444,\"#bd3786\"],[0.5555555555555556,\"#d8576b\"],[0.6666666666666666,\"#ed7953\"],[0.7777777777777778,\"#fb9f3a\"],[0.8888888888888888,\"#fdca26\"],[1.0,\"#f0f921\"]]}],\"choropleth\":[{\"type\":\"choropleth\",\"colorbar\":{\"outlinewidth\":0,\"ticks\":\"\"}}],\"histogram2d\":[{\"type\":\"histogram2d\",\"colorbar\":{\"outlinewidth\":0,\"ticks\":\"\"},\"colorscale\":[[0.0,\"#0d0887\"],[0.1111111111111111,\"#46039f\"],[0.2222222222222222,\"#7201a8\"],[0.3333333333333333,\"#9c179e\"],[0.4444444444444444,\"#bd3786\"],[0.5555555555555556,\"#d8576b\"],[0.6666666666666666,\"#ed7953\"],[0.7777777777777778,\"#fb9f3a\"],[0.8888888888888888,\"#fdca26\"],[1.0,\"#f0f921\"]]}],\"heatmap\":[{\"type\":\"heatmap\",\"colorbar\":{\"outlinewidth\":0,\"ticks\":\"\"},\"colorscale\":[[0.0,\"#0d0887\"],[0.1111111111111111,\"#46039f\"],[0.2222222222222222,\"#7201a8\"],[0.3333333333333333,\"#9c179e\"],[0.4444444444444444,\"#bd3786\"],[0.5555555555555556,\"#d8576b\"],[0.6666666666666666,\"#ed7953\"],[0.7777777777777778,\"#fb9f3a\"],[0.8888888888888888,\"#fdca26\"],[1.0,\"#f0f921\"]]}],\"heatmapgl\":[{\"type\":\"heatmapgl\",\"colorbar\":{\"outlinewidth\":0,\"ticks\":\"\"},\"colorscale\":[[0.0,\"#0d0887\"],[0.1111111111111111,\"#46039f\"],[0.2222222222222222,\"#7201a8\"],[0.3333333333333333,\"#9c179e\"],[0.4444444444444444,\"#bd3786\"],[0.5555555555555556,\"#d8576b\"],[0.6666666666666666,\"#ed7953\"],[0.7777777777777778,\"#fb9f3a\"],[0.8888888888888888,\"#fdca26\"],[1.0,\"#f0f921\"]]}],\"contourcarpet\":[{\"type\":\"contourcarpet\",\"colorbar\":{\"outlinewidth\":0,\"ticks\":\"\"}}],\"contour\":[{\"type\":\"contour\",\"colorbar\":{\"outlinewidth\":0,\"ticks\":\"\"},\"colorscale\":[[0.0,\"#0d0887\"],[0.1111111111111111,\"#46039f\"],[0.2222222222222222,\"#7201a8\"],[0.3333333333333333,\"#9c179e\"],[0.4444444444444444,\"#bd3786\"],[0.5555555555555556,\"#d8576b\"],[0.6666666666666666,\"#ed7953\"],[0.7777777777777778,\"#fb9f3a\"],[0.8888888888888888,\"#fdca26\"],[1.0,\"#f0f921\"]]}],\"surface\":[{\"type\":\"surface\",\"colorbar\":{\"outlinewidth\":0,\"ticks\":\"\"},\"colorscale\":[[0.0,\"#0d0887\"],[0.1111111111111111,\"#46039f\"],[0.2222222222222222,\"#7201a8\"],[0.3333333333333333,\"#9c179e\"],[0.4444444444444444,\"#bd3786\"],[0.5555555555555556,\"#d8576b\"],[0.6666666666666666,\"#ed7953\"],[0.7777777777777778,\"#fb9f3a\"],[0.8888888888888888,\"#fdca26\"],[1.0,\"#f0f921\"]]}],\"mesh3d\":[{\"type\":\"mesh3d\",\"colorbar\":{\"outlinewidth\":0,\"ticks\":\"\"}}],\"scatter\":[{\"fillpattern\":{\"fillmode\":\"overlay\",\"size\":10,\"solidity\":0.2},\"type\":\"scatter\"}],\"parcoords\":[{\"type\":\"parcoords\",\"line\":{\"colorbar\":{\"outlinewidth\":0,\"ticks\":\"\"}}}],\"scatterpolargl\":[{\"type\":\"scatterpolargl\",\"marker\":{\"colorbar\":{\"outlinewidth\":0,\"ticks\":\"\"}}}],\"bar\":[{\"error_x\":{\"color\":\"#2a3f5f\"},\"error_y\":{\"color\":\"#2a3f5f\"},\"marker\":{\"line\":{\"color\":\"#E5ECF6\",\"width\":0.5},\"pattern\":{\"fillmode\":\"overlay\",\"size\":10,\"solidity\":0.2}},\"type\":\"bar\"}],\"scattergeo\":[{\"type\":\"scattergeo\",\"marker\":{\"colorbar\":{\"outlinewidth\":0,\"ticks\":\"\"}}}],\"scatterpolar\":[{\"type\":\"scatterpolar\",\"marker\":{\"colorbar\":{\"outlinewidth\":0,\"ticks\":\"\"}}}],\"histogram\":[{\"marker\":{\"pattern\":{\"fillmode\":\"overlay\",\"size\":10,\"solidity\":0.2}},\"type\":\"histogram\"}],\"scattergl\":[{\"type\":\"scattergl\",\"marker\":{\"colorbar\":{\"outlinewidth\":0,\"ticks\":\"\"}}}],\"scatter3d\":[{\"type\":\"scatter3d\",\"line\":{\"colorbar\":{\"outlinewidth\":0,\"ticks\":\"\"}},\"marker\":{\"colorbar\":{\"outlinewidth\":0,\"ticks\":\"\"}}}],\"scattermapbox\":[{\"type\":\"scattermapbox\",\"marker\":{\"colorbar\":{\"outlinewidth\":0,\"ticks\":\"\"}}}],\"scatterternary\":[{\"type\":\"scatterternary\",\"marker\":{\"colorbar\":{\"outlinewidth\":0,\"ticks\":\"\"}}}],\"scattercarpet\":[{\"type\":\"scattercarpet\",\"marker\":{\"colorbar\":{\"outlinewidth\":0,\"ticks\":\"\"}}}],\"carpet\":[{\"aaxis\":{\"endlinecolor\":\"#2a3f5f\",\"gridcolor\":\"white\",\"linecolor\":\"white\",\"minorgridcolor\":\"white\",\"startlinecolor\":\"#2a3f5f\"},\"baxis\":{\"endlinecolor\":\"#2a3f5f\",\"gridcolor\":\"white\",\"linecolor\":\"white\",\"minorgridcolor\":\"white\",\"startlinecolor\":\"#2a3f5f\"},\"type\":\"carpet\"}],\"table\":[{\"cells\":{\"fill\":{\"color\":\"#EBF0F8\"},\"line\":{\"color\":\"white\"}},\"header\":{\"fill\":{\"color\":\"#C8D4E3\"},\"line\":{\"color\":\"white\"}},\"type\":\"table\"}],\"barpolar\":[{\"marker\":{\"line\":{\"color\":\"#E5ECF6\",\"width\":0.5},\"pattern\":{\"fillmode\":\"overlay\",\"size\":10,\"solidity\":0.2}},\"type\":\"barpolar\"}],\"pie\":[{\"automargin\":true,\"type\":\"pie\"}]},\"layout\":{\"autotypenumbers\":\"strict\",\"colorway\":[\"#636efa\",\"#EF553B\",\"#00cc96\",\"#ab63fa\",\"#FFA15A\",\"#19d3f3\",\"#FF6692\",\"#B6E880\",\"#FF97FF\",\"#FECB52\"],\"font\":{\"color\":\"#2a3f5f\"},\"hovermode\":\"closest\",\"hoverlabel\":{\"align\":\"left\"},\"paper_bgcolor\":\"white\",\"plot_bgcolor\":\"#E5ECF6\",\"polar\":{\"bgcolor\":\"#E5ECF6\",\"angularaxis\":{\"gridcolor\":\"white\",\"linecolor\":\"white\",\"ticks\":\"\"},\"radialaxis\":{\"gridcolor\":\"white\",\"linecolor\":\"white\",\"ticks\":\"\"}},\"ternary\":{\"bgcolor\":\"#E5ECF6\",\"aaxis\":{\"gridcolor\":\"white\",\"linecolor\":\"white\",\"ticks\":\"\"},\"baxis\":{\"gridcolor\":\"white\",\"linecolor\":\"white\",\"ticks\":\"\"},\"caxis\":{\"gridcolor\":\"white\",\"linecolor\":\"white\",\"ticks\":\"\"}},\"coloraxis\":{\"colorbar\":{\"outlinewidth\":0,\"ticks\":\"\"}},\"colorscale\":{\"sequential\":[[0.0,\"#0d0887\"],[0.1111111111111111,\"#46039f\"],[0.2222222222222222,\"#7201a8\"],[0.3333333333333333,\"#9c179e\"],[0.4444444444444444,\"#bd3786\"],[0.5555555555555556,\"#d8576b\"],[0.6666666666666666,\"#ed7953\"],[0.7777777777777778,\"#fb9f3a\"],[0.8888888888888888,\"#fdca26\"],[1.0,\"#f0f921\"]],\"sequentialminus\":[[0.0,\"#0d0887\"],[0.1111111111111111,\"#46039f\"],[0.2222222222222222,\"#7201a8\"],[0.3333333333333333,\"#9c179e\"],[0.4444444444444444,\"#bd3786\"],[0.5555555555555556,\"#d8576b\"],[0.6666666666666666,\"#ed7953\"],[0.7777777777777778,\"#fb9f3a\"],[0.8888888888888888,\"#fdca26\"],[1.0,\"#f0f921\"]],\"diverging\":[[0,\"#8e0152\"],[0.1,\"#c51b7d\"],[0.2,\"#de77ae\"],[0.3,\"#f1b6da\"],[0.4,\"#fde0ef\"],[0.5,\"#f7f7f7\"],[0.6,\"#e6f5d0\"],[0.7,\"#b8e186\"],[0.8,\"#7fbc41\"],[0.9,\"#4d9221\"],[1,\"#276419\"]]},\"xaxis\":{\"gridcolor\":\"white\",\"linecolor\":\"white\",\"ticks\":\"\",\"title\":{\"standoff\":15},\"zerolinecolor\":\"white\",\"automargin\":true,\"zerolinewidth\":2},\"yaxis\":{\"gridcolor\":\"white\",\"linecolor\":\"white\",\"ticks\":\"\",\"title\":{\"standoff\":15},\"zerolinecolor\":\"white\",\"automargin\":true,\"zerolinewidth\":2},\"scene\":{\"xaxis\":{\"backgroundcolor\":\"#E5ECF6\",\"gridcolor\":\"white\",\"linecolor\":\"white\",\"showbackground\":true,\"ticks\":\"\",\"zerolinecolor\":\"white\",\"gridwidth\":2},\"yaxis\":{\"backgroundcolor\":\"#E5ECF6\",\"gridcolor\":\"white\",\"linecolor\":\"white\",\"showbackground\":true,\"ticks\":\"\",\"zerolinecolor\":\"white\",\"gridwidth\":2},\"zaxis\":{\"backgroundcolor\":\"#E5ECF6\",\"gridcolor\":\"white\",\"linecolor\":\"white\",\"showbackground\":true,\"ticks\":\"\",\"zerolinecolor\":\"white\",\"gridwidth\":2}},\"shapedefaults\":{\"line\":{\"color\":\"#2a3f5f\"}},\"annotationdefaults\":{\"arrowcolor\":\"#2a3f5f\",\"arrowhead\":0,\"arrowwidth\":1},\"geo\":{\"bgcolor\":\"white\",\"landcolor\":\"#E5ECF6\",\"subunitcolor\":\"white\",\"showland\":true,\"showlakes\":true,\"lakecolor\":\"white\"},\"title\":{\"x\":0.05},\"mapbox\":{\"style\":\"light\"}}},\"xaxis\":{\"anchor\":\"y\",\"domain\":[0.0,0.45]},\"yaxis\":{\"anchor\":\"x\",\"domain\":[0.7777777777777778,1.0]},\"xaxis2\":{\"anchor\":\"y2\",\"domain\":[0.55,1.0]},\"yaxis2\":{\"anchor\":\"x2\",\"domain\":[0.7777777777777778,1.0]},\"xaxis3\":{\"anchor\":\"y3\",\"domain\":[0.0,0.45]},\"yaxis3\":{\"anchor\":\"x3\",\"domain\":[0.3888888888888889,0.6111111111111112]},\"xaxis4\":{\"anchor\":\"y4\",\"domain\":[0.55,1.0]},\"yaxis4\":{\"anchor\":\"x4\",\"domain\":[0.3888888888888889,0.6111111111111112]},\"xaxis5\":{\"anchor\":\"y5\",\"domain\":[0.0,0.45]},\"yaxis5\":{\"anchor\":\"x5\",\"domain\":[0.0,0.22222222222222224]},\"xaxis6\":{\"anchor\":\"y6\",\"domain\":[0.55,1.0]},\"yaxis6\":{\"anchor\":\"x6\",\"domain\":[0.0,0.22222222222222224]},\"annotations\":[{\"font\":{\"size\":16},\"showarrow\":false,\"text\":\"Open\",\"x\":0.225,\"xanchor\":\"center\",\"xref\":\"paper\",\"y\":1.0,\"yanchor\":\"bottom\",\"yref\":\"paper\"},{\"font\":{\"size\":16},\"showarrow\":false,\"text\":\"High\",\"x\":0.775,\"xanchor\":\"center\",\"xref\":\"paper\",\"y\":1.0,\"yanchor\":\"bottom\",\"yref\":\"paper\"},{\"font\":{\"size\":16},\"showarrow\":false,\"text\":\"Close\",\"x\":0.225,\"xanchor\":\"center\",\"xref\":\"paper\",\"y\":0.6111111111111112,\"yanchor\":\"bottom\",\"yref\":\"paper\"},{\"font\":{\"size\":16},\"showarrow\":false,\"text\":\"Volume\",\"x\":0.775,\"xanchor\":\"center\",\"xref\":\"paper\",\"y\":0.6111111111111112,\"yanchor\":\"bottom\",\"yref\":\"paper\"},{\"font\":{\"size\":16},\"showarrow\":false,\"text\":\"Low\",\"x\":0.225,\"xanchor\":\"center\",\"xref\":\"paper\",\"y\":0.22222222222222224,\"yanchor\":\"bottom\",\"yref\":\"paper\"}],\"height\":800,\"width\":1000},                        {\"responsive\": true}                    ).then(function(){\n                            \nvar gd = document.getElementById('7d473265-f895-419f-862d-aefc884c007e');\nvar x = new MutationObserver(function (mutations, observer) {{\n        var display = window.getComputedStyle(gd).display;\n        if (!display || display === 'none') {{\n            console.log([gd, 'removed!']);\n            Plotly.purge(gd);\n            observer.disconnect();\n        }}\n}});\n\n// Listen for the removal of the full notebook cells\nvar notebookContainer = gd.closest('#notebook-container');\nif (notebookContainer) {{\n    x.observe(notebookContainer, {childList: true});\n}}\n\n// Listen for the clearing of the current output cell\nvar outputEl = gd.closest('.output');\nif (outputEl) {{\n    x.observe(outputEl, {childList: true});\n}}\n\n                        })                };                });            </script>        </div>"
     },
     "metadata": {},
     "output_type": "display_data"
    }
   ],
   "source": [
    "from plotly.subplots import make_subplots\n",
    "import plotly.graph_objects as go\n",
    "\n",
    "fig = make_subplots(rows=3, cols=2,\n",
    "                    # Set the subplot titles\n",
    "                    subplot_titles= ['Open','High','Close', 'Volume','Low'])\n",
    "#create boxplot visualization of numeric columns\n",
    "fig.add_trace(go.Box(x=btc_price.Open, name='', showlegend=False), row=1, col=1)\n",
    "fig.add_trace(go.Box(x=btc_price.High, name='', showlegend=False), row=1, col=2)\n",
    "fig.add_trace(go.Box(x=btc_price.Close, name='', showlegend=False), row=2, col=1)\n",
    "fig.add_trace(go.Box(x=btc_price.Volume, name='', showlegend=False), row=2, col=2)\n",
    "fig.add_trace(go.Box(x=btc_price.Low, name='', showlegend=False), row=3, col=1)\n",
    "\n",
    "fig.update_layout(height=800, width=1000)\n",
    "fig.show()"
   ],
   "metadata": {
    "collapsed": false,
    "pycharm": {
     "name": "#%%\n"
    }
   }
  },
  {
   "cell_type": "markdown",
   "source": [
    "BIVARIATE ANALYSIS OF BTC PRICES"
   ],
   "metadata": {
    "collapsed": false,
    "pycharm": {
     "name": "#%% md\n"
    }
   }
  },
  {
   "cell_type": "code",
   "execution_count": 267,
   "outputs": [
    {
     "data": {
      "text/plain": "<Figure size 432x288 with 1 Axes>",
      "image/png": "[encoded data removed]"
     },
     "metadata": {
      "needs_background": "light"
     },
     "output_type": "display_data"
    }
   ],
   "source": [
    "plt.scatter(btc_price['Open'],btc_price['Close'], color='orange')\n",
    "plt.title('Open price VS Close price of Bitcoin', fontsize=14)\n",
    "plt.xlabel('Open price', fontsize=14)\n",
    "plt.ylabel('Close price')\n",
    "plt.grid(True)\n",
    "plt.show()"
   ],
   "metadata": {
    "collapsed": false,
    "pycharm": {
     "name": "#%%\n"
    }
   }
  },
  {
   "cell_type": "code",
   "execution_count": 268,
   "outputs": [
    {
     "data": {
      "text/plain": "<Figure size 432x288 with 1 Axes>",
      "image/png": "[encoded data removed]"
     },
     "metadata": {
      "needs_background": "light"
     },
     "output_type": "display_data"
    }
   ],
   "source": [
    "plt.scatter(btc_price['High'],btc_price['Close'], color='red')\n",
    "plt.title('High price VS Close Price of Bitcoin', fontsize=14)\n",
    "plt.xlabel('High price', fontsize=14)\n",
    "plt.ylabel('Close price')\n",
    "plt.grid(True)\n",
    "plt.show()"
   ],
   "metadata": {
    "collapsed": false,
    "pycharm": {
     "name": "#%%\n"
    }
   }
  },
  {
   "cell_type": "code",
   "execution_count": 269,
   "outputs": [
    {
     "data": {
      "text/plain": "<Figure size 432x288 with 1 Axes>",
      "image/png": "[encoded data removed]"
     },
     "metadata": {
      "needs_background": "light"
     },
     "output_type": "display_data"
    }
   ],
   "source": [
    "plt.scatter(btc_price['Low'],btc_price['Close'], color='green')\n",
    "plt.title('Low price VS Close price of Bitcoin', fontsize=14)\n",
    "plt.xlabel('Low price', fontsize=14)\n",
    "plt.ylabel('Close price')\n",
    "plt.grid(True)\n",
    "plt.show() # We can see a linear relationship"
   ],
   "metadata": {
    "collapsed": false,
    "pycharm": {
     "name": "#%%\n"
    }
   }
  },
  {
   "cell_type": "code",
   "execution_count": 270,
   "outputs": [
    {
     "data": {
      "text/plain": "<Figure size 432x288 with 1 Axes>",
      "image/png": "[encoded data removed]"
     },
     "metadata": {
      "needs_background": "light"
     },
     "output_type": "display_data"
    }
   ],
   "source": [
    "plt.scatter(btc_price['Volume'],btc_price['Close'], color='yellow')\n",
    "plt.title('Volume VS Close price of Bitcoin', fontsize=14)\n",
    "plt.xlabel('Volume ', fontsize=14)\n",
    "plt.ylabel('Close price')\n",
    "plt.grid(True)\n",
    "plt.show()"
   ],
   "metadata": {
    "collapsed": false,
    "pycharm": {
     "name": "#%%\n"
    }
   }
  },
  {
   "cell_type": "markdown",
   "source": [
    "MULTIVARIATE ANALYSIS OF BTC PRICES"
   ],
   "metadata": {
    "collapsed": false,
    "pycharm": {
     "name": "#%% md\n"
    }
   }
  },
  {
   "cell_type": "code",
   "execution_count": 271,
   "outputs": [
    {
     "data": {
      "text/plain": "<Figure size 720x720 with 2 Axes>",
      "image/png": "[encoded data removed]"
     },
     "metadata": {
      "needs_background": "light"
     },
     "output_type": "display_data"
    }
   ],
   "source": [
    "import seaborn as sns\n",
    "plt.figure(figsize = (10,10))\n",
    "btc_corr= btc_price.corr()\n",
    "sns.heatmap(btc_corr, center=0, vmin = -1, vmax=1, annot = True, square = True,cmap=\"coolwarm\")\n",
    "plt.show()"
   ],
   "metadata": {
    "collapsed": false,
    "pycharm": {
     "name": "#%%\n"
    }
   }
  },
  {
   "cell_type": "code",
   "execution_count": 272,
   "outputs": [
    {
     "name": "stdout",
     "output_type": "stream",
     "text": [
      "            Open      High       Low     Close    Volume\n",
      "Open    1.000000  0.998791  0.997732  0.996963  0.287200\n",
      "High    0.998791  1.000000  0.997611  0.998695  0.297806\n",
      "Low     0.997732  0.997611  1.000000  0.998424  0.263346\n",
      "Close   0.996963  0.998695  0.998424  1.000000  0.283113\n",
      "Volume  0.287200  0.297806  0.263346  0.283113  1.000000\n"
     ]
    }
   ],
   "source": [
    "#PRINTING CORRELATION VALUES\n",
    "print(btc_price.corr())"
   ],
   "metadata": {
    "collapsed": false,
    "pycharm": {
     "name": "#%%\n"
    }
   }
  },
  {
   "cell_type": "code",
   "execution_count": 273,
   "outputs": [
    {
     "data": {
      "text/plain": "<Figure size 1080x720 with 1 Axes>",
      "image/png": "[encoded data removed]"
     },
     "metadata": {
      "needs_background": "light"
     },
     "output_type": "display_data"
    }
   ],
   "source": [
    "# btc_price.index =btc_price['Date']\n",
    "plt.figure(figsize=(15,10))\n",
    "plt.plot(btc_price['Close'], label=\"Close price history of bitcoin\", color='red')\n",
    "plt.xlabel('Date')\n",
    "plt.ylabel('Close')\n",
    "plt.show()"
   ],
   "metadata": {
    "collapsed": false,
    "pycharm": {
     "name": "#%%\n"
    }
   }
  }
 ],
 "metadata": {
  "kernelspec": {
   "display_name": "Python 3",
   "language": "python",
   "name": "python3"
  },
  "language_info": {
   "codemirror_mode": {
    "name": "ipython",
    "version": 2
   },
   "file_extension": ".py",
   "mimetype": "text/x-python",
   "name": "python",
   "nbconvert_exporter": "python",
   "pygments_lexer": "ipython2",
   "version": "2.7.6"
  }
 },
 "nbformat": 4,
 "nbformat_minor": 0
}