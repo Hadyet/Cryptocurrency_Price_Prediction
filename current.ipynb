{
 "cells": [
  {
   "cell_type": "markdown",
   "id": "158e02fb",
   "metadata": {},
   "source": [
    "# IMPORT DATA\n",
    "Import the data and display first 5 instances"
   ]
  },
  {
   "cell_type": "code",
   "execution_count": 55,
   "id": "cc203984",
   "metadata": {},
   "outputs": [],
   "source": [
    "import joblib\n",
    "import pandas as pd\n",
    "import numpy as np\n",
    "from sklearn.model_selection import train_test_split\n",
    "from sklearn.feature_selection import RFE\n",
    "from sklearn.metrics import r2_score, mean_absolute_error, mean_squared_error"
   ]
  },
  {
   "cell_type": "code",
   "execution_count": 56,
   "outputs": [
    {
     "name": "stdout",
     "output_type": "stream",
     "text": [
      "(14422, 10)\n"
     ]
    }
   ],
   "source": [
    "import yfinance as yf\n",
    "\n",
    "mold = pd.DataFrame()\n",
    "finance = ['BTC','ETH','ADA', 'BNB','USDT','DOT','XRP','UNI','LTC', 'LINK',\n",
    "           'BCH','USDC', 'XLM','THETA','XTZ','DOGE','LUNA', 'FIL','VET','ATOM']\n",
    "names = ['Bitcoin','Ethereum','Cardano','Binance Coin', 'Tether','Polkadot','Ripple', 'Uniswap','Litecoin','Chainlink',\n",
    "         'Bitcoin Cash', 'USD Coin', 'Stellar', 'Theta','Tezos','Dogecoin','Terra','Filecoin','VeChain','Cosmos',]\n",
    "\n",
    "for coin in finance:\n",
    "    index = finance.index(coin)\n",
    "    df = yf.Ticker(f'{coin}-USD').history(start='2020-03-15', end='2022-03-15', interval='1d')\n",
    "    df = pd.DataFrame(df)\n",
    "    df['names'] = names[index]\n",
    "    df['Symbol'] = coin\n",
    "    mold = mold.append(df)\n",
    "\n",
    "print(mold.reset_index())\n",
    "mold.to_csv('data_crypto.csv')\n",
    "\n",
    "# read data\n",
    "df = pd.read_csv('data_crypto.csv')\n",
    "print(df.shape)"
   ],
   "metadata": {
    "collapsed": false,
    "pycharm": {
     "name": "#%%\n"
    }
   }
  },
  {
   "cell_type": "code",
   "execution_count": 57,
   "id": "3505596c",
   "metadata": {},
   "outputs": [
    {
     "data": {
      "text/plain": "        Date         Open         High          Low        Close Symbol\n0 2020-03-15  5201.066895  5836.645020  5169.283203  5392.314941    BTC\n1 2020-03-16  5385.229492  5385.229492  4575.357910  5014.479980    BTC\n2 2020-03-17  5002.578125  5371.348633  4981.909180  5225.629395    BTC\n3 2020-03-18  5227.113770  5331.833984  5069.335938  5238.438477    BTC\n4 2020-03-19  5245.416504  6329.735840  5236.968750  6191.192871    BTC",
      "text/html": "<div>\n<style scoped>\n    .dataframe tbody tr th:only-of-type {\n        vertical-align: middle;\n    }\n\n    .dataframe tbody tr th {\n        vertical-align: top;\n    }\n\n    .dataframe thead th {\n        text-align: right;\n    }\n</style>\n<table border=\"1\" class=\"dataframe\">\n  <thead>\n    <tr style=\"text-align: right;\">\n      <th></th>\n      <th>Date</th>\n      <th>Open</th>\n      <th>High</th>\n      <th>Low</th>\n      <th>Close</th>\n      <th>Symbol</th>\n    </tr>\n  </thead>\n  <tbody>\n    <tr>\n      <th>0</th>\n      <td>2020-03-15</td>\n      <td>5201.066895</td>\n      <td>5836.645020</td>\n      <td>5169.283203</td>\n      <td>5392.314941</td>\n      <td>BTC</td>\n    </tr>\n    <tr>\n      <th>1</th>\n      <td>2020-03-16</td>\n      <td>5385.229492</td>\n      <td>5385.229492</td>\n      <td>4575.357910</td>\n      <td>5014.479980</td>\n      <td>BTC</td>\n    </tr>\n    <tr>\n      <th>2</th>\n      <td>2020-03-17</td>\n      <td>5002.578125</td>\n      <td>5371.348633</td>\n      <td>4981.909180</td>\n      <td>5225.629395</td>\n      <td>BTC</td>\n    </tr>\n    <tr>\n      <th>3</th>\n      <td>2020-03-18</td>\n      <td>5227.113770</td>\n      <td>5331.833984</td>\n      <td>5069.335938</td>\n      <td>5238.438477</td>\n      <td>BTC</td>\n    </tr>\n    <tr>\n      <th>4</th>\n      <td>2020-03-19</td>\n      <td>5245.416504</td>\n      <td>6329.735840</td>\n      <td>5236.968750</td>\n      <td>6191.192871</td>\n      <td>BTC</td>\n    </tr>\n  </tbody>\n</table>\n</div>"
     },
     "execution_count": 57,
     "metadata": {},
     "output_type": "execute_result"
    }
   ],
   "source": [
    "# Date is in object, I will convert it to readable python date\n",
    "df['Date'] = pd.to_datetime(df.Date)\n",
    "\n",
    "# Drop columns\n",
    "df = df.drop(['Dividends','Stock Splits','names', 'Volume'], axis=1)\n",
    "df.head(5)"
   ]
  },
  {
   "cell_type": "markdown",
   "source": [
    "ENCODING SYMBOL"
   ],
   "metadata": {
    "collapsed": false,
    "pycharm": {
     "name": "#%% md\n"
    }
   }
  },
  {
   "cell_type": "code",
   "execution_count": 58,
   "outputs": [
    {
     "data": {
      "text/plain": "            Date         Open         High          Low        Close  Symbol\n0     2020-03-15  5201.066895  5836.645020  5169.283203  5392.314941       1\n1     2020-03-16  5385.229492  5385.229492  4575.357910  5014.479980       1\n2     2020-03-17  5002.578125  5371.348633  4981.909180  5225.629395       1\n3     2020-03-18  5227.113770  5331.833984  5069.335938  5238.438477       1\n4     2020-03-19  5245.416504  6329.735840  5236.968750  6191.192871       1\n...          ...          ...          ...          ...          ...     ...\n14417 2022-03-11    28.047722    28.389145    27.091694    27.528900      20\n14418 2022-03-12    27.527025    28.227278    27.215895    27.219019      20\n14419 2022-03-13    27.215071    27.495592    26.077883    26.297186      20\n14420 2022-03-14    26.296465    27.120045    25.862419    26.839888      20\n14421 2022-03-15    26.837160    27.666176    26.222807    26.909143      20\n\n[14422 rows x 6 columns]",
      "text/html": "<div>\n<style scoped>\n    .dataframe tbody tr th:only-of-type {\n        vertical-align: middle;\n    }\n\n    .dataframe tbody tr th {\n        vertical-align: top;\n    }\n\n    .dataframe thead th {\n        text-align: right;\n    }\n</style>\n<table border=\"1\" class=\"dataframe\">\n  <thead>\n    <tr style=\"text-align: right;\">\n      <th></th>\n      <th>Date</th>\n      <th>Open</th>\n      <th>High</th>\n      <th>Low</th>\n      <th>Close</th>\n      <th>Symbol</th>\n    </tr>\n  </thead>\n  <tbody>\n    <tr>\n      <th>0</th>\n      <td>2020-03-15</td>\n      <td>5201.066895</td>\n      <td>5836.645020</td>\n      <td>5169.283203</td>\n      <td>5392.314941</td>\n      <td>1</td>\n    </tr>\n    <tr>\n      <th>1</th>\n      <td>2020-03-16</td>\n      <td>5385.229492</td>\n      <td>5385.229492</td>\n      <td>4575.357910</td>\n      <td>5014.479980</td>\n      <td>1</td>\n    </tr>\n    <tr>\n      <th>2</th>\n      <td>2020-03-17</td>\n      <td>5002.578125</td>\n      <td>5371.348633</td>\n      <td>4981.909180</td>\n      <td>5225.629395</td>\n      <td>1</td>\n    </tr>\n    <tr>\n      <th>3</th>\n      <td>2020-03-18</td>\n      <td>5227.113770</td>\n      <td>5331.833984</td>\n      <td>5069.335938</td>\n      <td>5238.438477</td>\n      <td>1</td>\n    </tr>\n    <tr>\n      <th>4</th>\n      <td>2020-03-19</td>\n      <td>5245.416504</td>\n      <td>6329.735840</td>\n      <td>5236.968750</td>\n      <td>6191.192871</td>\n      <td>1</td>\n    </tr>\n    <tr>\n      <th>...</th>\n      <td>...</td>\n      <td>...</td>\n      <td>...</td>\n      <td>...</td>\n      <td>...</td>\n      <td>...</td>\n    </tr>\n    <tr>\n      <th>14417</th>\n      <td>2022-03-11</td>\n      <td>28.047722</td>\n      <td>28.389145</td>\n      <td>27.091694</td>\n      <td>27.528900</td>\n      <td>20</td>\n    </tr>\n    <tr>\n      <th>14418</th>\n      <td>2022-03-12</td>\n      <td>27.527025</td>\n      <td>28.227278</td>\n      <td>27.215895</td>\n      <td>27.219019</td>\n      <td>20</td>\n    </tr>\n    <tr>\n      <th>14419</th>\n      <td>2022-03-13</td>\n      <td>27.215071</td>\n      <td>27.495592</td>\n      <td>26.077883</td>\n      <td>26.297186</td>\n      <td>20</td>\n    </tr>\n    <tr>\n      <th>14420</th>\n      <td>2022-03-14</td>\n      <td>26.296465</td>\n      <td>27.120045</td>\n      <td>25.862419</td>\n      <td>26.839888</td>\n      <td>20</td>\n    </tr>\n    <tr>\n      <th>14421</th>\n      <td>2022-03-15</td>\n      <td>26.837160</td>\n      <td>27.666176</td>\n      <td>26.222807</td>\n      <td>26.909143</td>\n      <td>20</td>\n    </tr>\n  </tbody>\n</table>\n<p>14422 rows × 6 columns</p>\n</div>"
     },
     "execution_count": 58,
     "metadata": {},
     "output_type": "execute_result"
    }
   ],
   "source": [
    "# ordinal encoding-----mapping desired order with a dictionary\n",
    "coins_dict= {'BTC':1,'ETH':2,'ADA':3, 'BNB':4,'USDT':5,'DOT':6,'XRP':7,'UNI':8,'LTC':9, 'LINK':10,\n",
    "           'BCH':11,'USDC':12,'XLM':13,'THETA':14,'XTZ':15,'DOGE':16,'LUNA':17, 'FIL':18,'VET':19,'ATOM':20}\n",
    "\n",
    "\n",
    "\n",
    "# assignong the values\n",
    "df['Symbol'] = df.Symbol.map(coins_dict)\n",
    "df"
   ],
   "metadata": {
    "collapsed": false,
    "pycharm": {
     "name": "#%%\n"
    }
   }
  },
  {
   "cell_type": "code",
   "execution_count": 59,
   "outputs": [
    {
     "data": {
      "text/plain": "            Date         Open         High          Low        Close  Symbol\n0     2020-03-15  5201.066895  5836.645020  5169.283203  5392.314941       1\n1     2020-03-16  5385.229492  5385.229492  4575.357910  5014.479980       1\n2     2020-03-17  5002.578125  5371.348633  4981.909180  5225.629395       1\n3     2020-03-18  5227.113770  5331.833984  5069.335938  5238.438477       1\n4     2020-03-19  5245.416504  6329.735840  5236.968750  6191.192871       1\n...          ...          ...          ...          ...          ...     ...\n14417 2022-03-11    28.047722    28.389145    27.091694    27.528900      20\n14418 2022-03-12    27.527025    28.227278    27.215895    27.219019      20\n14419 2022-03-13    27.215071    27.495592    26.077883    26.297186      20\n14420 2022-03-14    26.296465    27.120045    25.862419    26.839888      20\n14421 2022-03-15    26.837160    27.666176    26.222807    26.909143      20\n\n[14422 rows x 6 columns]",
      "text/html": "<div>\n<style scoped>\n    .dataframe tbody tr th:only-of-type {\n        vertical-align: middle;\n    }\n\n    .dataframe tbody tr th {\n        vertical-align: top;\n    }\n\n    .dataframe thead th {\n        text-align: right;\n    }\n</style>\n<table border=\"1\" class=\"dataframe\">\n  <thead>\n    <tr style=\"text-align: right;\">\n      <th></th>\n      <th>Date</th>\n      <th>Open</th>\n      <th>High</th>\n      <th>Low</th>\n      <th>Close</th>\n      <th>Symbol</th>\n    </tr>\n  </thead>\n  <tbody>\n    <tr>\n      <th>0</th>\n      <td>2020-03-15</td>\n      <td>5201.066895</td>\n      <td>5836.645020</td>\n      <td>5169.283203</td>\n      <td>5392.314941</td>\n      <td>1</td>\n    </tr>\n    <tr>\n      <th>1</th>\n      <td>2020-03-16</td>\n      <td>5385.229492</td>\n      <td>5385.229492</td>\n      <td>4575.357910</td>\n      <td>5014.479980</td>\n      <td>1</td>\n    </tr>\n    <tr>\n      <th>2</th>\n      <td>2020-03-17</td>\n      <td>5002.578125</td>\n      <td>5371.348633</td>\n      <td>4981.909180</td>\n      <td>5225.629395</td>\n      <td>1</td>\n    </tr>\n    <tr>\n      <th>3</th>\n      <td>2020-03-18</td>\n      <td>5227.113770</td>\n      <td>5331.833984</td>\n      <td>5069.335938</td>\n      <td>5238.438477</td>\n      <td>1</td>\n    </tr>\n    <tr>\n      <th>4</th>\n      <td>2020-03-19</td>\n      <td>5245.416504</td>\n      <td>6329.735840</td>\n      <td>5236.968750</td>\n      <td>6191.192871</td>\n      <td>1</td>\n    </tr>\n    <tr>\n      <th>...</th>\n      <td>...</td>\n      <td>...</td>\n      <td>...</td>\n      <td>...</td>\n      <td>...</td>\n      <td>...</td>\n    </tr>\n    <tr>\n      <th>14417</th>\n      <td>2022-03-11</td>\n      <td>28.047722</td>\n      <td>28.389145</td>\n      <td>27.091694</td>\n      <td>27.528900</td>\n      <td>20</td>\n    </tr>\n    <tr>\n      <th>14418</th>\n      <td>2022-03-12</td>\n      <td>27.527025</td>\n      <td>28.227278</td>\n      <td>27.215895</td>\n      <td>27.219019</td>\n      <td>20</td>\n    </tr>\n    <tr>\n      <th>14419</th>\n      <td>2022-03-13</td>\n      <td>27.215071</td>\n      <td>27.495592</td>\n      <td>26.077883</td>\n      <td>26.297186</td>\n      <td>20</td>\n    </tr>\n    <tr>\n      <th>14420</th>\n      <td>2022-03-14</td>\n      <td>26.296465</td>\n      <td>27.120045</td>\n      <td>25.862419</td>\n      <td>26.839888</td>\n      <td>20</td>\n    </tr>\n    <tr>\n      <th>14421</th>\n      <td>2022-03-15</td>\n      <td>26.837160</td>\n      <td>27.666176</td>\n      <td>26.222807</td>\n      <td>26.909143</td>\n      <td>20</td>\n    </tr>\n  </tbody>\n</table>\n<p>14422 rows × 6 columns</p>\n</div>"
     },
     "execution_count": 59,
     "metadata": {},
     "output_type": "execute_result"
    }
   ],
   "source": [
    "# creating target value\n",
    "df2 = df.copy()\n",
    "df"
   ],
   "metadata": {
    "collapsed": false,
    "pycharm": {
     "name": "#%%\n"
    }
   }
  },
  {
   "cell_type": "code",
   "execution_count": 60,
   "outputs": [
    {
     "data": {
      "text/plain": "        Date         Open         High          Low        Close  Symbol\n0 2020-03-15  5201.066895  5836.645020  5169.283203  5392.314941       1\n1 2020-03-16  5385.229492  5385.229492  4575.357910  5014.479980       1\n2 2020-03-17  5002.578125  5371.348633  4981.909180  5225.629395       1\n3 2020-03-18  5227.113770  5331.833984  5069.335938  5238.438477       1\n4 2020-03-19  5245.416504  6329.735840  5236.968750  6191.192871       1",
      "text/html": "<div>\n<style scoped>\n    .dataframe tbody tr th:only-of-type {\n        vertical-align: middle;\n    }\n\n    .dataframe tbody tr th {\n        vertical-align: top;\n    }\n\n    .dataframe thead th {\n        text-align: right;\n    }\n</style>\n<table border=\"1\" class=\"dataframe\">\n  <thead>\n    <tr style=\"text-align: right;\">\n      <th></th>\n      <th>Date</th>\n      <th>Open</th>\n      <th>High</th>\n      <th>Low</th>\n      <th>Close</th>\n      <th>Symbol</th>\n    </tr>\n  </thead>\n  <tbody>\n    <tr>\n      <th>0</th>\n      <td>2020-03-15</td>\n      <td>5201.066895</td>\n      <td>5836.645020</td>\n      <td>5169.283203</td>\n      <td>5392.314941</td>\n      <td>1</td>\n    </tr>\n    <tr>\n      <th>1</th>\n      <td>2020-03-16</td>\n      <td>5385.229492</td>\n      <td>5385.229492</td>\n      <td>4575.357910</td>\n      <td>5014.479980</td>\n      <td>1</td>\n    </tr>\n    <tr>\n      <th>2</th>\n      <td>2020-03-17</td>\n      <td>5002.578125</td>\n      <td>5371.348633</td>\n      <td>4981.909180</td>\n      <td>5225.629395</td>\n      <td>1</td>\n    </tr>\n    <tr>\n      <th>3</th>\n      <td>2020-03-18</td>\n      <td>5227.113770</td>\n      <td>5331.833984</td>\n      <td>5069.335938</td>\n      <td>5238.438477</td>\n      <td>1</td>\n    </tr>\n    <tr>\n      <th>4</th>\n      <td>2020-03-19</td>\n      <td>5245.416504</td>\n      <td>6329.735840</td>\n      <td>5236.968750</td>\n      <td>6191.192871</td>\n      <td>1</td>\n    </tr>\n  </tbody>\n</table>\n</div>"
     },
     "execution_count": 60,
     "metadata": {},
     "output_type": "execute_result"
    }
   ],
   "source": [
    "df.head(5)"
   ],
   "metadata": {
    "collapsed": false,
    "pycharm": {
     "name": "#%%\n"
    }
   }
  },
  {
   "cell_type": "markdown",
   "source": [
    "###CREATING DEPENDENT AND INDEPENDENT VARIABLES"
   ],
   "metadata": {
    "collapsed": false
   }
  },
  {
   "cell_type": "code",
   "execution_count": 61,
   "outputs": [
    {
     "data": {
      "text/plain": "              Open         High          Low  Symbol\n0      5201.066895  5836.645020  5169.283203       1\n1      5385.229492  5385.229492  4575.357910       1\n2      5002.578125  5371.348633  4981.909180       1\n3      5227.113770  5331.833984  5069.335938       1\n4      5245.416504  6329.735840  5236.968750       1\n...            ...          ...          ...     ...\n14417    28.047722    28.389145    27.091694      20\n14418    27.527025    28.227278    27.215895      20\n14419    27.215071    27.495592    26.077883      20\n14420    26.296465    27.120045    25.862419      20\n14421    26.837160    27.666176    26.222807      20\n\n[14422 rows x 4 columns]",
      "text/html": "<div>\n<style scoped>\n    .dataframe tbody tr th:only-of-type {\n        vertical-align: middle;\n    }\n\n    .dataframe tbody tr th {\n        vertical-align: top;\n    }\n\n    .dataframe thead th {\n        text-align: right;\n    }\n</style>\n<table border=\"1\" class=\"dataframe\">\n  <thead>\n    <tr style=\"text-align: right;\">\n      <th></th>\n      <th>Open</th>\n      <th>High</th>\n      <th>Low</th>\n      <th>Symbol</th>\n    </tr>\n  </thead>\n  <tbody>\n    <tr>\n      <th>0</th>\n      <td>5201.066895</td>\n      <td>5836.645020</td>\n      <td>5169.283203</td>\n      <td>1</td>\n    </tr>\n    <tr>\n      <th>1</th>\n      <td>5385.229492</td>\n      <td>5385.229492</td>\n      <td>4575.357910</td>\n      <td>1</td>\n    </tr>\n    <tr>\n      <th>2</th>\n      <td>5002.578125</td>\n      <td>5371.348633</td>\n      <td>4981.909180</td>\n      <td>1</td>\n    </tr>\n    <tr>\n      <th>3</th>\n      <td>5227.113770</td>\n      <td>5331.833984</td>\n      <td>5069.335938</td>\n      <td>1</td>\n    </tr>\n    <tr>\n      <th>4</th>\n      <td>5245.416504</td>\n      <td>6329.735840</td>\n      <td>5236.968750</td>\n      <td>1</td>\n    </tr>\n    <tr>\n      <th>...</th>\n      <td>...</td>\n      <td>...</td>\n      <td>...</td>\n      <td>...</td>\n    </tr>\n    <tr>\n      <th>14417</th>\n      <td>28.047722</td>\n      <td>28.389145</td>\n      <td>27.091694</td>\n      <td>20</td>\n    </tr>\n    <tr>\n      <th>14418</th>\n      <td>27.527025</td>\n      <td>28.227278</td>\n      <td>27.215895</td>\n      <td>20</td>\n    </tr>\n    <tr>\n      <th>14419</th>\n      <td>27.215071</td>\n      <td>27.495592</td>\n      <td>26.077883</td>\n      <td>20</td>\n    </tr>\n    <tr>\n      <th>14420</th>\n      <td>26.296465</td>\n      <td>27.120045</td>\n      <td>25.862419</td>\n      <td>20</td>\n    </tr>\n    <tr>\n      <th>14421</th>\n      <td>26.837160</td>\n      <td>27.666176</td>\n      <td>26.222807</td>\n      <td>20</td>\n    </tr>\n  </tbody>\n</table>\n<p>14422 rows × 4 columns</p>\n</div>"
     },
     "execution_count": 61,
     "metadata": {},
     "output_type": "execute_result"
    }
   ],
   "source": [
    "X = df.drop(['Date','Close'], axis=1)  #remaining OPEN,HIGH,LOW, symbol\n",
    "X"
   ],
   "metadata": {
    "collapsed": false,
    "pycharm": {
     "name": "#%%\n"
    }
   }
  },
  {
   "cell_type": "code",
   "execution_count": 62,
   "outputs": [
    {
     "data": {
      "text/plain": "((11537, 4), (2885, 4), (11537,), (2885,))"
     },
     "execution_count": 62,
     "metadata": {},
     "output_type": "execute_result"
    }
   ],
   "source": [
    "y = df.Close\n",
    "X_train, X_test, y_train, y_test = train_test_split(X, y, test_size=0.2, random_state=1) #splitting into 80:20\n",
    "\n",
    "X_train.shape, X_test.shape, y_train.shape, y_test.shape"
   ],
   "metadata": {
    "collapsed": false,
    "pycharm": {
     "name": "#%%\n"
    }
   }
  },
  {
   "cell_type": "code",
   "execution_count": 63,
   "outputs": [],
   "source": [
    "# scaler = preprocessing.MinMaxScaler(feature_range=(0,1)) #declaring the scaler\n",
    "# X_train_scaled = scaler.fit_transform(X_train)  #fitting the scaler to the df and transforming\n",
    "# X_test_scaled = scaler.transform(X_test)\n",
    "#\n",
    "# print('\\nScaled data:\\n', X_test_scaled[0:10])\n",
    "# X_train.shape, X_test.shape, y_train.shape, y_test.shape"
   ],
   "metadata": {
    "collapsed": false,
    "pycharm": {
     "name": "#%%\n"
    }
   }
  },
  {
   "cell_type": "code",
   "execution_count": 64,
   "outputs": [],
   "source": [
    "# scale =preprocessing.MinMaxScaler(feature_range=(0,1))\n",
    "# X_scaled =scale.fit_transform(X)\n",
    "# X_comb =pd.DataFrame(X_scaled,df.Symbol, columns=X.columns)\n",
    "# print(X_comb)\n"
   ],
   "metadata": {
    "collapsed": false,
    "pycharm": {
     "name": "#%%\n"
    }
   }
  },
  {
   "cell_type": "code",
   "execution_count": 65,
   "outputs": [
    {
     "name": "stdout",
     "output_type": "stream",
     "text": [
      "               Open          High           Low  Symbol\n",
      "12731     49.387711     51.367092     48.701923      18\n",
      "14390     26.556368     28.290575     26.187340      20\n",
      "8754       0.081324      0.084418      0.079397      13\n",
      "12315     12.138168     14.479794     11.947193      18\n",
      "2611     634.006897    644.124512    612.162476       4\n",
      "...             ...           ...           ...     ...\n",
      "7957       0.998442      1.004348      0.992794      12\n",
      "10141      2.328073      2.436591      2.300155      15\n",
      "240    15332.350586  15450.329102  15124.959961       1\n",
      "197    10776.613281  10945.347656  10703.893555       1\n",
      "2452      29.164108     30.451855     28.959318       4\n",
      "\n",
      "[2885 rows x 4 columns]\n"
     ]
    }
   ],
   "source": [
    "print(X_test)"
   ],
   "metadata": {
    "collapsed": false,
    "pycharm": {
     "name": "#%%\n"
    }
   }
  },
  {
   "cell_type": "code",
   "execution_count": 66,
   "outputs": [
    {
     "name": "stdout",
     "output_type": "stream",
     "text": [
      "882        428.741791\n",
      "10872        0.002326\n",
      "11620        0.003491\n",
      "9330         0.087195\n",
      "3830        25.230295\n",
      "             ...     \n",
      "905        335.260071\n",
      "5192         0.000172\n",
      "12172        0.008475\n",
      "235      15579.848633\n",
      "13349        0.117249\n",
      "Name: Close, Length: 11537, dtype: float64\n"
     ]
    }
   ],
   "source": [
    "print(y_train)"
   ],
   "metadata": {
    "collapsed": false,
    "pycharm": {
     "name": "#%%\n"
    }
   }
  },
  {
   "cell_type": "code",
   "execution_count": 67,
   "outputs": [
    {
     "name": "stdout",
     "output_type": "stream",
     "text": [
      "               Open          High           Low  Symbol\n",
      "882      390.838104    432.904602    379.710876       2\n",
      "10872      0.002313      0.002361      0.002283      16\n",
      "11620      0.003425      0.003529      0.003415      17\n",
      "9330       0.087488      0.088151      0.084488      14\n",
      "3830      23.590525     25.577707     23.333549       6\n",
      "...             ...           ...           ...     ...\n",
      "905      388.038391    394.172272    316.774353       2\n",
      "5192       0.000169      0.000174      0.000169       8\n",
      "12172      0.008450      0.008507      0.008278      17\n",
      "235    14133.733398  15706.404297  14102.088867       1\n",
      "13349      0.106157      0.118003      0.105394      19\n",
      "\n",
      "[11537 rows x 4 columns]\n"
     ]
    }
   ],
   "source": [
    "print(X_train)"
   ],
   "metadata": {
    "collapsed": false,
    "pycharm": {
     "name": "#%%\n"
    }
   }
  },
  {
   "cell_type": "code",
   "execution_count": 68,
   "outputs": [
    {
     "name": "stdout",
     "output_type": "stream",
     "text": [
      "12731       51.307907\n",
      "14390       27.043846\n",
      "8754         0.083808\n",
      "12315       13.718911\n",
      "2611       624.563293\n",
      "             ...     \n",
      "7957         1.000145\n",
      "10141        2.372494\n",
      "240      15290.902344\n",
      "197      10709.652344\n",
      "2452        30.117603\n",
      "Name: Close, Length: 2885, dtype: float64\n"
     ]
    }
   ],
   "source": [
    "print(y_test)"
   ],
   "metadata": {
    "collapsed": false,
    "pycharm": {
     "name": "#%%\n"
    }
   }
  },
  {
   "cell_type": "code",
   "execution_count": 69,
   "outputs": [
    {
     "name": "stdout",
     "output_type": "stream",
     "text": [
      "[4.95172424e+01 2.81411934e+01 8.38740021e-02 ... 1.57013398e+04\n",
      " 1.07969512e+04 3.00295773e+01]\n"
     ]
    }
   ],
   "source": [
    "from sklearn.neighbors import KNeighborsRegressor\n",
    "from sklearn.compose import TransformedTargetRegressor\n",
    "from sklearn.metrics import r2_score\n",
    "from sklearn.preprocessing import MinMaxScaler\n",
    "\n",
    "regressor = KNeighborsRegressor(n_neighbors=1)\n",
    "\n",
    "model = TransformedTargetRegressor(regressor= regressor,\n",
    "                                        transformer = MinMaxScaler()\n",
    "                                        ).fit(X_train,y_train)\n",
    "y_pred = model.predict(X_test)\n",
    "print(y_pred)"
   ],
   "metadata": {
    "collapsed": false,
    "pycharm": {
     "name": "#%%\n"
    }
   }
  },
  {
   "cell_type": "code",
   "execution_count": 70,
   "outputs": [
    {
     "name": "stdout",
     "output_type": "stream",
     "text": [
      "12731       51.307907\n",
      "14390       27.043846\n",
      "8754         0.083808\n",
      "12315       13.718911\n",
      "2611       624.563293\n",
      "             ...     \n",
      "7957         1.000145\n",
      "10141        2.372494\n",
      "240      15290.902344\n",
      "197      10709.652344\n",
      "2452        30.117603\n",
      "Name: Close, Length: 2885, dtype: float64\n"
     ]
    }
   ],
   "source": [
    "print(y_test)"
   ],
   "metadata": {
    "collapsed": false,
    "pycharm": {
     "name": "#%%\n"
    }
   }
  },
  {
   "cell_type": "code",
   "execution_count": 71,
   "outputs": [
    {
     "name": "stdout",
     "output_type": "stream",
     "text": [
      "R2 score:  0.9994583828144564\n",
      "Mean absolute error: 35.63\n"
     ]
    }
   ],
   "source": [
    "mae = mean_absolute_error(y_test, y_pred)\n",
    "r2 = r2_score(y_test, y_pred)\n",
    "\n",
    "print('R2 score: ', r2)\n",
    "print('Mean absolute error: {:.2f}'. format(mae))"
   ],
   "metadata": {
    "collapsed": false,
    "pycharm": {
     "name": "#%%\n"
    }
   }
  },
  {
   "cell_type": "code",
   "execution_count": 72,
   "outputs": [
    {
     "name": "stdout",
     "output_type": "stream",
     "text": [
      "\n",
      "Mean absolute percentage error: \n",
      " 0.03707449723420161\n"
     ]
    }
   ],
   "source": [
    "from sklearn.metrics import mean_absolute_percentage_error\n",
    "\n",
    "mape = mean_absolute_percentage_error(y_test, y_pred)\n",
    "print('\\nMean absolute percentage error: \\n', mape)\n"
   ],
   "metadata": {
    "collapsed": false,
    "pycharm": {
     "name": "#%%\n"
    }
   }
  },
  {
   "cell_type": "code",
   "execution_count": 73,
   "outputs": [
    {
     "data": {
      "text/plain": "['K.sav']"
     },
     "execution_count": 73,
     "metadata": {},
     "output_type": "execute_result"
    }
   ],
   "source": [
    "# saving the model for use\n",
    "saved_model='K.sav'\n",
    "joblib.dump(model,saved_model)\n"
   ],
   "metadata": {
    "collapsed": false,
    "pycharm": {
     "name": "#%%\n"
    }
   }
  },
  {
   "cell_type": "code",
   "execution_count": 74,
   "outputs": [
    {
     "name": "stdout",
     "output_type": "stream",
     "text": [
      "0.9994583828144564\n"
     ]
    }
   ],
   "source": [
    "\n",
    "loaded_model=joblib.load(saved_model)\n",
    "result=loaded_model.score(X_test, y_test)\n",
    "print(result)"
   ],
   "metadata": {
    "collapsed": false,
    "pycharm": {
     "name": "#%%\n"
    }
   }
  },
  {
   "cell_type": "code",
   "execution_count": 75,
   "outputs": [
    {
     "data": {
      "text/plain": "             Open        High         Low  Symbol   predicted\n12731   49.387711   51.367092   48.701923      18   49.517242\n14390   26.556368   28.290575   26.187340      20   28.141193\n8754     0.081324    0.084418    0.079397      13    0.083874\n12315   12.138168   14.479794   11.947193      18   12.080750\n2611   634.006897  644.124512  612.162476       4  609.283508",
      "text/html": "<div>\n<style scoped>\n    .dataframe tbody tr th:only-of-type {\n        vertical-align: middle;\n    }\n\n    .dataframe tbody tr th {\n        vertical-align: top;\n    }\n\n    .dataframe thead th {\n        text-align: right;\n    }\n</style>\n<table border=\"1\" class=\"dataframe\">\n  <thead>\n    <tr style=\"text-align: right;\">\n      <th></th>\n      <th>Open</th>\n      <th>High</th>\n      <th>Low</th>\n      <th>Symbol</th>\n      <th>predicted</th>\n    </tr>\n  </thead>\n  <tbody>\n    <tr>\n      <th>12731</th>\n      <td>49.387711</td>\n      <td>51.367092</td>\n      <td>48.701923</td>\n      <td>18</td>\n      <td>49.517242</td>\n    </tr>\n    <tr>\n      <th>14390</th>\n      <td>26.556368</td>\n      <td>28.290575</td>\n      <td>26.187340</td>\n      <td>20</td>\n      <td>28.141193</td>\n    </tr>\n    <tr>\n      <th>8754</th>\n      <td>0.081324</td>\n      <td>0.084418</td>\n      <td>0.079397</td>\n      <td>13</td>\n      <td>0.083874</td>\n    </tr>\n    <tr>\n      <th>12315</th>\n      <td>12.138168</td>\n      <td>14.479794</td>\n      <td>11.947193</td>\n      <td>18</td>\n      <td>12.080750</td>\n    </tr>\n    <tr>\n      <th>2611</th>\n      <td>634.006897</td>\n      <td>644.124512</td>\n      <td>612.162476</td>\n      <td>4</td>\n      <td>609.283508</td>\n    </tr>\n  </tbody>\n</table>\n</div>"
     },
     "execution_count": 75,
     "metadata": {},
     "output_type": "execute_result"
    }
   ],
   "source": [
    "# joining X_test to predicted values\n",
    "X_test_df = X_test.copy()\n",
    "X_test_df['predicted'] = y_pred\n",
    "X_test_df.head()"
   ],
   "metadata": {
    "collapsed": false,
    "pycharm": {
     "name": "#%%\n"
    }
   }
  },
  {
   "cell_type": "markdown",
   "source": [
    "USING TRAINED MODEL FOR A COIN"
   ],
   "metadata": {
    "collapsed": false
   }
  },
  {
   "cell_type": "code",
   "execution_count": 25,
   "outputs": [],
   "source": [
    "import joblib\n",
    "import numpy as np\n",
    "from sklearn.model_selection import train_test_split\n",
    "import yfinance as yf\n",
    "from sklearn.model_selection import train_test_split\n",
    "import datetime as dt\n",
    "\n",
    "\n",
    "#Prediction for individual coins\n",
    "#define function to collect data and returns data for b†c only\n",
    "def retrieve(abb):\n",
    "    start = dt.datetime(2021, 3, 15)\n",
    "    end = dt.datetime.now()\n",
    "    df = yf.download(f'{abb}-USD', start=start, end=end, interval='1d')\n",
    "    df.reset_index(inplace=True)\n",
    "    df_2= df.drop(['Adj Close','Volume'], axis=1)\n",
    "    return df_2\n",
    "\n",
    "#function to collect close column and create new target variables\n",
    "def create(df):\n",
    "    df = df.drop([\"Open\",\"High\",\"Low\",\"Date\"], axis=1) # picking only close\n",
    "    df['predict_1'] = df['Close'].shift(-1)  #Creating new columns for prediction\n",
    "    df['predict_7d'] = df['Close'].shift(-7)\n",
    "    df['predict_30'] = df['Close'].shift(-30)\n",
    "    df['predict_90'] = df['Close'].shift(-90)\n",
    "    dfw = df.dropna().copy()  #drop not available data after shifting\n",
    "    return dfw\n",
    "\n",
    "\n",
    "\n",
    "#Convert df to a numpy array and drop prediction\n",
    "#Separating independent from dependent variables\n",
    "#makes prediction with trained model\n",
    "def create_predict(df_f):\n",
    "    prediction_days = 90\n",
    "    x = np.array(df_f['Close']).reshape(-1, 1)  #.values.reshape(-1,1))\n",
    "    X = x[:len(x)-prediction_days]-1   #Remove last n rows from x data\n",
    "    Y= df_f.drop(['Close'],  axis=1)  # create dependent data\n",
    "    y=Y[:len(Y)-prediction_days]-1\n",
    "    X_train, X_test, y_train, y_test = train_test_split(X, y, test_size=0.4,random_state=1)  #60-40\n",
    "    loaded_model=joblib.load('k.sav')\n",
    "    load = loaded_model.fit(X_train, y_train)\n",
    "    y_get= load.predict(X_test)\n",
    "    return y_get\n",
    "\n",
    "#function to display predicted value specified by user\n",
    "def display(array_orig, period):\n",
    "    array_data= list(array_orig)\n",
    "    # for arr in array_data:\n",
    "    if period == '1day':\n",
    "        value = array_data[0][0]\n",
    "    elif period == '7days':\n",
    "        value = array_data[0][1]\n",
    "    elif period == '30days':\n",
    "        value= array_data[0][2]\n",
    "    elif period == 'Quarter':\n",
    "        value = array_data[0][3]\n",
    "    else:\n",
    "        value = \"Check your input\"\n",
    "    return value\n"
   ],
   "metadata": {
    "collapsed": false,
    "pycharm": {
     "name": "#%%\n"
    }
   }
  },
  {
   "cell_type": "code",
   "execution_count": 26,
   "outputs": [
    {
     "name": "stdout",
     "output_type": "stream",
     "text": [
      "[*********************100%***********************]  1 of 1 completed\n",
      "          Date          Open          High           Low         Close\n",
      "0   2021-03-15  59267.429688  60540.992188  55393.164062  55907.199219\n",
      "1   2021-03-16  55840.785156  56833.179688  53555.027344  56804.902344\n",
      "2   2021-03-17  56825.828125  58969.816406  54528.628906  58870.894531\n",
      "3   2021-03-18  58893.078125  60116.250000  54253.578125  57858.921875\n",
      "4   2021-03-19  57850.441406  59498.375000  56643.703125  58346.652344\n",
      "..         ...           ...           ...           ...           ...\n",
      "471 2022-06-29  20281.169922  20364.156250  19937.791016  20104.023438\n",
      "472 2022-06-30  20108.312500  20141.160156  18729.656250  19784.726562\n",
      "473 2022-07-01  19820.470703  20632.671875  19073.708984  19269.367188\n",
      "474 2022-07-02  19274.835938  19371.748047  19027.082031  19242.255859\n",
      "475 2022-07-03  19246.560547  19288.025391  18975.353516  18989.697266\n",
      "\n",
      "[476 rows x 5 columns]\n"
     ]
    }
   ],
   "source": [
    "coin = 'BTC'\n",
    "# duration = 7\n",
    "crypto_df = retrieve(coin)\n",
    "print(crypto_df)"
   ],
   "metadata": {
    "collapsed": false,
    "pycharm": {
     "name": "#%%\n"
    }
   }
  },
  {
   "cell_type": "code",
   "execution_count": 27,
   "outputs": [
    {
     "name": "stdout",
     "output_type": "stream",
     "text": [
      "            Close     predict_1    predict_7d    predict_30    predict_90\n",
      "0    55907.199219  56804.902344  54529.144531  63109.695312  39097.859375\n",
      "1    56804.902344  58870.894531  54738.945312  63314.011719  40218.476562\n",
      "2    58870.894531  57858.921875  52774.265625  61572.789062  40406.269531\n",
      "3    57858.921875  58346.652344  51704.160156  60683.820312  38347.062500\n",
      "4    58346.652344  58313.644531  55137.312500  56216.183594  38053.503906\n",
      "..            ...           ...           ...           ...           ...\n",
      "381  45538.675781  46281.644531  43503.847656  37714.875000  20104.023438\n",
      "382  46281.644531  45868.949219  42287.664062  38469.093750  19784.726562\n",
      "383  45868.949219  46453.566406  42782.136719  38529.328125  19269.367188\n",
      "384  46453.566406  46622.675781  42207.671875  37750.453125  19242.255859\n",
      "385  46622.675781  45555.992188  39521.902344  39698.371094  18989.697266\n",
      "\n",
      "[386 rows x 5 columns]\n"
     ]
    }
   ],
   "source": [
    "create = create(crypto_df)\n",
    "print(create)"
   ],
   "metadata": {
    "collapsed": false,
    "pycharm": {
     "name": "#%%\n"
    }
   }
  },
  {
   "cell_type": "code",
   "execution_count": 28,
   "outputs": [
    {
     "name": "stdout",
     "output_type": "stream",
     "text": [
      "[[62209.171875   58481.38671875 58118.578125   42374.6328125 ]\n",
      " [64154.94140625 56941.13671875 49361.5078125  44337.796875  ]\n",
      " [50503.796875   46611.6328125  43159.9296875  38061.0390625 ]\n",
      " [58481.38671875 63225.40234375 57273.6796875  36653.328125  ]\n",
      " [62209.171875   58481.38671875 58118.578125   42374.6328125 ]\n",
      " [44554.80078125 47792.3203125  51752.41015625 61451.23046875]\n",
      " [50581.625      50097.3359375  45896.57421875 39399.5859375 ]\n",
      " [61317.95703125 61526.48046875 57805.56640625 37783.33203125]\n",
      " [58481.38671875 63225.40234375 57273.6796875  36653.328125  ]\n",
      " [58481.38671875 63225.40234375 57273.6796875  36653.328125  ]\n",
      " [34661.4375     35039.8359375  33580.55078125 40692.67578125]\n",
      " [58322.953125   63108.6953125  57355.40234375 34234.1953125 ]\n",
      " [54823.703125   53332.5390625  38435.96875    37336.53515625]\n",
      " [31795.81054688 34291.4453125  46003.484375   61592.94921875]\n",
      " [33745.00390625 34239.1875     38151.98046875 47710.48828125]\n",
      " [38151.98046875 46364.40234375 48846.02734375 61317.95703125]\n",
      " [62025.078125   60929.8359375  60160.24609375 43176.3984375 ]\n",
      " [46305.4453125  43159.9296875  38137.1796875  47061.6640625 ]\n",
      " [53905.08984375 55032.1171875  40781.73828125 30816.83203125]\n",
      " [45896.57421875 41820.26171875 36951.984375   46452.56640625]\n",
      " [39293.19921875 36683.92578125 34661.4375     49545.1484375 ]\n",
      " [57749.19921875 58757.5546875  55032.1171875  32185.27734375]\n",
      " [46455.05859375 37535.6328125  40217.4765625  47792.3203125 ]\n",
      " [58191.359375   59892.453125   57423.0078125  35286.78125   ]\n",
      " [33471.6328125  40217.4765625  33854.328125   51752.41015625]\n",
      " [38346.0625     32504.66015625 31779.73046875 44962.07421875]\n",
      " [44962.07421875 47259.21875    56040.05859375 49361.5078125 ]\n",
      " [48828.83203125 49943.625      42234.73046875 53568.765625  ]\n",
      " [33471.6328125  40217.4765625  33854.328125   51752.41015625]\n",
      " [57483.7890625  61552.6171875  66970.828125   41732.94140625]\n",
      " [54823.703125   53332.5390625  38435.96875    37336.53515625]\n",
      " [39293.19921875 36683.92578125 34661.4375     49545.1484375 ]\n",
      " [32504.66015625 34433.3359375  32109.69335938 47259.21875   ]\n",
      " [35861.37890625 35551.515625   33745.00390625 50024.375     ]\n",
      " [46201.14453125 50783.5390625  43176.3984375  41142.9296875 ]\n",
      " [51761.2734375  54823.703125   37303.69140625 29806.34765625]\n",
      " [58802.77734375 49879.53515625 35861.37890625 40868.5546875 ]\n",
      " [67565.828125   65465.83984375 50699.0859375  41440.1640625 ]\n",
      " [49545.1484375  48828.83203125 40692.67578125 59696.1953125 ]\n",
      " [46305.4453125  43159.9296875  38137.1796875  47061.6640625 ]\n",
      " [58244.00390625 63313.01171875 58802.77734375 33854.328125  ]\n",
      " [43797.1171875  47095.9453125  52632.53515625 61124.67578125]\n",
      " [60203.96484375 60682.8203125  55858.796875   33797.01171875]\n",
      " [64948.9609375  60367.01171875 47242.3046875  44117.4453125 ]\n",
      " [50503.796875   46611.6328125  43159.9296875  38061.0390625 ]\n",
      " [58917.83203125 58191.359375   53554.109375   34433.3359375 ]\n",
      " [46759.1875     37303.69140625 39096.859375   44427.2890625 ]\n",
      " [47095.9453125  49338.17578125 46062.26953125 64948.9609375 ]\n",
      " [61552.6171875  61392.6171875  63556.87109375 43098.69921875]\n",
      " [38151.98046875 46364.40234375 48846.02734375 61317.95703125]\n",
      " [56040.05859375 62025.078125   64994.23046875 41910.6015625 ]\n",
      " [61526.48046875 64154.94140625 49367.84765625 37153.6015625 ]\n",
      " [51513.8125     57483.7890625  62969.046875   47344.21875   ]\n",
      " [44882.91015625 47782.359375   54967.22265625 50503.796875  ]\n",
      " [46305.4453125  43159.9296875  38137.1796875  47061.6640625 ]\n",
      " [46305.4453125  43159.9296875  38137.1796875  47061.6640625 ]\n",
      " [58481.38671875 63225.40234375 57273.6796875  36653.328125  ]\n",
      " [33559.70703125 39096.859375   34234.1953125  49943.625     ]\n",
      " [46716.578125   48959.7890625  47266.51953125 60160.24609375]\n",
      " [49545.1484375  48828.83203125 40692.67578125 59696.1953125 ]\n",
      " [33559.70703125 39096.859375   34234.1953125  49943.625     ]\n",
      " [43789.89453125 55360.44921875 62226.96484375 47587.85546875]\n",
      " [31779.73046875 32109.69335938 47792.3203125  56040.05859375]\n",
      " [50503.796875   46611.6328125  43159.9296875  38061.0390625 ]\n",
      " [46305.4453125  43159.9296875  38137.1796875  47061.6640625 ]\n",
      " [49111.90234375 54770.578125   63225.40234375 47685.8125    ]\n",
      " [35349.1875     41625.1953125  49545.1484375  60691.265625  ]\n",
      " [58191.359375   59892.453125   57423.0078125  35286.78125   ]\n",
      " [36683.92578125 33559.70703125 35039.8359375  48828.83203125]\n",
      " [29806.34765625 37336.53515625 44800.1875     61552.6171875 ]\n",
      " [51761.2734375  54823.703125   37303.69140625 29806.34765625]\n",
      " [45592.63671875 44694.359375   46390.421875   67565.828125  ]\n",
      " [30816.83203125 35349.1875     44694.359375   60891.1796875 ]\n",
      " [58244.00390625 63313.01171875 58802.77734375 33854.328125  ]\n",
      " [34291.4453125  42234.546875   49320.65234375 62209.171875  ]\n",
      " [52632.53515625 46062.26953125 51513.8125     49199.703125  ]\n",
      " [61552.6171875  61392.6171875  63556.87109375 43098.69921875]\n",
      " [36683.92578125 33559.70703125 35039.8359375  48828.83203125]\n",
      " [48828.83203125 49943.625      42234.73046875 53568.765625  ]\n",
      " [50503.796875   46611.6328125  43159.9296875  38061.0390625 ]\n",
      " [57273.6796875  57228.828125   50821.1953125  38285.02734375]\n",
      " [46455.05859375 37535.6328125  40217.4765625  47792.3203125 ]\n",
      " [33745.00390625 34239.1875     38151.98046875 47710.48828125]\n",
      " [33797.01171875 31779.73046875 44554.80078125 55360.44921875]\n",
      " [46716.578125   48959.7890625  47266.51953125 60160.24609375]\n",
      " [57228.828125   50699.0859375  47177.125      43192.234375  ]\n",
      " [56279.42578125 57004.42578125 50783.5390625  37074.28125   ]\n",
      " [57827.05078125 57355.40234375 35677.12890625 40007.421875  ]\n",
      " [64154.94140625 56941.13671875 49361.5078125  44337.796875  ]\n",
      " [48627.51171875 47587.85546875 40679.41796875 41076.99609375]\n",
      " [57483.7890625  61552.6171875  66970.828125   41732.94140625]\n",
      " [46716.578125   48959.7890625  47266.51953125 60160.24609375]\n",
      " [50581.625      50097.3359375  45896.57421875 39399.5859375 ]\n",
      " [46455.05859375 37535.6328125  40217.4765625  47792.3203125 ]\n",
      " [47242.3046875  47664.42578125 41732.94140625 41981.92578125]\n",
      " [48901.40234375 50024.375      43207.5390625  57273.6796875 ]\n",
      " [34769.58203125 34615.06640625 31675.69335938 49338.17578125]\n",
      " [49338.17578125 46941.21875    48277.36328125 60367.01171875]\n",
      " [48115.94140625 53804.984375   61887.83203125 46443.7109375 ]\n",
      " [46759.1875     37303.69140625 39096.859375   44427.2890625 ]\n",
      " [47053.984375   51752.41015625 41033.54296875 54814.078125  ]\n",
      " [47671.12109375 48895.72265625 41556.90234375 38736.26953125]\n",
      " [33580.55078125 40007.421875   48904.4921875  65991.8359375 ]\n",
      " [57483.7890625  61552.6171875  66970.828125   41732.94140625]\n",
      " [62025.078125   60929.8359375  60160.24609375 43176.3984375 ]\n",
      " [44962.07421875 47259.21875    56040.05859375 49361.5078125 ]\n",
      " [31636.77929688 33571.1171875  34291.4453125  43573.5078125 ]\n",
      " [67565.828125   65465.83984375 50699.0859375  41440.1640625 ]\n",
      " [60362.79296875 61003.40625    56279.42578125 36275.8046875 ]\n",
      " [59792.234375   61571.7890625  58231.31640625 32876.37109375]\n",
      " [60203.96484375 60682.8203125  55858.796875   33797.01171875]\n",
      " [60160.24609375 56288.2890625  48895.72265625 42196.515625  ]\n",
      " [46003.484375   49320.65234375 47091.4921875  64468.52734375]\n",
      " [49149.53515625 42908.40234375 36701.59765625 46364.40234375]\n",
      " [62025.078125   60929.8359375  60160.24609375 43176.3984375 ]\n",
      " [44962.07421875 47259.21875    56040.05859375 49361.5078125 ]\n",
      " [51761.2734375  54823.703125   37303.69140625 29806.34765625]\n",
      " [61552.6171875  61392.6171875  63556.87109375 43098.69921875]\n",
      " [39293.19921875 36683.92578125 34661.4375     49545.1484375 ]]\n"
     ]
    }
   ],
   "source": [
    "predict_df = create_predict(create)\n",
    "print(predict_df)"
   ],
   "metadata": {
    "collapsed": false,
    "pycharm": {
     "name": "#%%\n"
    }
   }
  },
  {
   "cell_type": "code",
   "execution_count": 29,
   "outputs": [
    {
     "name": "stdout",
     "output_type": "stream",
     "text": [
      "62209.171875\n"
     ]
    }
   ],
   "source": [
    "day='1day'\n",
    "display1=display(predict_df, day)\n",
    "print(display1)\n"
   ],
   "metadata": {
    "collapsed": false,
    "pycharm": {
     "name": "#%%\n"
    }
   }
  }
 ],
 "metadata": {
  "kernelspec": {
   "display_name": "Python 3",
   "language": "python",
   "name": "python3"
  },
  "language_info": {
   "codemirror_mode": {
    "name": "ipython",
    "version": 3
   },
   "file_extension": ".py",
   "mimetype": "text/x-python",
   "name": "python",
   "nbconvert_exporter": "python",
   "pygments_lexer": "ipython3",
   "version": "3.8.8"
  }
 },
 "nbformat": 4,
 "nbformat_minor": 5
}